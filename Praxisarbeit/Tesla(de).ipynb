{
 "cells": [
  {
   "cell_type": "markdown",
   "metadata": {},
   "source": [
    "# Tesla Gigafactory in Brandenburg "
   ]
  },
  {
   "cell_type": "markdown",
   "metadata": {},
   "source": [
    "### Eine Untersuchung der Einstellung der Anwohner auf Grundlage der Sentiment Analyse von Twitter Daten"
   ]
  },
  {
   "cell_type": "markdown",
   "metadata": {},
   "source": [
    "##### Vladimir Burlay"
   ]
  },
  {
   "cell_type": "code",
   "execution_count": 2,
   "metadata": {
    "scrolled": true
   },
   "outputs": [
    {
     "name": "stderr",
     "output_type": "stream",
     "text": [
      "\n",
      "Attaching package: 'NLP'\n",
      "\n",
      "\n",
      "The following object is masked from 'package:ggplot2':\n",
      "\n",
      "    annotate\n",
      "\n",
      "\n",
      "The following object is masked from 'package:httr':\n",
      "\n",
      "    content\n",
      "\n",
      "\n",
      "Warning message:\n",
      "\"package 'tm' was built under R version 3.6.3\"\n",
      "Warning message:\n",
      "\"package 'RCurl' was built under R version 3.6.2\"\n",
      "\n",
      "Attaching package: 'RCurl'\n",
      "\n",
      "\n",
      "The following object is masked from 'package:tidyr':\n",
      "\n",
      "    complete\n",
      "\n",
      "\n",
      "Warning message:\n",
      "\"package 'wordcloud' was built under R version 3.6.3\"\n",
      "Loading required package: RColorBrewer\n",
      "\n",
      "Warning message:\n",
      "\"package 'wordcloud2' was built under R version 3.6.3\"\n"
     ]
    }
   ],
   "source": [
    "library(\"twitteR\")\n",
    "library(\"ROAuth\")\n",
    "library(\"modest\")\n",
    "library(\"httr\")\n",
    "library(\"tidyverse\")\n",
    "library(\"lubridate\")\n",
    "library(\"twitteR\")\n",
    "library(\"ROAuth\")\n",
    "library(\"modest\")\n",
    "library(\"httr\")\n",
    "library(\"tidyverse\")\n",
    "library(\"lubridate\")\n",
    "library(\"NLP\")\n",
    "library(\"tm\")\n",
    "library(\"stringr\")\n",
    "library(\"RCurl\")\n",
    "library(\"base64enc\")\n",
    "library(\"ggplot2\")\n",
    "library(\"wordcloud\")\n",
    "library(\"wordcloud2\")"
   ]
  },
  {
   "cell_type": "code",
   "execution_count": null,
   "metadata": {},
   "outputs": [],
   "source": [
    "rm(list=ls()) # Clear the workspace\n",
    "graphics.off() # Clear graphics"
   ]
  },
  {
   "cell_type": "code",
   "execution_count": 3,
   "metadata": {},
   "outputs": [],
   "source": [
    "appname <- \"Tesla_Deutschland\"\n",
    "requestURL <- \"https://api.twitter.com/oauth/request_token\"\n",
    "accessURL <- \"http://api.twitter.com/oauth/request_token\"\n",
    "authURL <- \"https://api.twitter.com/oauth/authorize\"\n",
    "consumerKey <- \"w0PvfM0RYDOiSE0wt5cGwGvsE\"\n",
    "consumerSecret <- \"86ICYBhyAXFJP0ptksNDC84IreCj5ra0wZzaAP9KLv8gnLTfny\"\n",
    "accessToken = \"1257760441759039491-DAa9FuFn6i9E5rOGhck6LHMRRfmP9Z\"\n",
    "accessSecret = \"mcRPGNHWWO5yd7oyxJoAppu2Yij5ZaiQyo9EbxmT1XCj8\""
   ]
  },
  {
   "cell_type": "code",
   "execution_count": 4,
   "metadata": {},
   "outputs": [
    {
     "name": "stdout",
     "output_type": "stream",
     "text": [
      "[1] \"Using direct authentication\"\n"
     ]
    }
   ],
   "source": [
    "setup_twitter_oauth(consumer_key = consumerKey,\n",
    "                    consumer_secret = consumerSecret,\n",
    "                    access_token = accessToken,\n",
    "                    access_secret = accessSecret)"
   ]
  },
  {
   "cell_type": "markdown",
   "metadata": {},
   "source": [
    "Um die Hashtag-Analyse mit R zu demonstrieren, \n",
    "wird hier das Hashtag-Schlüsselwort #GigaBerlin Nummer eins für die Studie ausgewählt.\n",
    "Abgesehen von diesem Suchschlüsselwort erfordert die Funktion searchTwitter ()\n",
    "auch die maximale Anzahl von Tweets, die der Funktionsaufruf von den Tweets zurückgibt. \n",
    "Betrachten wir für diese Diskussion die maximale Anzahl als 500. \n",
    "Abhängig von der Geschwindigkeit Ihres Internets und \n",
    "dem Datenverkehr auf dem Twitter-Server erhalten Sie innerhalb\n",
    "weniger Minuten eine Antwort auf ein R-Listenklassenobjekt und ein R-Listenklassenobjekt"
   ]
  },
  {
   "cell_type": "code",
   "execution_count": 67,
   "metadata": {},
   "outputs": [
    {
     "name": "stderr",
     "output_type": "stream",
     "text": [
      "Warning message in doRppAPICall(\"search/tweets\", n, params = params, retryOnRateLimit = retryOnRateLimit, :\n",
      "\"500 tweets were requested but the API can only return 10\"\n"
     ]
    },
    {
     "data": {
      "text/html": [
       "'list'"
      ],
      "text/latex": [
       "'list'"
      ],
      "text/markdown": [
       "'list'"
      ],
      "text/plain": [
       "[1] \"list\""
      ]
     },
     "metadata": {},
     "output_type": "display_data"
    }
   ],
   "source": [
    "tweets <- searchTwitter(\"#GigaBerlin\" ,lang =\"de\", n = 500)\n",
    "mode(tweets)"
   ]
  },
  {
   "cell_type": "code",
   "execution_count": 68,
   "metadata": {},
   "outputs": [
    {
     "data": {
      "text/html": [
       "10"
      ],
      "text/latex": [
       "10"
      ],
      "text/markdown": [
       "10"
      ],
      "text/plain": [
       "[1] 10"
      ]
     },
     "metadata": {},
     "output_type": "display_data"
    }
   ],
   "source": [
    "length(tweets)"
   ]
  },
  {
   "cell_type": "code",
   "execution_count": 69,
   "metadata": {
    "collapsed": true
   },
   "outputs": [
    {
     "name": "stdout",
     "output_type": "stream",
     "text": [
      "List of 1\n",
      " $ :Reference class 'status' [package \"twitteR\"] with 17 fields\n",
      "  ..$ text         : chr \"Akkus von #CATL für #Tesla mit einer Lebensdauer von angeblich 1,6 Millionen Kilometern, angeblich ohne Kobalt \"| __truncated__\n",
      "  ..$ favorited    : logi FALSE\n",
      "  ..$ favoriteCount: num 0\n",
      "  ..$ replyToSN    : chr(0) \n",
      "  ..$ created      : POSIXct[1:1], format: \"2020-05-17 04:24:30\"\n",
      "  ..$ truncated    : logi TRUE\n",
      "  ..$ replyToSID   : chr(0) \n",
      "  ..$ id           : chr \"1261875217175109632\"\n",
      "  ..$ replyToUID   : chr(0) \n",
      "  ..$ statusSource : chr \"<a href=\\\"https://mobile.twitter.com\\\" rel=\\\"nofollow\\\">Twitter Web App</a>\"\n",
      "  ..$ screenName   : chr \"sustephan\"\n",
      "  ..$ retweetCount : num 0\n",
      "  ..$ isRetweet    : logi FALSE\n",
      "  ..$ retweeted    : logi FALSE\n",
      "  ..$ longitude    : chr(0) \n",
      "  ..$ latitude     : chr(0) \n",
      "  ..$ urls         :'data.frame':\t1 obs. of  5 variables:\n",
      "  .. ..$ url         : chr \"https://t.co/StxUGHVHHE\"\n",
      "  .. ..$ expanded_url: chr \"https://twitter.com/i/web/status/1261875217175109632\"\n",
      "  .. ..$ display_url : chr \"twitter.com/i/web/status/1…\"\n",
      "  .. ..$ start_index : num 116\n",
      "  .. ..$ stop_index  : num 139\n",
      "  ..and 53 methods, of which 39 are  possibly relevant:\n",
      "  ..  getCreated, getFavoriteCount, getFavorited, getId, getIsRetweet,\n",
      "  ..  getLatitude, getLongitude, getReplyToSID, getReplyToSN, getReplyToUID,\n",
      "  ..  getRetweetCount, getRetweeted, getRetweeters, getRetweets, getScreenName,\n",
      "  ..  getStatusSource, getText, getTruncated, getUrls, initialize, setCreated,\n",
      "  ..  setFavoriteCount, setFavorited, setId, setIsRetweet, setLatitude,\n",
      "  ..  setLongitude, setReplyToSID, setReplyToSN, setReplyToUID,\n",
      "  ..  setRetweetCount, setRetweeted, setScreenName, setStatusSource, setText,\n",
      "  ..  setTruncated, setUrls, toDataFrame, toDataFrame#twitterObj\n"
     ]
    }
   ],
   "source": [
    "str(head(tweets,1))"
   ]
  },
  {
   "cell_type": "code",
   "execution_count": null,
   "metadata": {},
   "outputs": [],
   "source": [
    "Da der Datenrahmen die effizienteste Struktur für die Verarbeitung von Datensätzen ist,\n",
    "ist es jetzt erforderlich, jedes Listenelement in den Datenrahmen zu konvertieren und\n",
    "diese zeilenweise in einen einzelnen Rahmen zu binden.\n",
    "Dies kann auf elegante Weise mit dem Funktionsaufruf do.call () erfolgen,\n",
    "wie hier gezeigt:"
   ]
  },
  {
   "cell_type": "code",
   "execution_count": 70,
   "metadata": {},
   "outputs": [],
   "source": [
    "tweetsDF<- do.call(\"rbind\",lapply(tweets, as.data.frame))"
   ]
  },
  {
   "cell_type": "code",
   "execution_count": null,
   "metadata": {},
   "outputs": [],
   "source": [
    "Die Funktion lapply () konvertiert zuerst jede Liste in einen Datenrahmen, \n",
    "dann bindet do.call () diese nacheinander. Jetzt haben wir eine Reihe \n",
    "von Datensätzen mit 16 Feldern (eines weniger als die Liste!) \n",
    "In einem regulären Format zur Analyse bereit.\n",
    "Hier werden wir hauptsächlich das \"erstellte\" Feld betrachten,\n",
    "um das Verteilungsmuster der Ankunft von Tweets zu untersuchen."
   ]
  },
  {
   "cell_type": "code",
   "execution_count": 71,
   "metadata": {},
   "outputs": [
    {
     "data": {
      "text/html": [
       "16"
      ],
      "text/latex": [
       "16"
      ],
      "text/markdown": [
       "16"
      ],
      "text/plain": [
       "[1] 16"
      ]
     },
     "metadata": {},
     "output_type": "display_data"
    }
   ],
   "source": [
    "length(head(tweetsDF,1))"
   ]
  },
  {
   "cell_type": "code",
   "execution_count": 72,
   "metadata": {},
   "outputs": [
    {
     "name": "stdout",
     "output_type": "stream",
     "text": [
      "'data.frame':\t1 obs. of  16 variables:\n",
      " $ text         : chr \"Akkus von #CATL für #Tesla mit einer Lebensdauer von angeblich 1,6 Millionen Kilometern, angeblich ohne Kobalt \"| __truncated__\n",
      " $ favorited    : logi FALSE\n",
      " $ favoriteCount: num 0\n",
      " $ replyToSN    : chr NA\n",
      " $ created      : POSIXct, format: \"2020-05-17 04:24:30\"\n",
      " $ truncated    : logi TRUE\n",
      " $ replyToSID   : logi NA\n",
      " $ id           : chr \"1261875217175109632\"\n",
      " $ replyToUID   : chr NA\n",
      " $ statusSource : chr \"<a href=\\\"https://mobile.twitter.com\\\" rel=\\\"nofollow\\\">Twitter Web App</a>\"\n",
      " $ screenName   : chr \"sustephan\"\n",
      " $ retweetCount : num 0\n",
      " $ isRetweet    : logi FALSE\n",
      " $ retweeted    : logi FALSE\n",
      " $ longitude    : logi NA\n",
      " $ latitude     : logi NA\n"
     ]
    }
   ],
   "source": [
    "str(head(tweetsDF,1))"
   ]
  },
  {
   "cell_type": "code",
   "execution_count": 73,
   "metadata": {
    "collapsed": true
   },
   "outputs": [
    {
     "data": {
      "text/html": [
       "<table>\n",
       "<caption>A data.frame: 10 × 16</caption>\n",
       "<thead>\n",
       "\t<tr><th scope=col>text</th><th scope=col>favorited</th><th scope=col>favoriteCount</th><th scope=col>replyToSN</th><th scope=col>created</th><th scope=col>truncated</th><th scope=col>replyToSID</th><th scope=col>id</th><th scope=col>replyToUID</th><th scope=col>statusSource</th><th scope=col>screenName</th><th scope=col>retweetCount</th><th scope=col>isRetweet</th><th scope=col>retweeted</th><th scope=col>longitude</th><th scope=col>latitude</th></tr>\n",
       "\t<tr><th scope=col>&lt;chr&gt;</th><th scope=col>&lt;lgl&gt;</th><th scope=col>&lt;dbl&gt;</th><th scope=col>&lt;chr&gt;</th><th scope=col>&lt;dttm&gt;</th><th scope=col>&lt;lgl&gt;</th><th scope=col>&lt;lgl&gt;</th><th scope=col>&lt;chr&gt;</th><th scope=col>&lt;chr&gt;</th><th scope=col>&lt;chr&gt;</th><th scope=col>&lt;chr&gt;</th><th scope=col>&lt;dbl&gt;</th><th scope=col>&lt;lgl&gt;</th><th scope=col>&lt;lgl&gt;</th><th scope=col>&lt;lgl&gt;</th><th scope=col>&lt;lgl&gt;</th></tr>\n",
       "</thead>\n",
       "<tbody>\n",
       "\t<tr><td><span style=white-space:pre-wrap>Akkus von #CATL für #Tesla mit einer Lebensdauer von angeblich 1,6 Millionen Kilometern, angeblich ohne Kobalt und… https://t.co/StxUGHVHHE                                                        </span></td><td>FALSE</td><td> 0</td><td><span style=white-space:pre-wrap>NA      </span></td><td>2020-05-17 04:24:30</td><td> TRUE</td><td>NA</td><td>1261875217175109632</td><td><span style=white-space:pre-wrap>NA      </span></td><td><span style=white-space:pre-wrap>&lt;a href=\"https://mobile.twitter.com\" rel=\"nofollow\"&gt;Twitter Web App&lt;/a&gt;             </span></td><td><span style=white-space:pre-wrap>sustephan      </span></td><td>0</td><td>FALSE</td><td>FALSE</td><td>NA</td><td>NA</td></tr>\n",
       "\t<tr><td><span style=white-space:pre-wrap>Die erste Bodenramme steht seit zwei Tagem auf dem #GigaBerlin Gelände. Zwei Testpfähle sind nordwestlich davon zu… https://t.co/ejvIVrwoRO                                                        </span></td><td>FALSE</td><td>14</td><td><span style=white-space:pre-wrap>NA      </span></td><td>2020-05-15 23:48:29</td><td> TRUE</td><td>NA</td><td>1261443365377359872</td><td><span style=white-space:pre-wrap>NA      </span></td><td>&lt;a href=\"http://twitter.com/download/android\" rel=\"nofollow\"&gt;Twitter for Android&lt;/a&gt;</td><td>Gruenheide4futr</td><td>0</td><td>FALSE</td><td>FALSE</td><td>NA</td><td>NA</td></tr>\n",
       "\t<tr><td><span style=white-space:pre-wrap>RT @Gruenheide4futr: Mittlerweile fahren Güterzüge vier mal die Woche zum \n",
       "#GigaBerlin Gelände und laden Schotter ab. Dieser wird für den S…                                                      </span></td><td>FALSE</td><td> 0</td><td><span style=white-space:pre-wrap>NA      </span></td><td>2020-05-13 20:42:24</td><td>FALSE</td><td>NA</td><td>1260671758912413702</td><td><span style=white-space:pre-wrap>NA      </span></td><td><span style=white-space:pre-wrap>&lt;a href=\"http://twitter.com/#!/download/ipad\" rel=\"nofollow\"&gt;Twitter for iPad&lt;/a&gt;   </span></td><td><span style=white-space:pre-wrap>Prius_57       </span></td><td>2</td><td> TRUE</td><td>FALSE</td><td>NA</td><td>NA</td></tr>\n",
       "\t<tr><td><span style=white-space:pre-wrap>Großer Vorteil für #GigaBerlin &lt;U+0001F698&gt;&lt;U+0001F50B&gt;, die bereits direkt ans #Tesla &lt;U+0001F497&gt; Gelände angrenzende Industriebahn. Anbindung an… https://t.co/dG3lHpdNLw                       </span></td><td>FALSE</td><td> 1</td><td><span style=white-space:pre-wrap>NA      </span></td><td>2020-05-13 11:50:24</td><td> TRUE</td><td>NA</td><td>1260537877001355266</td><td><span style=white-space:pre-wrap>NA      </span></td><td>&lt;a href=\"http://twitter.com/download/android\" rel=\"nofollow\"&gt;Twitter for Android&lt;/a&gt;</td><td><span style=white-space:pre-wrap>ANNICI1        </span></td><td>0</td><td>FALSE</td><td>FALSE</td><td>NA</td><td>NA</td></tr>\n",
       "\t<tr><td><span style=white-space:pre-wrap>Mittlerweile fahren Güterzüge vier mal die Woche zum \n",
       "#GigaBerlin Gelände und laden Schotter ab. Dieser wird für de… https://t.co/7lL7JGq9v4                                                      </span></td><td>FALSE</td><td>18</td><td><span style=white-space:pre-wrap>NA      </span></td><td>2020-05-13 11:21:51</td><td> TRUE</td><td>NA</td><td>1260530694381600769</td><td><span style=white-space:pre-wrap>NA      </span></td><td><span style=white-space:pre-wrap>&lt;a href=\"https://mobile.twitter.com\" rel=\"nofollow\"&gt;Twitter Web App&lt;/a&gt;             </span></td><td>Gruenheide4futr</td><td>2</td><td>FALSE</td><td>FALSE</td><td>NA</td><td>NA</td></tr>\n",
       "\t<tr><td><span style=white-space:pre-wrap>RT @teslamag: Nächster Teil-Antrag für #GigaBerlin liegt vor – Fundament-Frage wohl weiter nicht geklärt https://t.co/SVXHAih5Lk #Grünheide…                                                       </span></td><td>FALSE</td><td> 0</td><td><span style=white-space:pre-wrap>NA      </span></td><td>2020-05-12 15:31:35</td><td>FALSE</td><td>NA</td><td>1260231151802875904</td><td><span style=white-space:pre-wrap>NA      </span></td><td>&lt;a href=\"http://twitter.com/download/android\" rel=\"nofollow\"&gt;Twitter for Android&lt;/a&gt;</td><td><span style=white-space:pre-wrap>GermanTesla    </span></td><td>2</td><td> TRUE</td><td>FALSE</td><td>NA</td><td>NA</td></tr>\n",
       "\t<tr><td><span style=white-space:pre-wrap>RT @teslamag: Nächster Teil-Antrag für #GigaBerlin liegt vor – Fundament-Frage wohl weiter nicht geklärt https://t.co/SVXHAih5Lk #Grünheide…                                                       </span></td><td>FALSE</td><td> 0</td><td><span style=white-space:pre-wrap>NA      </span></td><td>2020-05-12 10:00:46</td><td>FALSE</td><td>NA</td><td>1260147898794336256</td><td><span style=white-space:pre-wrap>NA      </span></td><td><span style=white-space:pre-wrap>&lt;a href=\"http://tapbots.com/tweetbot\" rel=\"nofollow\"&gt;Tweetbot for i&lt;U+039F&gt;S&lt;/a&gt;    </span></td><td><span style=white-space:pre-wrap>golf_sierra    </span></td><td>2</td><td> TRUE</td><td>FALSE</td><td>NA</td><td>NA</td></tr>\n",
       "\t<tr><td><span style=white-space:pre-wrap>@elonmusk fährt sein kalifornisches @Tesla-Werk trotz Behörden-Verbot wieder hoch.\n",
       "Warum sollte sich der exzentrisc… https://t.co/u3Mfd5wgDd                                                      </span></td><td>FALSE</td><td> 1</td><td>elonmusk</td><td>2020-05-12 08:29:01</td><td> TRUE</td><td>NA</td><td>1260124811029774336</td><td>44196397</td><td><span style=white-space:pre-wrap>&lt;a href=\"https://mobile.twitter.com\" rel=\"nofollow\"&gt;Twitter Web App&lt;/a&gt;             </span></td><td><span style=white-space:pre-wrap>Micha_BILD     </span></td><td>0</td><td>FALSE</td><td>FALSE</td><td>NA</td><td>NA</td></tr>\n",
       "\t<tr><td><span style=white-space:pre-wrap>Nächster Teil-Antrag für #GigaBerlin liegt vor – Fundament-Frage wohl weiter nicht geklärt https://t.co/SVXHAih5Lk… https://t.co/MaCMiEnsb0                                                        </span></td><td>FALSE</td><td>10</td><td><span style=white-space:pre-wrap>NA      </span></td><td>2020-05-12 06:55:24</td><td> TRUE</td><td>NA</td><td>1260101249422237696</td><td><span style=white-space:pre-wrap>NA      </span></td><td><span style=white-space:pre-wrap>&lt;a href=\"https://mobile.twitter.com\" rel=\"nofollow\"&gt;Twitter Web App&lt;/a&gt;             </span></td><td><span style=white-space:pre-wrap>teslamag       </span></td><td>2</td><td>FALSE</td><td>FALSE</td><td>NA</td><td>NA</td></tr>\n",
       "\t<tr><td>Es geht voran &lt;U+0001F3D7&gt;&lt;U+0001F3D7&gt;&lt;U+0001F9F1&gt;&lt;U+0001F9F1&gt;auf der Baustelle #GigaBerlin , sieht schon richtig gut aus &lt;U+0001F60D&gt; .... danke für die tollen Aufnahmen… https://t.co/vODx6Hfgyy</td><td>FALSE</td><td> 5</td><td><span style=white-space:pre-wrap>NA      </span></td><td>2020-05-11 19:30:32</td><td> TRUE</td><td>NA</td><td>1259928899028422659</td><td><span style=white-space:pre-wrap>NA      </span></td><td>&lt;a href=\"http://twitter.com/download/android\" rel=\"nofollow\"&gt;Twitter for Android&lt;/a&gt;</td><td><span style=white-space:pre-wrap>ANNICI1        </span></td><td>0</td><td>FALSE</td><td>FALSE</td><td>NA</td><td>NA</td></tr>\n",
       "</tbody>\n",
       "</table>\n"
      ],
      "text/latex": [
       "A data.frame: 10 × 16\n",
       "\\begin{tabular}{llllllllllllllll}\n",
       " text & favorited & favoriteCount & replyToSN & created & truncated & replyToSID & id & replyToUID & statusSource & screenName & retweetCount & isRetweet & retweeted & longitude & latitude\\\\\n",
       " <chr> & <lgl> & <dbl> & <chr> & <dttm> & <lgl> & <lgl> & <chr> & <chr> & <chr> & <chr> & <dbl> & <lgl> & <lgl> & <lgl> & <lgl>\\\\\n",
       "\\hline\n",
       "\t Akkus von \\#CATL für \\#Tesla mit einer Lebensdauer von angeblich 1,6 Millionen Kilometern, angeblich ohne Kobalt und… https://t.co/StxUGHVHHE                                                         & FALSE &  0 & NA       & 2020-05-17 04:24:30 &  TRUE & NA & 1261875217175109632 & NA       & <a href=\"https://mobile.twitter.com\" rel=\"nofollow\">Twitter Web App</a>              & sustephan       & 0 & FALSE & FALSE & NA & NA\\\\\n",
       "\t Die erste Bodenramme steht seit zwei Tagem auf dem \\#GigaBerlin Gelände. Zwei Testpfähle sind nordwestlich davon zu… https://t.co/ejvIVrwoRO                                                         & FALSE & 14 & NA       & 2020-05-15 23:48:29 &  TRUE & NA & 1261443365377359872 & NA       & <a href=\"http://twitter.com/download/android\" rel=\"nofollow\">Twitter for Android</a> & Gruenheide4futr & 0 & FALSE & FALSE & NA & NA\\\\\n",
       "\t RT @Gruenheide4futr: Mittlerweile fahren Güterzüge vier mal die Woche zum \n",
       "\\#GigaBerlin Gelände und laden Schotter ab. Dieser wird für den S…                                                       & FALSE &  0 & NA       & 2020-05-13 20:42:24 & FALSE & NA & 1260671758912413702 & NA       & <a href=\"http://twitter.com/\\#!/download/ipad\" rel=\"nofollow\">Twitter for iPad</a>    & Prius\\_57        & 2 &  TRUE & FALSE & NA & NA\\\\\n",
       "\t Großer Vorteil für \\#GigaBerlin <U+0001F698><U+0001F50B>, die bereits direkt ans \\#Tesla <U+0001F497> Gelände angrenzende Industriebahn. Anbindung an… https://t.co/dG3lHpdNLw                        & FALSE &  1 & NA       & 2020-05-13 11:50:24 &  TRUE & NA & 1260537877001355266 & NA       & <a href=\"http://twitter.com/download/android\" rel=\"nofollow\">Twitter for Android</a> & ANNICI1         & 0 & FALSE & FALSE & NA & NA\\\\\n",
       "\t Mittlerweile fahren Güterzüge vier mal die Woche zum \n",
       "\\#GigaBerlin Gelände und laden Schotter ab. Dieser wird für de… https://t.co/7lL7JGq9v4                                                       & FALSE & 18 & NA       & 2020-05-13 11:21:51 &  TRUE & NA & 1260530694381600769 & NA       & <a href=\"https://mobile.twitter.com\" rel=\"nofollow\">Twitter Web App</a>              & Gruenheide4futr & 2 & FALSE & FALSE & NA & NA\\\\\n",
       "\t RT @teslamag: Nächster Teil-Antrag für \\#GigaBerlin liegt vor – Fundament-Frage wohl weiter nicht geklärt https://t.co/SVXHAih5Lk \\#Grünheide…                                                        & FALSE &  0 & NA       & 2020-05-12 15:31:35 & FALSE & NA & 1260231151802875904 & NA       & <a href=\"http://twitter.com/download/android\" rel=\"nofollow\">Twitter for Android</a> & GermanTesla     & 2 &  TRUE & FALSE & NA & NA\\\\\n",
       "\t RT @teslamag: Nächster Teil-Antrag für \\#GigaBerlin liegt vor – Fundament-Frage wohl weiter nicht geklärt https://t.co/SVXHAih5Lk \\#Grünheide…                                                        & FALSE &  0 & NA       & 2020-05-12 10:00:46 & FALSE & NA & 1260147898794336256 & NA       & <a href=\"http://tapbots.com/tweetbot\" rel=\"nofollow\">Tweetbot for i<U+039F>S</a>     & golf\\_sierra     & 2 &  TRUE & FALSE & NA & NA\\\\\n",
       "\t @elonmusk fährt sein kalifornisches @Tesla-Werk trotz Behörden-Verbot wieder hoch.\n",
       "Warum sollte sich der exzentrisc… https://t.co/u3Mfd5wgDd                                                       & FALSE &  1 & elonmusk & 2020-05-12 08:29:01 &  TRUE & NA & 1260124811029774336 & 44196397 & <a href=\"https://mobile.twitter.com\" rel=\"nofollow\">Twitter Web App</a>              & Micha\\_BILD      & 0 & FALSE & FALSE & NA & NA\\\\\n",
       "\t Nächster Teil-Antrag für \\#GigaBerlin liegt vor – Fundament-Frage wohl weiter nicht geklärt https://t.co/SVXHAih5Lk… https://t.co/MaCMiEnsb0                                                         & FALSE & 10 & NA       & 2020-05-12 06:55:24 &  TRUE & NA & 1260101249422237696 & NA       & <a href=\"https://mobile.twitter.com\" rel=\"nofollow\">Twitter Web App</a>              & teslamag        & 2 & FALSE & FALSE & NA & NA\\\\\n",
       "\t Es geht voran <U+0001F3D7><U+0001F3D7><U+0001F9F1><U+0001F9F1>auf der Baustelle \\#GigaBerlin , sieht schon richtig gut aus <U+0001F60D> .... danke für die tollen Aufnahmen… https://t.co/vODx6Hfgyy & FALSE &  5 & NA       & 2020-05-11 19:30:32 &  TRUE & NA & 1259928899028422659 & NA       & <a href=\"http://twitter.com/download/android\" rel=\"nofollow\">Twitter for Android</a> & ANNICI1         & 0 & FALSE & FALSE & NA & NA\\\\\n",
       "\\end{tabular}\n"
      ],
      "text/markdown": [
       "\n",
       "A data.frame: 10 × 16\n",
       "\n",
       "| text &lt;chr&gt; | favorited &lt;lgl&gt; | favoriteCount &lt;dbl&gt; | replyToSN &lt;chr&gt; | created &lt;dttm&gt; | truncated &lt;lgl&gt; | replyToSID &lt;lgl&gt; | id &lt;chr&gt; | replyToUID &lt;chr&gt; | statusSource &lt;chr&gt; | screenName &lt;chr&gt; | retweetCount &lt;dbl&gt; | isRetweet &lt;lgl&gt; | retweeted &lt;lgl&gt; | longitude &lt;lgl&gt; | latitude &lt;lgl&gt; |\n",
       "|---|---|---|---|---|---|---|---|---|---|---|---|---|---|---|---|\n",
       "| Akkus von #CATL für #Tesla mit einer Lebensdauer von angeblich 1,6 Millionen Kilometern, angeblich ohne Kobalt und… https://t.co/StxUGHVHHE                                                         | FALSE |  0 | NA       | 2020-05-17 04:24:30 |  TRUE | NA | 1261875217175109632 | NA       | &lt;a href=\"https://mobile.twitter.com\" rel=\"nofollow\"&gt;Twitter Web App&lt;/a&gt;              | sustephan       | 0 | FALSE | FALSE | NA | NA |\n",
       "| Die erste Bodenramme steht seit zwei Tagem auf dem #GigaBerlin Gelände. Zwei Testpfähle sind nordwestlich davon zu… https://t.co/ejvIVrwoRO                                                         | FALSE | 14 | NA       | 2020-05-15 23:48:29 |  TRUE | NA | 1261443365377359872 | NA       | &lt;a href=\"http://twitter.com/download/android\" rel=\"nofollow\"&gt;Twitter for Android&lt;/a&gt; | Gruenheide4futr | 0 | FALSE | FALSE | NA | NA |\n",
       "| RT @Gruenheide4futr: Mittlerweile fahren Güterzüge vier mal die Woche zum \n",
       "#GigaBerlin Gelände und laden Schotter ab. Dieser wird für den S…                                                       | FALSE |  0 | NA       | 2020-05-13 20:42:24 | FALSE | NA | 1260671758912413702 | NA       | &lt;a href=\"http://twitter.com/#!/download/ipad\" rel=\"nofollow\"&gt;Twitter for iPad&lt;/a&gt;    | Prius_57        | 2 |  TRUE | FALSE | NA | NA |\n",
       "| Großer Vorteil für #GigaBerlin &lt;U+0001F698&gt;&lt;U+0001F50B&gt;, die bereits direkt ans #Tesla &lt;U+0001F497&gt; Gelände angrenzende Industriebahn. Anbindung an… https://t.co/dG3lHpdNLw                        | FALSE |  1 | NA       | 2020-05-13 11:50:24 |  TRUE | NA | 1260537877001355266 | NA       | &lt;a href=\"http://twitter.com/download/android\" rel=\"nofollow\"&gt;Twitter for Android&lt;/a&gt; | ANNICI1         | 0 | FALSE | FALSE | NA | NA |\n",
       "| Mittlerweile fahren Güterzüge vier mal die Woche zum \n",
       "#GigaBerlin Gelände und laden Schotter ab. Dieser wird für de… https://t.co/7lL7JGq9v4                                                       | FALSE | 18 | NA       | 2020-05-13 11:21:51 |  TRUE | NA | 1260530694381600769 | NA       | &lt;a href=\"https://mobile.twitter.com\" rel=\"nofollow\"&gt;Twitter Web App&lt;/a&gt;              | Gruenheide4futr | 2 | FALSE | FALSE | NA | NA |\n",
       "| RT @teslamag: Nächster Teil-Antrag für #GigaBerlin liegt vor – Fundament-Frage wohl weiter nicht geklärt https://t.co/SVXHAih5Lk #Grünheide…                                                        | FALSE |  0 | NA       | 2020-05-12 15:31:35 | FALSE | NA | 1260231151802875904 | NA       | &lt;a href=\"http://twitter.com/download/android\" rel=\"nofollow\"&gt;Twitter for Android&lt;/a&gt; | GermanTesla     | 2 |  TRUE | FALSE | NA | NA |\n",
       "| RT @teslamag: Nächster Teil-Antrag für #GigaBerlin liegt vor – Fundament-Frage wohl weiter nicht geklärt https://t.co/SVXHAih5Lk #Grünheide…                                                        | FALSE |  0 | NA       | 2020-05-12 10:00:46 | FALSE | NA | 1260147898794336256 | NA       | &lt;a href=\"http://tapbots.com/tweetbot\" rel=\"nofollow\"&gt;Tweetbot for i&lt;U+039F&gt;S&lt;/a&gt;     | golf_sierra     | 2 |  TRUE | FALSE | NA | NA |\n",
       "| @elonmusk fährt sein kalifornisches @Tesla-Werk trotz Behörden-Verbot wieder hoch.\n",
       "Warum sollte sich der exzentrisc… https://t.co/u3Mfd5wgDd                                                       | FALSE |  1 | elonmusk | 2020-05-12 08:29:01 |  TRUE | NA | 1260124811029774336 | 44196397 | &lt;a href=\"https://mobile.twitter.com\" rel=\"nofollow\"&gt;Twitter Web App&lt;/a&gt;              | Micha_BILD      | 0 | FALSE | FALSE | NA | NA |\n",
       "| Nächster Teil-Antrag für #GigaBerlin liegt vor – Fundament-Frage wohl weiter nicht geklärt https://t.co/SVXHAih5Lk… https://t.co/MaCMiEnsb0                                                         | FALSE | 10 | NA       | 2020-05-12 06:55:24 |  TRUE | NA | 1260101249422237696 | NA       | &lt;a href=\"https://mobile.twitter.com\" rel=\"nofollow\"&gt;Twitter Web App&lt;/a&gt;              | teslamag        | 2 | FALSE | FALSE | NA | NA |\n",
       "| Es geht voran &lt;U+0001F3D7&gt;&lt;U+0001F3D7&gt;&lt;U+0001F9F1&gt;&lt;U+0001F9F1&gt;auf der Baustelle #GigaBerlin , sieht schon richtig gut aus &lt;U+0001F60D&gt; .... danke für die tollen Aufnahmen… https://t.co/vODx6Hfgyy | FALSE |  5 | NA       | 2020-05-11 19:30:32 |  TRUE | NA | 1259928899028422659 | NA       | &lt;a href=\"http://twitter.com/download/android\" rel=\"nofollow\"&gt;Twitter for Android&lt;/a&gt; | ANNICI1         | 0 | FALSE | FALSE | NA | NA |\n",
       "\n"
      ],
      "text/plain": [
       "   text                                                                                                                                                                                               \n",
       "1  Akkus von #CATL für #Tesla mit einer Lebensdauer von angeblich 1,6 Millionen Kilometern, angeblich ohne Kobalt und… https://t.co/StxUGHVHHE                                                        \n",
       "2  Die erste Bodenramme steht seit zwei Tagem auf dem #GigaBerlin Gelände. Zwei Testpfähle sind nordwestlich davon zu… https://t.co/ejvIVrwoRO                                                        \n",
       "3  RT @Gruenheide4futr: Mittlerweile fahren Güterzüge vier mal die Woche zum \\n#GigaBerlin Gelände und laden Schotter ab. Dieser wird für den S…                                                      \n",
       "4  Großer Vorteil für #GigaBerlin <U+0001F698><U+0001F50B>, die bereits direkt ans #Tesla <U+0001F497> Gelände angrenzende Industriebahn. Anbindung an… https://t.co/dG3lHpdNLw                       \n",
       "5  Mittlerweile fahren Güterzüge vier mal die Woche zum \\n#GigaBerlin Gelände und laden Schotter ab. Dieser wird für de… https://t.co/7lL7JGq9v4                                                      \n",
       "6  RT @teslamag: Nächster Teil-Antrag für #GigaBerlin liegt vor – Fundament-Frage wohl weiter nicht geklärt https://t.co/SVXHAih5Lk #Grünheide…                                                       \n",
       "7  RT @teslamag: Nächster Teil-Antrag für #GigaBerlin liegt vor – Fundament-Frage wohl weiter nicht geklärt https://t.co/SVXHAih5Lk #Grünheide…                                                       \n",
       "8  @elonmusk fährt sein kalifornisches @Tesla-Werk trotz Behörden-Verbot wieder hoch.\\nWarum sollte sich der exzentrisc… https://t.co/u3Mfd5wgDd                                                      \n",
       "9  Nächster Teil-Antrag für #GigaBerlin liegt vor – Fundament-Frage wohl weiter nicht geklärt https://t.co/SVXHAih5Lk… https://t.co/MaCMiEnsb0                                                        \n",
       "10 Es geht voran <U+0001F3D7><U+0001F3D7><U+0001F9F1><U+0001F9F1>auf der Baustelle #GigaBerlin , sieht schon richtig gut aus <U+0001F60D> .... danke für die tollen Aufnahmen… https://t.co/vODx6Hfgyy\n",
       "   favorited favoriteCount replyToSN created             truncated replyToSID\n",
       "1  FALSE      0            NA        2020-05-17 04:24:30  TRUE     NA        \n",
       "2  FALSE     14            NA        2020-05-15 23:48:29  TRUE     NA        \n",
       "3  FALSE      0            NA        2020-05-13 20:42:24 FALSE     NA        \n",
       "4  FALSE      1            NA        2020-05-13 11:50:24  TRUE     NA        \n",
       "5  FALSE     18            NA        2020-05-13 11:21:51  TRUE     NA        \n",
       "6  FALSE      0            NA        2020-05-12 15:31:35 FALSE     NA        \n",
       "7  FALSE      0            NA        2020-05-12 10:00:46 FALSE     NA        \n",
       "8  FALSE      1            elonmusk  2020-05-12 08:29:01  TRUE     NA        \n",
       "9  FALSE     10            NA        2020-05-12 06:55:24  TRUE     NA        \n",
       "10 FALSE      5            NA        2020-05-11 19:30:32  TRUE     NA        \n",
       "   id                  replyToUID\n",
       "1  1261875217175109632 NA        \n",
       "2  1261443365377359872 NA        \n",
       "3  1260671758912413702 NA        \n",
       "4  1260537877001355266 NA        \n",
       "5  1260530694381600769 NA        \n",
       "6  1260231151802875904 NA        \n",
       "7  1260147898794336256 NA        \n",
       "8  1260124811029774336 44196397  \n",
       "9  1260101249422237696 NA        \n",
       "10 1259928899028422659 NA        \n",
       "   statusSource                                                                        \n",
       "1  <a href=\"https://mobile.twitter.com\" rel=\"nofollow\">Twitter Web App</a>             \n",
       "2  <a href=\"http://twitter.com/download/android\" rel=\"nofollow\">Twitter for Android</a>\n",
       "3  <a href=\"http://twitter.com/#!/download/ipad\" rel=\"nofollow\">Twitter for iPad</a>   \n",
       "4  <a href=\"http://twitter.com/download/android\" rel=\"nofollow\">Twitter for Android</a>\n",
       "5  <a href=\"https://mobile.twitter.com\" rel=\"nofollow\">Twitter Web App</a>             \n",
       "6  <a href=\"http://twitter.com/download/android\" rel=\"nofollow\">Twitter for Android</a>\n",
       "7  <a href=\"http://tapbots.com/tweetbot\" rel=\"nofollow\">Tweetbot for i<U+039F>S</a>    \n",
       "8  <a href=\"https://mobile.twitter.com\" rel=\"nofollow\">Twitter Web App</a>             \n",
       "9  <a href=\"https://mobile.twitter.com\" rel=\"nofollow\">Twitter Web App</a>             \n",
       "10 <a href=\"http://twitter.com/download/android\" rel=\"nofollow\">Twitter for Android</a>\n",
       "   screenName      retweetCount isRetweet retweeted longitude latitude\n",
       "1  sustephan       0            FALSE     FALSE     NA        NA      \n",
       "2  Gruenheide4futr 0            FALSE     FALSE     NA        NA      \n",
       "3  Prius_57        2             TRUE     FALSE     NA        NA      \n",
       "4  ANNICI1         0            FALSE     FALSE     NA        NA      \n",
       "5  Gruenheide4futr 2            FALSE     FALSE     NA        NA      \n",
       "6  GermanTesla     2             TRUE     FALSE     NA        NA      \n",
       "7  golf_sierra     2             TRUE     FALSE     NA        NA      \n",
       "8  Micha_BILD      0            FALSE     FALSE     NA        NA      \n",
       "9  teslamag        2            FALSE     FALSE     NA        NA      \n",
       "10 ANNICI1         0            FALSE     FALSE     NA        NA      "
      ]
     },
     "metadata": {},
     "output_type": "display_data"
    }
   ],
   "source": [
    "tweetsDF"
   ]
  },
  {
   "cell_type": "code",
   "execution_count": 74,
   "metadata": {
    "collapsed": true
   },
   "outputs": [
    {
     "name": "stderr",
     "output_type": "stream",
     "text": [
      "The following objects are masked from sorttweetsDF (pos = 3):\n",
      "\n",
      "    created, favoriteCount, favorited, id, isRetweet, latitude,\n",
      "    longitude, replyToSID, replyToSN, replyToUID, retweetCount,\n",
      "    retweeted, screenName, statusSource, text, truncated\n",
      "\n",
      "\n",
      "The following objects are masked from sorttweetsDF (pos = 4):\n",
      "\n",
      "    created, favoriteCount, favorited, id, isRetweet, latitude,\n",
      "    longitude, replyToSID, replyToSN, replyToUID, retweetCount,\n",
      "    retweeted, screenName, statusSource, text, truncated\n",
      "\n",
      "\n",
      "The following objects are masked from tweetsDF (pos = 5):\n",
      "\n",
      "    created, favoriteCount, favorited, id, isRetweet, latitude,\n",
      "    longitude, replyToSID, replyToSN, replyToUID, retweetCount,\n",
      "    retweeted, screenName, statusSource, text, truncated\n",
      "\n",
      "\n",
      "The following objects are masked from tweets_DF:\n",
      "\n",
      "    created, favoriteCount, favorited, id, isRetweet, latitude,\n",
      "    longitude, replyToSID, replyToSN, replyToUID, retweetCount,\n",
      "    retweeted, screenName, statusSource, text, truncated\n",
      "\n",
      "\n"
     ]
    }
   ],
   "source": [
    "attach(tweetsDF)"
   ]
  },
  {
   "cell_type": "code",
   "execution_count": 75,
   "metadata": {},
   "outputs": [],
   "source": [
    "tweets_DF <- tweetsDF%>%\n",
    "             mutate(Datum = as_datetime(created))  \n"
   ]
  },
  {
   "cell_type": "code",
   "execution_count": 76,
   "metadata": {
    "collapsed": true
   },
   "outputs": [
    {
     "name": "stderr",
     "output_type": "stream",
     "text": [
      "The following objects are masked from sorttweetsDF (pos = 3):\n",
      "\n",
      "    created, Datum, favoriteCount, favorited, id, isRetweet, latitude,\n",
      "    longitude, replyToSID, replyToSN, replyToUID, retweetCount,\n",
      "    retweeted, screenName, statusSource, text, truncated\n",
      "\n",
      "\n",
      "The following objects are masked from sorttweetsDF (pos = 4):\n",
      "\n",
      "    created, Datum, favoriteCount, favorited, id, isRetweet, latitude,\n",
      "    longitude, replyToSID, replyToSN, replyToUID, retweetCount,\n",
      "    retweeted, screenName, statusSource, text, truncated\n",
      "\n",
      "\n",
      "The following objects are masked from tweetsDF:\n",
      "\n",
      "    created, favoriteCount, favorited, id, isRetweet, latitude,\n",
      "    longitude, replyToSID, replyToSN, replyToUID, retweetCount,\n",
      "    retweeted, screenName, statusSource, text, truncated\n",
      "\n",
      "\n",
      "The following objects are masked from tweets_DF (pos = 6):\n",
      "\n",
      "    created, Datum, favoriteCount, favorited, id, isRetweet, latitude,\n",
      "    longitude, replyToSID, replyToSN, replyToUID, retweetCount,\n",
      "    retweeted, screenName, statusSource, text, truncated\n",
      "\n",
      "\n"
     ]
    },
    {
     "data": {
      "text/html": [
       "17"
      ],
      "text/latex": [
       "17"
      ],
      "text/markdown": [
       "17"
      ],
      "text/plain": [
       "[1] 17"
      ]
     },
     "metadata": {},
     "output_type": "display_data"
    }
   ],
   "source": [
    "detach(tweetsDF)\n",
    "attach(tweets_DF)\n",
    "length(head(tweets_DF,1))"
   ]
  },
  {
   "cell_type": "markdown",
   "metadata": {},
   "source": [
    "#### Die Erste Diagram, wie oft tweets angelegt werden"
   ]
  },
  {
   "cell_type": "code",
   "execution_count": 77,
   "metadata": {
    "collapsed": true
   },
   "outputs": [
    {
     "data": {
      "text/plain": [
       " [1] \"2020-05-17 04:24:30 UTC\" \"2020-05-15 23:48:29 UTC\"\n",
       " [3] \"2020-05-13 20:42:24 UTC\" \"2020-05-13 11:50:24 UTC\"\n",
       " [5] \"2020-05-13 11:21:51 UTC\" \"2020-05-12 15:31:35 UTC\"\n",
       " [7] \"2020-05-12 10:00:46 UTC\" \"2020-05-12 08:29:01 UTC\"\n",
       " [9] \"2020-05-12 06:55:24 UTC\" \"2020-05-11 19:30:32 UTC\""
      ]
     },
     "metadata": {},
     "output_type": "display_data"
    }
   ],
   "source": [
    "Datum"
   ]
  },
  {
   "cell_type": "code",
   "execution_count": 78,
   "metadata": {},
   "outputs": [
    {
     "name": "stderr",
     "output_type": "stream",
     "text": [
      "Warning message in breaks[-1L] + breaks[-nB]:\n",
      "\"NAs durch Ganzzahlüberlauf erzeugt\"\n"
     ]
    },
    {
     "data": {
      "image/png": "iVBORw0KGgoAAAANSUhEUgAAA0gAAANICAMAAADKOT/pAAAAMFBMVEUAAABNTU1oaGh8fHyM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\nKBIgQJEAgX80skwd87ejcQAAAABJRU5ErkJggg==",
      "text/plain": [
       "Plot with title \"Histogram vom Anlegen Zeit Tag\""
      ]
     },
     "metadata": {
      "image/png": {
       "height": 420,
       "width": 420
      },
      "text/plain": {
       "height": 420,
       "width": 420
      }
     },
     "output_type": "display_data"
    }
   ],
   "source": [
    "hist(Datum,breaks=15,freq=TRUE,main=\"Histogram vom Anlegen Zeit Tag\")"
   ]
  },
  {
   "cell_type": "markdown",
   "metadata": {},
   "source": [
    "Verktor Ersatz\n",
    "Diese Verteilung zeigt, dass die Mehrheit der Tweets in dieser Gruppe innerhalb der ersten Sekunden kommt und \n",
    "eine viel geringere Anzahl von Tweets in nachfolgenden Zeitintervallen ankommt.\n",
    "Aus der Verteilung geht hervor, dass die Ankunftszeitverteilung einem Poisson-Verteilungsmuster folgt und es nun möglich ist, \n",
    "die Häufigkeit des Auftretens eines Ereignisses in einem bestimmten Zeitintervall zu modellieren."
   ]
  },
  {
   "cell_type": "code",
   "execution_count": 79,
   "metadata": {},
   "outputs": [],
   "source": [
    "sorttweetsDF<-tweets_DF[order(as.integer(Datum)),]\n",
    "detach(tweets_DF)"
   ]
  },
  {
   "cell_type": "markdown",
   "metadata": {},
   "source": [
    "#### Die zweite Diagram, die Häufigkeit des Auftretens eines Ereignisses in einem bestimmten Zeitintervall"
   ]
  },
  {
   "cell_type": "code",
   "execution_count": 80,
   "metadata": {
    "scrolled": false
   },
   "outputs": [
    {
     "name": "stderr",
     "output_type": "stream",
     "text": [
      "The following objects are masked from sorttweetsDF (pos = 3):\n",
      "\n",
      "    created, Datum, favoriteCount, favorited, id, isRetweet, latitude,\n",
      "    longitude, replyToSID, replyToSN, replyToUID, retweetCount,\n",
      "    retweeted, screenName, statusSource, text, truncated\n",
      "\n",
      "\n",
      "The following objects are masked from sorttweetsDF (pos = 4):\n",
      "\n",
      "    created, Datum, favoriteCount, favorited, id, isRetweet, latitude,\n",
      "    longitude, replyToSID, replyToSN, replyToUID, retweetCount,\n",
      "    retweeted, screenName, statusSource, text, truncated\n",
      "\n",
      "\n",
      "The following objects are masked from tweetsDF:\n",
      "\n",
      "    created, favoriteCount, favorited, id, isRetweet, latitude,\n",
      "    longitude, replyToSID, replyToSN, replyToUID, retweetCount,\n",
      "    retweeted, screenName, statusSource, text, truncated\n",
      "\n",
      "\n",
      "The following objects are masked from tweets_DF:\n",
      "\n",
      "    created, Datum, favoriteCount, favorited, id, isRetweet, latitude,\n",
      "    longitude, replyToSID, replyToSN, replyToUID, retweetCount,\n",
      "    retweeted, screenName, statusSource, text, truncated\n",
      "\n",
      "\n"
     ]
    },
    {
     "data": {
      "image/png": "iVBORw0KGgoAAAANSUhEUgAAA0gAAANICAMAAADKOT/pAAAAMFBMVEUAAABNTU1oaGh8fHyM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",
      "text/plain": [
       "Plot with title \"Häufigkeit des Auftretens eines Ereignisses\""
      ]
     },
     "metadata": {
      "image/png": {
       "height": 420,
       "width": 420
      },
      "text/plain": {
       "height": 420,
       "width": 420
      }
     },
     "output_type": "display_data"
    }
   ],
   "source": [
    "attach(sorttweetsDF)\n",
    "hist(as.integer(abs(diff(Datum))),main=\"Häufigkeit des Auftretens eines Ereignisses\")"
   ]
  },
  {
   "cell_type": "code",
   "execution_count": 81,
   "metadata": {},
   "outputs": [
    {
     "data": {
      "text/html": [
       "<style>\n",
       ".list-inline {list-style: none; margin:0; padding: 0}\n",
       ".list-inline>li {display: inline-block}\n",
       ".list-inline>li:not(:last-child)::after {content: \"\\00b7\"; padding: 0 .5ex}\n",
       "</style>\n",
       "<ol class=list-inline><li>10</li><li>17</li></ol>\n"
      ],
      "text/latex": [
       "\\begin{enumerate*}\n",
       "\\item 10\n",
       "\\item 17\n",
       "\\end{enumerate*}\n"
      ],
      "text/markdown": [
       "1. 10\n",
       "2. 17\n",
       "\n",
       "\n"
      ],
      "text/plain": [
       "[1] 10 17"
      ]
     },
     "metadata": {},
     "output_type": "display_data"
    }
   ],
   "source": [
    "dim(sorttweetsDF) "
   ]
  },
  {
   "cell_type": "markdown",
   "metadata": {},
   "source": [
    "#### Corupt zu anlegen. Corupt ist collection von Texten"
   ]
  },
  {
   "cell_type": "code",
   "execution_count": 82,
   "metadata": {},
   "outputs": [],
   "source": [
    "myCorpus <- Corpus(VectorSource(sorttweetsDF$text))"
   ]
  },
  {
   "cell_type": "markdown",
   "metadata": {},
   "source": [
    "convert myCorpus into lowercase"
   ]
  },
  {
   "cell_type": "code",
   "execution_count": 83,
   "metadata": {},
   "outputs": [
    {
     "name": "stderr",
     "output_type": "stream",
     "text": [
      "Warning message in tm_map.SimpleCorpus(myCorpus, content_transformer(tolower)):\n",
      "\"transformation drops documents\"\n"
     ]
    }
   ],
   "source": [
    "myCorpus <- tm_map(myCorpus, content_transformer(tolower))"
   ]
  },
  {
   "cell_type": "markdown",
   "metadata": {},
   "source": [
    "löschen punctuation"
   ]
  },
  {
   "cell_type": "code",
   "execution_count": 84,
   "metadata": {},
   "outputs": [
    {
     "name": "stderr",
     "output_type": "stream",
     "text": [
      "Warning message in tm_map.SimpleCorpus(myCorpus, removePunctuation):\n",
      "\"transformation drops documents\"\n"
     ]
    }
   ],
   "source": [
    "myCorpus <- tm_map(myCorpus, removePunctuation)"
   ]
  },
  {
   "cell_type": "code",
   "execution_count": 85,
   "metadata": {},
   "outputs": [
    {
     "name": "stderr",
     "output_type": "stream",
     "text": [
      "Warning message in tm_map.SimpleCorpus(myCorpus, removeNumbers):\n",
      "\"transformation drops documents\"\n"
     ]
    }
   ],
   "source": [
    "myCorpus <- tm_map(myCorpus, removeNumbers)"
   ]
  },
  {
   "cell_type": "code",
   "execution_count": 86,
   "metadata": {},
   "outputs": [],
   "source": [
    "Textprocessing <- function(x)\n",
    "{gsub(\"http[[:alnum:]]*\",'', x)\n",
    "  gsub('http\\\\S+\\\\s*', '', x) ## Remove URLs\n",
    "  gsub('\\\\b+RT', '', x) ## Remove RT\n",
    "  gsub('#\\\\S+', '', x) ## Remove Hashtags\n",
    "  gsub('@\\\\S+', '', x) ## Remove Mentions\n",
    "  gsub('[[:cntrl:]]', '', x) ## Remove Controls and special characters\n",
    "  gsub(\"\\\\d\", '', x) ## Remove Controls and special characters\n",
    "  gsub('[[:punct:]]', '', x) ## Remove Punctuations\n",
    "  gsub(\"^[[:space:]]*\",\"\",x) ## Remove leading whitespaces\n",
    "  gsub(\"[[:space:]]*$\",\"\",x) ## Remove trailing whitespaces\n",
    "  gsub(' +',' ',x) ## Remove extra whitespaces\n",
    "  gsub(\"#[A-Za-z0-9]+|@[A-Za-z0-9]+|\\\\w+(?:\\\\.\\\\w+)*/\\\\S+\", \"\", x)\n",
    " }"
   ]
  },
  {
   "cell_type": "code",
   "execution_count": 87,
   "metadata": {},
   "outputs": [
    {
     "name": "stderr",
     "output_type": "stream",
     "text": [
      "Warning message in tm_map.SimpleCorpus(myCorpus, Textprocessing):\n",
      "\"transformation drops documents\"\n"
     ]
    }
   ],
   "source": [
    "myCorpus <- tm_map(myCorpus,Textprocessing)"
   ]
  },
  {
   "cell_type": "code",
   "execution_count": 88,
   "metadata": {},
   "outputs": [
    {
     "name": "stderr",
     "output_type": "stream",
     "text": [
      "Warning message in tm_map.SimpleCorpus(myCorpus, stripWhitespace):\n",
      "\"transformation drops documents\"\n"
     ]
    }
   ],
   "source": [
    "myCorpus <- tm_map(myCorpus, stripWhitespace)"
   ]
  },
  {
   "cell_type": "markdown",
   "metadata": {},
   "source": [
    "hinzufügen stopwords\n",
    "stopwords sind Wörter , dich nicht segnifikant"
   ]
  },
  {
   "cell_type": "code",
   "execution_count": 89,
   "metadata": {},
   "outputs": [],
   "source": [
    "mystopwords <- c(stopwords(\"english\"),\"rt\",\"íí\",\"get\",\"like\",\"just\",\"yes\",\"know\",\"will\",\"good\",\"day\",\"people\")"
   ]
  },
  {
   "cell_type": "code",
   "execution_count": null,
   "metadata": {},
   "outputs": [],
   "source": [
    "löschen stopwords"
   ]
  },
  {
   "cell_type": "code",
   "execution_count": 90,
   "metadata": {},
   "outputs": [
    {
     "name": "stderr",
     "output_type": "stream",
     "text": [
      "Warning message in tm_map.SimpleCorpus(myCorpus, removeWords, mystopwords):\n",
      "\"transformation drops documents\"\n"
     ]
    }
   ],
   "source": [
    "myCorpus <- tm_map(myCorpus,removeWords,mystopwords)"
   ]
  },
  {
   "cell_type": "code",
   "execution_count": 91,
   "metadata": {},
   "outputs": [],
   "source": [
    "myCorpus_copy <- myCorpus"
   ]
  },
  {
   "cell_type": "code",
   "execution_count": 92,
   "metadata": {
    "collapsed": true
   },
   "outputs": [
    {
     "name": "stdout",
     "output_type": "stream",
     "text": [
      "[1] es geht voran <U+0001F3D7><U+0001F3D7><U+0001F9F1><U+0001F9F1>auf der baustelle gigaberlin sieht schon\n",
      "richtig gut aus <U+0001F60D> danke für die tollen aufnahmen…\n",
      "httpstcovodxH htt\n",
      "[2] nächster teilantrag für gigaberlin liegt vor –\n",
      "fundamentfrage wohl weiter nicht geklärt httpstcosvxhaihlk…\n",
      "httpstcomacmiensb\n",
      "[460] "
     ]
    },
    {
     "ename": "ERROR",
     "evalue": "Error in x$content[[i]]: Indizierung außerhalb der Grenzen\n",
     "output_type": "error",
     "traceback": [
      "Error in x$content[[i]]: Indizierung außerhalb der Grenzen\nTraceback:\n",
      "1. writeLines(strwrap(as.character(myCorpus_copy[[i]]), 60))",
      "2. strwrap(as.character(myCorpus_copy[[i]]), 60)",
      "3. myCorpus_copy[[i]]",
      "4. `[[.SimpleCorpus`(myCorpus_copy, i)",
      "5. PlainTextDocument(x$content[[i]], id = if (is.null(n)) i else n[i], \n .     language = meta(x, \"language\"))"
     ]
    }
   ],
   "source": [
    "for (i in c(1:2, 460)){\n",
    "  cat(paste0(\"[\", i, \"] \"))\n",
    "  writeLines(strwrap(as.character(myCorpus_copy[[i]]), 60))}"
   ]
  },
  {
   "cell_type": "code",
   "execution_count": 93,
   "metadata": {},
   "outputs": [
    {
     "name": "stderr",
     "output_type": "stream",
     "text": [
      "Warning message in tm_map.SimpleCorpus(myCorpus, stemCompletion, dictionary = myCorpus_copy):\n",
      "\"transformation drops documents\"\n"
     ]
    }
   ],
   "source": [
    "myCorpus <- tm_map(myCorpus, stemCompletion, dictionary=myCorpus_copy)\n",
    "myCorpus <- Corpus(VectorSource(myCorpus))\n",
    "myCorpus <- iconv(x = myCorpus,\"latin1\",\"UTF-8\",sub = \"\")\n",
    "myCorpus <- iconv(x = myCorpus,\"UTF-16LE\", \"UTF-8\",sub = \"\")"
   ]
  },
  {
   "cell_type": "code",
   "execution_count": 94,
   "metadata": {},
   "outputs": [
    {
     "data": {
      "text/plain": [
       "<<TermDocumentMatrix (terms: 105, documents: 10)>>\n",
       "Non-/sparse entries: 163/887\n",
       "Sparsity           : 84%\n",
       "Maximal term length: 25\n",
       "Weighting          : term frequency (tf)"
      ]
     },
     "metadata": {},
     "output_type": "display_data"
    }
   ],
   "source": [
    "tdm <- TermDocumentMatrix(myCorpus_copy,control = list(wordlengths = c(1,Inf)))\n",
    "tdm"
   ]
  },
  {
   "cell_type": "code",
   "execution_count": 95,
   "metadata": {
    "scrolled": true
   },
   "outputs": [
    {
     "data": {
      "text/html": [
       "<style>\n",
       ".list-inline {list-style: none; margin:0; padding: 0}\n",
       ".list-inline>li {display: inline-block}\n",
       ".list-inline>li:not(:last-child)::after {content: \"\\00b7\"; padding: 0 .5ex}\n",
       "</style>\n",
       "<ol class=list-inline><li>'aufnahmen…'</li><li>'aus'</li><li>'baustelle'</li><li>'danke'</li><li>'der'</li><li>'die'</li><li>'für'</li><li>'geht'</li><li>'gigaberlin'</li><li>'gut'</li><li>'httpstcovodxHo/stxughvhhe'</li><li>'richtig'</li><li>'schon'</li><li>'sieht'</li><li>'tollen'</li><li>'voran'</li><li>'\\U0001f3d7\\U0001f3d7\\U0001f9f1\\U0001f9f1auf'</li><li>'\\U0001f60d'</li><li>'fundamentfrage'</li><li>'geklärt'</li><li>'httpstcomacmiensb'</li><li>'httpstcosvxhaihlk…'</li><li>'liegt'</li><li>'nicht'</li><li>'nächster'</li><li>'teilantrag'</li><li>'vor'</li><li>'weiter'</li><li>'wohl'</li><li>'–'</li><li>'behördenverbot'</li><li>'elonmusk'</li><li>'exzentrisc…'</li><li>'fährt'</li><li>'hoch'</li><li>'httpstcoumfdwgdd'</li><li>'kalifornisches'</li><li>'sein'</li><li>'sich'</li><li>'sollte'</li><li>'teslawerk'</li><li>'trotz'</li><li>'warum'</li><li>'wieder'</li><li>'grünheide…'</li><li>'httpstcosvxhaihlk'</li><li>'teslamag'</li><li>'de…'</li><li>'dieser'</li><li>'fahren'</li><li>'gelände'</li><li>'güterzüge'</li><li>'httpstcolljgqv'</li><li>'laden'</li><li>'mal'</li><li>'mittlerweile'</li><li>'schotter'</li><li>'und'</li><li>'vier'</li><li>'wird'</li><li>'woche'</li><li>'zum'</li><li>'anbindung'</li><li>'angrenzende'</li><li>'ans'</li><li>'bereits'</li><li>'direkt'</li><li>'großer'</li><li>'httpstcodglhpqv'</li><li>'industriebahn'</li><li>'tesla'</li><li>'vorteil'</li><li>'…'</li><li>'\\U0001f497'</li><li>'\\U0001f698\\U0001f50b'</li><li>'den'</li><li>'gruenheidefutr'</li><li>'s…'</li><li>'auf'</li><li>'bodenramme'</li><li>'davon'</li><li>'dem'</li><li>'erste'</li><li>'httpstcoejvivrworo'</li><li>'nordwestlich'</li><li>'seit'</li><li>'sind'</li><li>'steht'</li><li>'tagem'</li><li>'testpfähle'</li><li>'zu…'</li><li>'zwei'</li><li>'akkus'</li><li>'angeblich'</li><li>'catl'</li><li>'einer'</li><li>'httpstcostxughvhhe'</li><li>'kilometern'</li><li>'kobalt'</li><li>'lebensdauer'</li><li>'millionen'</li><li>'mit'</li><li>'ohne'</li><li>'und…'</li><li>'von'</li></ol>\n"
      ],
      "text/latex": [
       "\\begin{enumerate*}\n",
       "\\item 'aufnahmen…'\n",
       "\\item 'aus'\n",
       "\\item 'baustelle'\n",
       "\\item 'danke'\n",
       "\\item 'der'\n",
       "\\item 'die'\n",
       "\\item 'für'\n",
       "\\item 'geht'\n",
       "\\item 'gigaberlin'\n",
       "\\item 'gut'\n",
       "\\item 'httpstcovodxHo/stxughvhhe'\n",
       "\\item 'richtig'\n",
       "\\item 'schon'\n",
       "\\item 'sieht'\n",
       "\\item 'tollen'\n",
       "\\item 'voran'\n",
       "\\item '\\textbackslash{}U0001f3d7\\textbackslash{}U0001f3d7\\textbackslash{}U0001f9f1\\textbackslash{}U0001f9f1auf'\n",
       "\\item '\\textbackslash{}U0001f60d'\n",
       "\\item 'fundamentfrage'\n",
       "\\item 'geklärt'\n",
       "\\item 'httpstcomacmiensb'\n",
       "\\item 'httpstcosvxhaihlk…'\n",
       "\\item 'liegt'\n",
       "\\item 'nicht'\n",
       "\\item 'nächster'\n",
       "\\item 'teilantrag'\n",
       "\\item 'vor'\n",
       "\\item 'weiter'\n",
       "\\item 'wohl'\n",
       "\\item '–'\n",
       "\\item 'behördenverbot'\n",
       "\\item 'elonmusk'\n",
       "\\item 'exzentrisc…'\n",
       "\\item 'fährt'\n",
       "\\item 'hoch'\n",
       "\\item 'httpstcoumfdwgdd'\n",
       "\\item 'kalifornisches'\n",
       "\\item 'sein'\n",
       "\\item 'sich'\n",
       "\\item 'sollte'\n",
       "\\item 'teslawerk'\n",
       "\\item 'trotz'\n",
       "\\item 'warum'\n",
       "\\item 'wieder'\n",
       "\\item 'grünheide…'\n",
       "\\item 'httpstcosvxhaihlk'\n",
       "\\item 'teslamag'\n",
       "\\item 'de…'\n",
       "\\item 'dieser'\n",
       "\\item 'fahren'\n",
       "\\item 'gelände'\n",
       "\\item 'güterzüge'\n",
       "\\item 'httpstcolljgqv'\n",
       "\\item 'laden'\n",
       "\\item 'mal'\n",
       "\\item 'mittlerweile'\n",
       "\\item 'schotter'\n",
       "\\item 'und'\n",
       "\\item 'vier'\n",
       "\\item 'wird'\n",
       "\\item 'woche'\n",
       "\\item 'zum'\n",
       "\\item 'anbindung'\n",
       "\\item 'angrenzende'\n",
       "\\item 'ans'\n",
       "\\item 'bereits'\n",
       "\\item 'direkt'\n",
       "\\item 'großer'\n",
       "\\item 'httpstcodglhpqv'\n",
       "\\item 'industriebahn'\n",
       "\\item 'tesla'\n",
       "\\item 'vorteil'\n",
       "\\item '…'\n",
       "\\item '\\textbackslash{}U0001f497'\n",
       "\\item '\\textbackslash{}U0001f698\\textbackslash{}U0001f50b'\n",
       "\\item 'den'\n",
       "\\item 'gruenheidefutr'\n",
       "\\item 's…'\n",
       "\\item 'auf'\n",
       "\\item 'bodenramme'\n",
       "\\item 'davon'\n",
       "\\item 'dem'\n",
       "\\item 'erste'\n",
       "\\item 'httpstcoejvivrworo'\n",
       "\\item 'nordwestlich'\n",
       "\\item 'seit'\n",
       "\\item 'sind'\n",
       "\\item 'steht'\n",
       "\\item 'tagem'\n",
       "\\item 'testpfähle'\n",
       "\\item 'zu…'\n",
       "\\item 'zwei'\n",
       "\\item 'akkus'\n",
       "\\item 'angeblich'\n",
       "\\item 'catl'\n",
       "\\item 'einer'\n",
       "\\item 'httpstcostxughvhhe'\n",
       "\\item 'kilometern'\n",
       "\\item 'kobalt'\n",
       "\\item 'lebensdauer'\n",
       "\\item 'millionen'\n",
       "\\item 'mit'\n",
       "\\item 'ohne'\n",
       "\\item 'und…'\n",
       "\\item 'von'\n",
       "\\end{enumerate*}\n"
      ],
      "text/markdown": [
       "1. 'aufnahmen…'\n",
       "2. 'aus'\n",
       "3. 'baustelle'\n",
       "4. 'danke'\n",
       "5. 'der'\n",
       "6. 'die'\n",
       "7. 'für'\n",
       "8. 'geht'\n",
       "9. 'gigaberlin'\n",
       "10. 'gut'\n",
       "11. 'httpstcovodxHo/stxughvhhe'\n",
       "12. 'richtig'\n",
       "13. 'schon'\n",
       "14. 'sieht'\n",
       "15. 'tollen'\n",
       "16. 'voran'\n",
       "17. '\\U0001f3d7\\U0001f3d7\\U0001f9f1\\U0001f9f1auf'\n",
       "18. '\\U0001f60d'\n",
       "19. 'fundamentfrage'\n",
       "20. 'geklärt'\n",
       "21. 'httpstcomacmiensb'\n",
       "22. 'httpstcosvxhaihlk…'\n",
       "23. 'liegt'\n",
       "24. 'nicht'\n",
       "25. 'nächster'\n",
       "26. 'teilantrag'\n",
       "27. 'vor'\n",
       "28. 'weiter'\n",
       "29. 'wohl'\n",
       "30. '–'\n",
       "31. 'behördenverbot'\n",
       "32. 'elonmusk'\n",
       "33. 'exzentrisc…'\n",
       "34. 'fährt'\n",
       "35. 'hoch'\n",
       "36. 'httpstcoumfdwgdd'\n",
       "37. 'kalifornisches'\n",
       "38. 'sein'\n",
       "39. 'sich'\n",
       "40. 'sollte'\n",
       "41. 'teslawerk'\n",
       "42. 'trotz'\n",
       "43. 'warum'\n",
       "44. 'wieder'\n",
       "45. 'grünheide…'\n",
       "46. 'httpstcosvxhaihlk'\n",
       "47. 'teslamag'\n",
       "48. 'de…'\n",
       "49. 'dieser'\n",
       "50. 'fahren'\n",
       "51. 'gelände'\n",
       "52. 'güterzüge'\n",
       "53. 'httpstcolljgqv'\n",
       "54. 'laden'\n",
       "55. 'mal'\n",
       "56. 'mittlerweile'\n",
       "57. 'schotter'\n",
       "58. 'und'\n",
       "59. 'vier'\n",
       "60. 'wird'\n",
       "61. 'woche'\n",
       "62. 'zum'\n",
       "63. 'anbindung'\n",
       "64. 'angrenzende'\n",
       "65. 'ans'\n",
       "66. 'bereits'\n",
       "67. 'direkt'\n",
       "68. 'großer'\n",
       "69. 'httpstcodglhpqv'\n",
       "70. 'industriebahn'\n",
       "71. 'tesla'\n",
       "72. 'vorteil'\n",
       "73. '…'\n",
       "74. '\\U0001f497'\n",
       "75. '\\U0001f698\\U0001f50b'\n",
       "76. 'den'\n",
       "77. 'gruenheidefutr'\n",
       "78. 's…'\n",
       "79. 'auf'\n",
       "80. 'bodenramme'\n",
       "81. 'davon'\n",
       "82. 'dem'\n",
       "83. 'erste'\n",
       "84. 'httpstcoejvivrworo'\n",
       "85. 'nordwestlich'\n",
       "86. 'seit'\n",
       "87. 'sind'\n",
       "88. 'steht'\n",
       "89. 'tagem'\n",
       "90. 'testpfähle'\n",
       "91. 'zu…'\n",
       "92. 'zwei'\n",
       "93. 'akkus'\n",
       "94. 'angeblich'\n",
       "95. 'catl'\n",
       "96. 'einer'\n",
       "97. 'httpstcostxughvhhe'\n",
       "98. 'kilometern'\n",
       "99. 'kobalt'\n",
       "100. 'lebensdauer'\n",
       "101. 'millionen'\n",
       "102. 'mit'\n",
       "103. 'ohne'\n",
       "104. 'und…'\n",
       "105. 'von'\n",
       "\n",
       "\n"
      ],
      "text/plain": [
       "  [1] \"aufnahmen…\"                \"aus\"                      \n",
       "  [3] \"baustelle\"                 \"danke\"                    \n",
       "  [5] \"der\"                       \"die\"                      \n",
       "  [7] \"für\"                       \"geht\"                     \n",
       "  [9] \"gigaberlin\"                \"gut\"                      \n",
       " [11] \"httpstcovodxHo/stxughvhhe\" \"richtig\"                  \n",
       " [13] \"schon\"                     \"sieht\"                    \n",
       " [15] \"tollen\"                    \"voran\"                    \n",
       " [17] \"<U+0001F3D7><U+0001F3D7><U+0001F9F1><U+0001F9F1>auf\" \"<U+0001F60D>\"             \n",
       " [19] \"fundamentfrage\"            \"geklärt\"                  \n",
       " [21] \"httpstcomacmiensb\"         \"httpstcosvxhaihlk…\"       \n",
       " [23] \"liegt\"                     \"nicht\"                    \n",
       " [25] \"nächster\"                  \"teilantrag\"               \n",
       " [27] \"vor\"                       \"weiter\"                   \n",
       " [29] \"wohl\"                      \"–\"                        \n",
       " [31] \"behördenverbot\"            \"elonmusk\"                 \n",
       " [33] \"exzentrisc…\"               \"fährt\"                    \n",
       " [35] \"hoch\"                      \"httpstcoumfdwgdd\"         \n",
       " [37] \"kalifornisches\"            \"sein\"                     \n",
       " [39] \"sich\"                      \"sollte\"                   \n",
       " [41] \"teslawerk\"                 \"trotz\"                    \n",
       " [43] \"warum\"                     \"wieder\"                   \n",
       " [45] \"grünheide…\"                \"httpstcosvxhaihlk\"        \n",
       " [47] \"teslamag\"                  \"de…\"                      \n",
       " [49] \"dieser\"                    \"fahren\"                   \n",
       " [51] \"gelände\"                   \"güterzüge\"                \n",
       " [53] \"httpstcolljgqv\"            \"laden\"                    \n",
       " [55] \"mal\"                       \"mittlerweile\"             \n",
       " [57] \"schotter\"                  \"und\"                      \n",
       " [59] \"vier\"                      \"wird\"                     \n",
       " [61] \"woche\"                     \"zum\"                      \n",
       " [63] \"anbindung\"                 \"angrenzende\"              \n",
       " [65] \"ans\"                       \"bereits\"                  \n",
       " [67] \"direkt\"                    \"großer\"                   \n",
       " [69] \"httpstcodglhpqv\"           \"industriebahn\"            \n",
       " [71] \"tesla\"                     \"vorteil\"                  \n",
       " [73] \"…\"                         \"<U+0001F497>\"             \n",
       " [75] \"<U+0001F698><U+0001F50B>\"  \"den\"                      \n",
       " [77] \"gruenheidefutr\"            \"s…\"                       \n",
       " [79] \"auf\"                       \"bodenramme\"               \n",
       " [81] \"davon\"                     \"dem\"                      \n",
       " [83] \"erste\"                     \"httpstcoejvivrworo\"       \n",
       " [85] \"nordwestlich\"              \"seit\"                     \n",
       " [87] \"sind\"                      \"steht\"                    \n",
       " [89] \"tagem\"                     \"testpfähle\"               \n",
       " [91] \"zu…\"                       \"zwei\"                     \n",
       " [93] \"akkus\"                     \"angeblich\"                \n",
       " [95] \"catl\"                      \"einer\"                    \n",
       " [97] \"httpstcostxughvhhe\"        \"kilometern\"               \n",
       " [99] \"kobalt\"                    \"lebensdauer\"              \n",
       "[101] \"millionen\"                 \"mit\"                      \n",
       "[103] \"ohne\"                      \"und…\"                     \n",
       "[105] \"von\"                      "
      ]
     },
     "metadata": {},
     "output_type": "display_data"
    }
   ],
   "source": [
    "#freq.terms <- findFreqTerms(tdm, lowfreq =  50)\n",
    "freq.terms <- findFreqTerms(tdm)\n",
    "freq.terms "
   ]
  },
  {
   "cell_type": "code",
   "execution_count": 96,
   "metadata": {},
   "outputs": [],
   "source": [
    "termFreq <- rowSums(as.matrix(tdm))"
   ]
  },
  {
   "cell_type": "code",
   "execution_count": 97,
   "metadata": {},
   "outputs": [],
   "source": [
    "df <- data.frame(term = names(termFreq), freq = termFreq)"
   ]
  },
  {
   "cell_type": "markdown",
   "metadata": {},
   "source": [
    "Filter"
   ]
  },
  {
   "cell_type": "code",
   "execution_count": 99,
   "metadata": {
    "scrolled": true
   },
   "outputs": [
    {
     "data": {
      "text/html": [
       "<table>\n",
       "<caption>A data.frame: 100 × 2</caption>\n",
       "<thead>\n",
       "\t<tr><th scope=col>term</th><th scope=col>freq</th></tr>\n",
       "\t<tr><th scope=col>&lt;fct&gt;</th><th scope=col>&lt;dbl&gt;</th></tr>\n",
       "</thead>\n",
       "<tbody>\n",
       "\t<tr><td>aufnahmen…                                         </td><td>1</td></tr>\n",
       "\t<tr><td>aus                                                </td><td>1</td></tr>\n",
       "\t<tr><td>baustelle                                          </td><td>1</td></tr>\n",
       "\t<tr><td>danke                                              </td><td>1</td></tr>\n",
       "\t<tr><td>der                                                </td><td>2</td></tr>\n",
       "\t<tr><td>die                                                </td><td>5</td></tr>\n",
       "\t<tr><td>für                                                </td><td>8</td></tr>\n",
       "\t<tr><td>geht                                               </td><td>1</td></tr>\n",
       "\t<tr><td>gigaberlin                                         </td><td>8</td></tr>\n",
       "\t<tr><td>gut                                                </td><td>1</td></tr>\n",
       "\t<tr><td>httpstcovodxHo/stxughvhhe                          </td><td>1</td></tr>\n",
       "\t<tr><td>richtig                                            </td><td>1</td></tr>\n",
       "\t<tr><td>schon                                              </td><td>1</td></tr>\n",
       "\t<tr><td>sieht                                              </td><td>1</td></tr>\n",
       "\t<tr><td>tollen                                             </td><td>1</td></tr>\n",
       "\t<tr><td>voran                                              </td><td>1</td></tr>\n",
       "\t<tr><td>&lt;U+0001F3D7&gt;&lt;U+0001F3D7&gt;&lt;U+0001F9F1&gt;&lt;U+0001F9F1&gt;auf</td><td>1</td></tr>\n",
       "\t<tr><td>fundamentfrage                                     </td><td>3</td></tr>\n",
       "\t<tr><td>geklärt                                            </td><td>3</td></tr>\n",
       "\t<tr><td>httpstcomacmiensb                                  </td><td>1</td></tr>\n",
       "\t<tr><td>httpstcosvxhaihlk…                                 </td><td>1</td></tr>\n",
       "\t<tr><td>liegt                                              </td><td>3</td></tr>\n",
       "\t<tr><td>nicht                                              </td><td>3</td></tr>\n",
       "\t<tr><td>nächster                                           </td><td>3</td></tr>\n",
       "\t<tr><td>teilantrag                                         </td><td>3</td></tr>\n",
       "\t<tr><td>vor                                                </td><td>3</td></tr>\n",
       "\t<tr><td>weiter                                             </td><td>3</td></tr>\n",
       "\t<tr><td>wohl                                               </td><td>3</td></tr>\n",
       "\t<tr><td>behördenverbot                                     </td><td>1</td></tr>\n",
       "\t<tr><td>elonmusk                                           </td><td>1</td></tr>\n",
       "\t<tr><td>...</td><td>...</td></tr>\n",
       "\t<tr><td>den               </td><td>1</td></tr>\n",
       "\t<tr><td>gruenheidefutr    </td><td>1</td></tr>\n",
       "\t<tr><td>s…                </td><td>1</td></tr>\n",
       "\t<tr><td>auf               </td><td>1</td></tr>\n",
       "\t<tr><td>bodenramme        </td><td>1</td></tr>\n",
       "\t<tr><td>davon             </td><td>1</td></tr>\n",
       "\t<tr><td>dem               </td><td>1</td></tr>\n",
       "\t<tr><td>erste             </td><td>1</td></tr>\n",
       "\t<tr><td>httpstcoejvivrworo</td><td>1</td></tr>\n",
       "\t<tr><td>nordwestlich      </td><td>1</td></tr>\n",
       "\t<tr><td>seit              </td><td>1</td></tr>\n",
       "\t<tr><td>sind              </td><td>1</td></tr>\n",
       "\t<tr><td>steht             </td><td>1</td></tr>\n",
       "\t<tr><td>tagem             </td><td>1</td></tr>\n",
       "\t<tr><td>testpfähle        </td><td>1</td></tr>\n",
       "\t<tr><td>zu…               </td><td>1</td></tr>\n",
       "\t<tr><td>zwei              </td><td>2</td></tr>\n",
       "\t<tr><td>akkus             </td><td>1</td></tr>\n",
       "\t<tr><td>angeblich         </td><td>2</td></tr>\n",
       "\t<tr><td>catl              </td><td>1</td></tr>\n",
       "\t<tr><td>einer             </td><td>1</td></tr>\n",
       "\t<tr><td>httpstcostxughvhhe</td><td>1</td></tr>\n",
       "\t<tr><td>kilometern        </td><td>1</td></tr>\n",
       "\t<tr><td>kobalt            </td><td>1</td></tr>\n",
       "\t<tr><td>lebensdauer       </td><td>1</td></tr>\n",
       "\t<tr><td>millionen         </td><td>1</td></tr>\n",
       "\t<tr><td>mit               </td><td>1</td></tr>\n",
       "\t<tr><td>ohne              </td><td>1</td></tr>\n",
       "\t<tr><td>und…              </td><td>1</td></tr>\n",
       "\t<tr><td>von               </td><td>2</td></tr>\n",
       "</tbody>\n",
       "</table>\n"
      ],
      "text/latex": [
       "A data.frame: 100 × 2\n",
       "\\begin{tabular}{ll}\n",
       " term & freq\\\\\n",
       " <fct> & <dbl>\\\\\n",
       "\\hline\n",
       "\t aufnahmen…                                          & 1\\\\\n",
       "\t aus                                                 & 1\\\\\n",
       "\t baustelle                                           & 1\\\\\n",
       "\t danke                                               & 1\\\\\n",
       "\t der                                                 & 2\\\\\n",
       "\t die                                                 & 5\\\\\n",
       "\t für                                                 & 8\\\\\n",
       "\t geht                                                & 1\\\\\n",
       "\t gigaberlin                                          & 8\\\\\n",
       "\t gut                                                 & 1\\\\\n",
       "\t httpstcovodxHo/stxughvhhe                           & 1\\\\\n",
       "\t richtig                                             & 1\\\\\n",
       "\t schon                                               & 1\\\\\n",
       "\t sieht                                               & 1\\\\\n",
       "\t tollen                                              & 1\\\\\n",
       "\t voran                                               & 1\\\\\n",
       "\t <U+0001F3D7><U+0001F3D7><U+0001F9F1><U+0001F9F1>auf & 1\\\\\n",
       "\t fundamentfrage                                      & 3\\\\\n",
       "\t geklärt                                             & 3\\\\\n",
       "\t httpstcomacmiensb                                   & 1\\\\\n",
       "\t httpstcosvxhaihlk…                                  & 1\\\\\n",
       "\t liegt                                               & 3\\\\\n",
       "\t nicht                                               & 3\\\\\n",
       "\t nächster                                            & 3\\\\\n",
       "\t teilantrag                                          & 3\\\\\n",
       "\t vor                                                 & 3\\\\\n",
       "\t weiter                                              & 3\\\\\n",
       "\t wohl                                                & 3\\\\\n",
       "\t behördenverbot                                      & 1\\\\\n",
       "\t elonmusk                                            & 1\\\\\n",
       "\t ... & ...\\\\\n",
       "\t den                & 1\\\\\n",
       "\t gruenheidefutr     & 1\\\\\n",
       "\t s…                 & 1\\\\\n",
       "\t auf                & 1\\\\\n",
       "\t bodenramme         & 1\\\\\n",
       "\t davon              & 1\\\\\n",
       "\t dem                & 1\\\\\n",
       "\t erste              & 1\\\\\n",
       "\t httpstcoejvivrworo & 1\\\\\n",
       "\t nordwestlich       & 1\\\\\n",
       "\t seit               & 1\\\\\n",
       "\t sind               & 1\\\\\n",
       "\t steht              & 1\\\\\n",
       "\t tagem              & 1\\\\\n",
       "\t testpfähle         & 1\\\\\n",
       "\t zu…                & 1\\\\\n",
       "\t zwei               & 2\\\\\n",
       "\t akkus              & 1\\\\\n",
       "\t angeblich          & 2\\\\\n",
       "\t catl               & 1\\\\\n",
       "\t einer              & 1\\\\\n",
       "\t httpstcostxughvhhe & 1\\\\\n",
       "\t kilometern         & 1\\\\\n",
       "\t kobalt             & 1\\\\\n",
       "\t lebensdauer        & 1\\\\\n",
       "\t millionen          & 1\\\\\n",
       "\t mit                & 1\\\\\n",
       "\t ohne               & 1\\\\\n",
       "\t und…               & 1\\\\\n",
       "\t von                & 2\\\\\n",
       "\\end{tabular}\n"
      ],
      "text/markdown": [
       "\n",
       "A data.frame: 100 × 2\n",
       "\n",
       "| term &lt;fct&gt; | freq &lt;dbl&gt; |\n",
       "|---|---|\n",
       "| aufnahmen…                                          | 1 |\n",
       "| aus                                                 | 1 |\n",
       "| baustelle                                           | 1 |\n",
       "| danke                                               | 1 |\n",
       "| der                                                 | 2 |\n",
       "| die                                                 | 5 |\n",
       "| für                                                 | 8 |\n",
       "| geht                                                | 1 |\n",
       "| gigaberlin                                          | 8 |\n",
       "| gut                                                 | 1 |\n",
       "| httpstcovodxHo/stxughvhhe                           | 1 |\n",
       "| richtig                                             | 1 |\n",
       "| schon                                               | 1 |\n",
       "| sieht                                               | 1 |\n",
       "| tollen                                              | 1 |\n",
       "| voran                                               | 1 |\n",
       "| &lt;U+0001F3D7&gt;&lt;U+0001F3D7&gt;&lt;U+0001F9F1&gt;&lt;U+0001F9F1&gt;auf | 1 |\n",
       "| fundamentfrage                                      | 3 |\n",
       "| geklärt                                             | 3 |\n",
       "| httpstcomacmiensb                                   | 1 |\n",
       "| httpstcosvxhaihlk…                                  | 1 |\n",
       "| liegt                                               | 3 |\n",
       "| nicht                                               | 3 |\n",
       "| nächster                                            | 3 |\n",
       "| teilantrag                                          | 3 |\n",
       "| vor                                                 | 3 |\n",
       "| weiter                                              | 3 |\n",
       "| wohl                                                | 3 |\n",
       "| behördenverbot                                      | 1 |\n",
       "| elonmusk                                            | 1 |\n",
       "| ... | ... |\n",
       "| den                | 1 |\n",
       "| gruenheidefutr     | 1 |\n",
       "| s…                 | 1 |\n",
       "| auf                | 1 |\n",
       "| bodenramme         | 1 |\n",
       "| davon              | 1 |\n",
       "| dem                | 1 |\n",
       "| erste              | 1 |\n",
       "| httpstcoejvivrworo | 1 |\n",
       "| nordwestlich       | 1 |\n",
       "| seit               | 1 |\n",
       "| sind               | 1 |\n",
       "| steht              | 1 |\n",
       "| tagem              | 1 |\n",
       "| testpfähle         | 1 |\n",
       "| zu…                | 1 |\n",
       "| zwei               | 2 |\n",
       "| akkus              | 1 |\n",
       "| angeblich          | 2 |\n",
       "| catl               | 1 |\n",
       "| einer              | 1 |\n",
       "| httpstcostxughvhhe | 1 |\n",
       "| kilometern         | 1 |\n",
       "| kobalt             | 1 |\n",
       "| lebensdauer        | 1 |\n",
       "| millionen          | 1 |\n",
       "| mit                | 1 |\n",
       "| ohne               | 1 |\n",
       "| und…               | 1 |\n",
       "| von                | 2 |\n",
       "\n"
      ],
      "text/plain": [
       "    term                                                freq\n",
       "1   aufnahmen…                                          1   \n",
       "2   aus                                                 1   \n",
       "3   baustelle                                           1   \n",
       "4   danke                                               1   \n",
       "5   der                                                 2   \n",
       "6   die                                                 5   \n",
       "7   für                                                 8   \n",
       "8   geht                                                1   \n",
       "9   gigaberlin                                          8   \n",
       "10  gut                                                 1   \n",
       "11  httpstcovodxHo/stxughvhhe                           1   \n",
       "12  richtig                                             1   \n",
       "13  schon                                               1   \n",
       "14  sieht                                               1   \n",
       "15  tollen                                              1   \n",
       "16  voran                                               1   \n",
       "17  <U+0001F3D7><U+0001F3D7><U+0001F9F1><U+0001F9F1>auf 1   \n",
       "18  fundamentfrage                                      3   \n",
       "19  geklärt                                             3   \n",
       "20  httpstcomacmiensb                                   1   \n",
       "21  httpstcosvxhaihlk…                                  1   \n",
       "22  liegt                                               3   \n",
       "23  nicht                                               3   \n",
       "24  nächster                                            3   \n",
       "25  teilantrag                                          3   \n",
       "26  vor                                                 3   \n",
       "27  weiter                                              3   \n",
       "28  wohl                                                3   \n",
       "29  behördenverbot                                      1   \n",
       "30  elonmusk                                            1   \n",
       "... ...                                                 ... \n",
       "71  den                                                 1   \n",
       "72  gruenheidefutr                                      1   \n",
       "73  s…                                                  1   \n",
       "74  auf                                                 1   \n",
       "75  bodenramme                                          1   \n",
       "76  davon                                               1   \n",
       "77  dem                                                 1   \n",
       "78  erste                                               1   \n",
       "79  httpstcoejvivrworo                                  1   \n",
       "80  nordwestlich                                        1   \n",
       "81  seit                                                1   \n",
       "82  sind                                                1   \n",
       "83  steht                                               1   \n",
       "84  tagem                                               1   \n",
       "85  testpfähle                                          1   \n",
       "86  zu…                                                 1   \n",
       "87  zwei                                                2   \n",
       "88  akkus                                               1   \n",
       "89  angeblich                                           2   \n",
       "90  catl                                                1   \n",
       "91  einer                                               1   \n",
       "92  httpstcostxughvhhe                                  1   \n",
       "93  kilometern                                          1   \n",
       "94  kobalt                                              1   \n",
       "95  lebensdauer                                         1   \n",
       "96  millionen                                           1   \n",
       "97  mit                                                 1   \n",
       "98  ohne                                                1   \n",
       "99  und…                                                1   \n",
       "100 von                                                 2   "
      ]
     },
     "metadata": {},
     "output_type": "display_data"
    }
   ],
   "source": [
    "df <- df%>%\n",
    "  filter(str_detect(df$term, \"[a-z]\"))\n",
    "df"
   ]
  },
  {
   "cell_type": "markdown",
   "metadata": {},
   "source": [
    "#### Die zweite Diagram, wie oft die Wörter benutzt werden"
   ]
  },
  {
   "cell_type": "code",
   "execution_count": 101,
   "metadata": {
    "scrolled": true
   },
   "outputs": [
    {
     "data": {
      "image/png": "iVBORw0KGgoAAAANSUhEUgAAA0gAAANICAMAAADKOT/pAAACBFBMVEUAAAATK0MTK0QULUUU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\nAAEkCDpAAAmCDhBAgqADBJAg6AD9f/2Lg0yGbryUAAAAAElFTkSuQmCC",
      "text/plain": [
       "plot without title"
      ]
     },
     "metadata": {
      "image/png": {
       "height": 420,
       "width": 420
      },
      "text/plain": {
       "height": 420,
       "width": 420
      }
     },
     "output_type": "display_data"
    }
   ],
   "source": [
    "ggplot(df,aes(x = reorder(df$term, +df$freq), y = freq, fill=df$freq)) + geom_bar(stat = \"identity\") +\n",
    "  scale_colour_gradientn(colors = terrain.colors(10)) + xlab(\"Terms\") + ylab(\"Count\") + coord_flip()"
   ]
  },
  {
   "cell_type": "code",
   "execution_count": 102,
   "metadata": {},
   "outputs": [],
   "source": [
    "m <- as.matrix(tdm)"
   ]
  },
  {
   "cell_type": "code",
   "execution_count": 103,
   "metadata": {},
   "outputs": [
    {
     "data": {
      "text/html": [
       "<table>\n",
       "<caption>A matrix: 105 × 10 of type dbl</caption>\n",
       "<thead>\n",
       "\t<tr><th></th><th scope=col>1</th><th scope=col>2</th><th scope=col>3</th><th scope=col>4</th><th scope=col>5</th><th scope=col>6</th><th scope=col>7</th><th scope=col>8</th><th scope=col>9</th><th scope=col>10</th></tr>\n",
       "</thead>\n",
       "<tbody>\n",
       "\t<tr><th scope=row>aufnahmen…</th><td>1</td><td>0</td><td>0</td><td>0</td><td>0</td><td>0</td><td>0</td><td>0</td><td>0</td><td>0</td></tr>\n",
       "\t<tr><th scope=row>aus</th><td>1</td><td>0</td><td>0</td><td>0</td><td>0</td><td>0</td><td>0</td><td>0</td><td>0</td><td>0</td></tr>\n",
       "\t<tr><th scope=row>baustelle</th><td>1</td><td>0</td><td>0</td><td>0</td><td>0</td><td>0</td><td>0</td><td>0</td><td>0</td><td>0</td></tr>\n",
       "\t<tr><th scope=row>danke</th><td>1</td><td>0</td><td>0</td><td>0</td><td>0</td><td>0</td><td>0</td><td>0</td><td>0</td><td>0</td></tr>\n",
       "\t<tr><th scope=row>der</th><td>1</td><td>0</td><td>1</td><td>0</td><td>0</td><td>0</td><td>0</td><td>0</td><td>0</td><td>0</td></tr>\n",
       "\t<tr><th scope=row>die</th><td>1</td><td>0</td><td>0</td><td>0</td><td>0</td><td>1</td><td>1</td><td>1</td><td>1</td><td>0</td></tr>\n",
       "\t<tr><th scope=row>für</th><td>1</td><td>1</td><td>0</td><td>1</td><td>1</td><td>1</td><td>1</td><td>1</td><td>0</td><td>1</td></tr>\n",
       "\t<tr><th scope=row>geht</th><td>1</td><td>0</td><td>0</td><td>0</td><td>0</td><td>0</td><td>0</td><td>0</td><td>0</td><td>0</td></tr>\n",
       "\t<tr><th scope=row>gigaberlin</th><td>1</td><td>1</td><td>0</td><td>1</td><td>1</td><td>1</td><td>1</td><td>1</td><td>1</td><td>0</td></tr>\n",
       "\t<tr><th scope=row>gut</th><td>1</td><td>0</td><td>0</td><td>0</td><td>0</td><td>0</td><td>0</td><td>0</td><td>0</td><td>0</td></tr>\n",
       "\t<tr><th scope=row>httpstcovodxHo/stxughvhhe</th><td>1</td><td>0</td><td>0</td><td>0</td><td>0</td><td>0</td><td>0</td><td>0</td><td>0</td><td>0</td></tr>\n",
       "\t<tr><th scope=row>richtig</th><td>1</td><td>0</td><td>0</td><td>0</td><td>0</td><td>0</td><td>0</td><td>0</td><td>0</td><td>0</td></tr>\n",
       "\t<tr><th scope=row>schon</th><td>1</td><td>0</td><td>0</td><td>0</td><td>0</td><td>0</td><td>0</td><td>0</td><td>0</td><td>0</td></tr>\n",
       "\t<tr><th scope=row>sieht</th><td>1</td><td>0</td><td>0</td><td>0</td><td>0</td><td>0</td><td>0</td><td>0</td><td>0</td><td>0</td></tr>\n",
       "\t<tr><th scope=row>tollen</th><td>1</td><td>0</td><td>0</td><td>0</td><td>0</td><td>0</td><td>0</td><td>0</td><td>0</td><td>0</td></tr>\n",
       "\t<tr><th scope=row>voran</th><td>1</td><td>0</td><td>0</td><td>0</td><td>0</td><td>0</td><td>0</td><td>0</td><td>0</td><td>0</td></tr>\n",
       "\t<tr><th scope=row>🏗🏗🧱🧱auf</th><td>1</td><td>0</td><td>0</td><td>0</td><td>0</td><td>0</td><td>0</td><td>0</td><td>0</td><td>0</td></tr>\n",
       "\t<tr><th scope=row>😍</th><td>1</td><td>0</td><td>0</td><td>0</td><td>0</td><td>0</td><td>0</td><td>0</td><td>0</td><td>0</td></tr>\n",
       "\t<tr><th scope=row>fundamentfrage</th><td>0</td><td>1</td><td>0</td><td>1</td><td>1</td><td>0</td><td>0</td><td>0</td><td>0</td><td>0</td></tr>\n",
       "\t<tr><th scope=row>geklärt</th><td>0</td><td>1</td><td>0</td><td>1</td><td>1</td><td>0</td><td>0</td><td>0</td><td>0</td><td>0</td></tr>\n",
       "\t<tr><th scope=row>httpstcomacmiensb</th><td>0</td><td>1</td><td>0</td><td>0</td><td>0</td><td>0</td><td>0</td><td>0</td><td>0</td><td>0</td></tr>\n",
       "\t<tr><th scope=row>httpstcosvxhaihlk…</th><td>0</td><td>1</td><td>0</td><td>0</td><td>0</td><td>0</td><td>0</td><td>0</td><td>0</td><td>0</td></tr>\n",
       "\t<tr><th scope=row>liegt</th><td>0</td><td>1</td><td>0</td><td>1</td><td>1</td><td>0</td><td>0</td><td>0</td><td>0</td><td>0</td></tr>\n",
       "\t<tr><th scope=row>nicht</th><td>0</td><td>1</td><td>0</td><td>1</td><td>1</td><td>0</td><td>0</td><td>0</td><td>0</td><td>0</td></tr>\n",
       "\t<tr><th scope=row>nächster</th><td>0</td><td>1</td><td>0</td><td>1</td><td>1</td><td>0</td><td>0</td><td>0</td><td>0</td><td>0</td></tr>\n",
       "\t<tr><th scope=row>teilantrag</th><td>0</td><td>1</td><td>0</td><td>1</td><td>1</td><td>0</td><td>0</td><td>0</td><td>0</td><td>0</td></tr>\n",
       "\t<tr><th scope=row>vor</th><td>0</td><td>1</td><td>0</td><td>1</td><td>1</td><td>0</td><td>0</td><td>0</td><td>0</td><td>0</td></tr>\n",
       "\t<tr><th scope=row>weiter</th><td>0</td><td>1</td><td>0</td><td>1</td><td>1</td><td>0</td><td>0</td><td>0</td><td>0</td><td>0</td></tr>\n",
       "\t<tr><th scope=row>wohl</th><td>0</td><td>1</td><td>0</td><td>1</td><td>1</td><td>0</td><td>0</td><td>0</td><td>0</td><td>0</td></tr>\n",
       "\t<tr><th scope=row>–</th><td>0</td><td>1</td><td>0</td><td>1</td><td>1</td><td>0</td><td>0</td><td>0</td><td>0</td><td>0</td></tr>\n",
       "\t<tr><th scope=row>...</th><td>...</td><td>...</td><td>...</td><td>...</td><td>...</td><td>...</td><td>...</td><td>...</td><td>...</td><td>...</td></tr>\n",
       "\t<tr><th scope=row>den</th><td>0</td><td>0</td><td>0</td><td>0</td><td>0</td><td>0</td><td>0</td><td>1</td><td>0</td><td>0</td></tr>\n",
       "\t<tr><th scope=row>gruenheidefutr</th><td>0</td><td>0</td><td>0</td><td>0</td><td>0</td><td>0</td><td>0</td><td>1</td><td>0</td><td>0</td></tr>\n",
       "\t<tr><th scope=row>s…</th><td>0</td><td>0</td><td>0</td><td>0</td><td>0</td><td>0</td><td>0</td><td>1</td><td>0</td><td>0</td></tr>\n",
       "\t<tr><th scope=row>auf</th><td>0</td><td>0</td><td>0</td><td>0</td><td>0</td><td>0</td><td>0</td><td>0</td><td>1</td><td>0</td></tr>\n",
       "\t<tr><th scope=row>bodenramme</th><td>0</td><td>0</td><td>0</td><td>0</td><td>0</td><td>0</td><td>0</td><td>0</td><td>1</td><td>0</td></tr>\n",
       "\t<tr><th scope=row>davon</th><td>0</td><td>0</td><td>0</td><td>0</td><td>0</td><td>0</td><td>0</td><td>0</td><td>1</td><td>0</td></tr>\n",
       "\t<tr><th scope=row>dem</th><td>0</td><td>0</td><td>0</td><td>0</td><td>0</td><td>0</td><td>0</td><td>0</td><td>1</td><td>0</td></tr>\n",
       "\t<tr><th scope=row>erste</th><td>0</td><td>0</td><td>0</td><td>0</td><td>0</td><td>0</td><td>0</td><td>0</td><td>1</td><td>0</td></tr>\n",
       "\t<tr><th scope=row>httpstcoejvivrworo</th><td>0</td><td>0</td><td>0</td><td>0</td><td>0</td><td>0</td><td>0</td><td>0</td><td>1</td><td>0</td></tr>\n",
       "\t<tr><th scope=row>nordwestlich</th><td>0</td><td>0</td><td>0</td><td>0</td><td>0</td><td>0</td><td>0</td><td>0</td><td>1</td><td>0</td></tr>\n",
       "\t<tr><th scope=row>seit</th><td>0</td><td>0</td><td>0</td><td>0</td><td>0</td><td>0</td><td>0</td><td>0</td><td>1</td><td>0</td></tr>\n",
       "\t<tr><th scope=row>sind</th><td>0</td><td>0</td><td>0</td><td>0</td><td>0</td><td>0</td><td>0</td><td>0</td><td>1</td><td>0</td></tr>\n",
       "\t<tr><th scope=row>steht</th><td>0</td><td>0</td><td>0</td><td>0</td><td>0</td><td>0</td><td>0</td><td>0</td><td>1</td><td>0</td></tr>\n",
       "\t<tr><th scope=row>tagem</th><td>0</td><td>0</td><td>0</td><td>0</td><td>0</td><td>0</td><td>0</td><td>0</td><td>1</td><td>0</td></tr>\n",
       "\t<tr><th scope=row>testpfähle</th><td>0</td><td>0</td><td>0</td><td>0</td><td>0</td><td>0</td><td>0</td><td>0</td><td>1</td><td>0</td></tr>\n",
       "\t<tr><th scope=row>zu…</th><td>0</td><td>0</td><td>0</td><td>0</td><td>0</td><td>0</td><td>0</td><td>0</td><td>1</td><td>0</td></tr>\n",
       "\t<tr><th scope=row>zwei</th><td>0</td><td>0</td><td>0</td><td>0</td><td>0</td><td>0</td><td>0</td><td>0</td><td>2</td><td>0</td></tr>\n",
       "\t<tr><th scope=row>akkus</th><td>0</td><td>0</td><td>0</td><td>0</td><td>0</td><td>0</td><td>0</td><td>0</td><td>0</td><td>1</td></tr>\n",
       "\t<tr><th scope=row>angeblich</th><td>0</td><td>0</td><td>0</td><td>0</td><td>0</td><td>0</td><td>0</td><td>0</td><td>0</td><td>2</td></tr>\n",
       "\t<tr><th scope=row>catl</th><td>0</td><td>0</td><td>0</td><td>0</td><td>0</td><td>0</td><td>0</td><td>0</td><td>0</td><td>1</td></tr>\n",
       "\t<tr><th scope=row>einer</th><td>0</td><td>0</td><td>0</td><td>0</td><td>0</td><td>0</td><td>0</td><td>0</td><td>0</td><td>1</td></tr>\n",
       "\t<tr><th scope=row>httpstcostxughvhhe</th><td>0</td><td>0</td><td>0</td><td>0</td><td>0</td><td>0</td><td>0</td><td>0</td><td>0</td><td>1</td></tr>\n",
       "\t<tr><th scope=row>kilometern</th><td>0</td><td>0</td><td>0</td><td>0</td><td>0</td><td>0</td><td>0</td><td>0</td><td>0</td><td>1</td></tr>\n",
       "\t<tr><th scope=row>kobalt</th><td>0</td><td>0</td><td>0</td><td>0</td><td>0</td><td>0</td><td>0</td><td>0</td><td>0</td><td>1</td></tr>\n",
       "\t<tr><th scope=row>lebensdauer</th><td>0</td><td>0</td><td>0</td><td>0</td><td>0</td><td>0</td><td>0</td><td>0</td><td>0</td><td>1</td></tr>\n",
       "\t<tr><th scope=row>millionen</th><td>0</td><td>0</td><td>0</td><td>0</td><td>0</td><td>0</td><td>0</td><td>0</td><td>0</td><td>1</td></tr>\n",
       "\t<tr><th scope=row>mit</th><td>0</td><td>0</td><td>0</td><td>0</td><td>0</td><td>0</td><td>0</td><td>0</td><td>0</td><td>1</td></tr>\n",
       "\t<tr><th scope=row>ohne</th><td>0</td><td>0</td><td>0</td><td>0</td><td>0</td><td>0</td><td>0</td><td>0</td><td>0</td><td>1</td></tr>\n",
       "\t<tr><th scope=row>und…</th><td>0</td><td>0</td><td>0</td><td>0</td><td>0</td><td>0</td><td>0</td><td>0</td><td>0</td><td>1</td></tr>\n",
       "\t<tr><th scope=row>von</th><td>0</td><td>0</td><td>0</td><td>0</td><td>0</td><td>0</td><td>0</td><td>0</td><td>0</td><td>2</td></tr>\n",
       "</tbody>\n",
       "</table>\n"
      ],
      "text/latex": [
       "A matrix: 105 × 10 of type dbl\n",
       "\\begin{tabular}{r|llllllllll}\n",
       "  & 1 & 2 & 3 & 4 & 5 & 6 & 7 & 8 & 9 & 10\\\\\n",
       "\\hline\n",
       "\taufnahmen… & 1 & 0 & 0 & 0 & 0 & 0 & 0 & 0 & 0 & 0\\\\\n",
       "\taus & 1 & 0 & 0 & 0 & 0 & 0 & 0 & 0 & 0 & 0\\\\\n",
       "\tbaustelle & 1 & 0 & 0 & 0 & 0 & 0 & 0 & 0 & 0 & 0\\\\\n",
       "\tdanke & 1 & 0 & 0 & 0 & 0 & 0 & 0 & 0 & 0 & 0\\\\\n",
       "\tder & 1 & 0 & 1 & 0 & 0 & 0 & 0 & 0 & 0 & 0\\\\\n",
       "\tdie & 1 & 0 & 0 & 0 & 0 & 1 & 1 & 1 & 1 & 0\\\\\n",
       "\tfür & 1 & 1 & 0 & 1 & 1 & 1 & 1 & 1 & 0 & 1\\\\\n",
       "\tgeht & 1 & 0 & 0 & 0 & 0 & 0 & 0 & 0 & 0 & 0\\\\\n",
       "\tgigaberlin & 1 & 1 & 0 & 1 & 1 & 1 & 1 & 1 & 1 & 0\\\\\n",
       "\tgut & 1 & 0 & 0 & 0 & 0 & 0 & 0 & 0 & 0 & 0\\\\\n",
       "\thttpstcovodxHo/stxughvhhe & 1 & 0 & 0 & 0 & 0 & 0 & 0 & 0 & 0 & 0\\\\\n",
       "\trichtig & 1 & 0 & 0 & 0 & 0 & 0 & 0 & 0 & 0 & 0\\\\\n",
       "\tschon & 1 & 0 & 0 & 0 & 0 & 0 & 0 & 0 & 0 & 0\\\\\n",
       "\tsieht & 1 & 0 & 0 & 0 & 0 & 0 & 0 & 0 & 0 & 0\\\\\n",
       "\ttollen & 1 & 0 & 0 & 0 & 0 & 0 & 0 & 0 & 0 & 0\\\\\n",
       "\tvoran & 1 & 0 & 0 & 0 & 0 & 0 & 0 & 0 & 0 & 0\\\\\n",
       "\t🏗🏗🧱🧱auf & 1 & 0 & 0 & 0 & 0 & 0 & 0 & 0 & 0 & 0\\\\\n",
       "\t😍 & 1 & 0 & 0 & 0 & 0 & 0 & 0 & 0 & 0 & 0\\\\\n",
       "\tfundamentfrage & 0 & 1 & 0 & 1 & 1 & 0 & 0 & 0 & 0 & 0\\\\\n",
       "\tgeklärt & 0 & 1 & 0 & 1 & 1 & 0 & 0 & 0 & 0 & 0\\\\\n",
       "\thttpstcomacmiensb & 0 & 1 & 0 & 0 & 0 & 0 & 0 & 0 & 0 & 0\\\\\n",
       "\thttpstcosvxhaihlk… & 0 & 1 & 0 & 0 & 0 & 0 & 0 & 0 & 0 & 0\\\\\n",
       "\tliegt & 0 & 1 & 0 & 1 & 1 & 0 & 0 & 0 & 0 & 0\\\\\n",
       "\tnicht & 0 & 1 & 0 & 1 & 1 & 0 & 0 & 0 & 0 & 0\\\\\n",
       "\tnächster & 0 & 1 & 0 & 1 & 1 & 0 & 0 & 0 & 0 & 0\\\\\n",
       "\tteilantrag & 0 & 1 & 0 & 1 & 1 & 0 & 0 & 0 & 0 & 0\\\\\n",
       "\tvor & 0 & 1 & 0 & 1 & 1 & 0 & 0 & 0 & 0 & 0\\\\\n",
       "\tweiter & 0 & 1 & 0 & 1 & 1 & 0 & 0 & 0 & 0 & 0\\\\\n",
       "\twohl & 0 & 1 & 0 & 1 & 1 & 0 & 0 & 0 & 0 & 0\\\\\n",
       "\t– & 0 & 1 & 0 & 1 & 1 & 0 & 0 & 0 & 0 & 0\\\\\n",
       "\t... & ... & ... & ... & ... & ... & ... & ... & ... & ... & ...\\\\\n",
       "\tden & 0 & 0 & 0 & 0 & 0 & 0 & 0 & 1 & 0 & 0\\\\\n",
       "\tgruenheidefutr & 0 & 0 & 0 & 0 & 0 & 0 & 0 & 1 & 0 & 0\\\\\n",
       "\ts… & 0 & 0 & 0 & 0 & 0 & 0 & 0 & 1 & 0 & 0\\\\\n",
       "\tauf & 0 & 0 & 0 & 0 & 0 & 0 & 0 & 0 & 1 & 0\\\\\n",
       "\tbodenramme & 0 & 0 & 0 & 0 & 0 & 0 & 0 & 0 & 1 & 0\\\\\n",
       "\tdavon & 0 & 0 & 0 & 0 & 0 & 0 & 0 & 0 & 1 & 0\\\\\n",
       "\tdem & 0 & 0 & 0 & 0 & 0 & 0 & 0 & 0 & 1 & 0\\\\\n",
       "\terste & 0 & 0 & 0 & 0 & 0 & 0 & 0 & 0 & 1 & 0\\\\\n",
       "\thttpstcoejvivrworo & 0 & 0 & 0 & 0 & 0 & 0 & 0 & 0 & 1 & 0\\\\\n",
       "\tnordwestlich & 0 & 0 & 0 & 0 & 0 & 0 & 0 & 0 & 1 & 0\\\\\n",
       "\tseit & 0 & 0 & 0 & 0 & 0 & 0 & 0 & 0 & 1 & 0\\\\\n",
       "\tsind & 0 & 0 & 0 & 0 & 0 & 0 & 0 & 0 & 1 & 0\\\\\n",
       "\tsteht & 0 & 0 & 0 & 0 & 0 & 0 & 0 & 0 & 1 & 0\\\\\n",
       "\ttagem & 0 & 0 & 0 & 0 & 0 & 0 & 0 & 0 & 1 & 0\\\\\n",
       "\ttestpfähle & 0 & 0 & 0 & 0 & 0 & 0 & 0 & 0 & 1 & 0\\\\\n",
       "\tzu… & 0 & 0 & 0 & 0 & 0 & 0 & 0 & 0 & 1 & 0\\\\\n",
       "\tzwei & 0 & 0 & 0 & 0 & 0 & 0 & 0 & 0 & 2 & 0\\\\\n",
       "\takkus & 0 & 0 & 0 & 0 & 0 & 0 & 0 & 0 & 0 & 1\\\\\n",
       "\tangeblich & 0 & 0 & 0 & 0 & 0 & 0 & 0 & 0 & 0 & 2\\\\\n",
       "\tcatl & 0 & 0 & 0 & 0 & 0 & 0 & 0 & 0 & 0 & 1\\\\\n",
       "\teiner & 0 & 0 & 0 & 0 & 0 & 0 & 0 & 0 & 0 & 1\\\\\n",
       "\thttpstcostxughvhhe & 0 & 0 & 0 & 0 & 0 & 0 & 0 & 0 & 0 & 1\\\\\n",
       "\tkilometern & 0 & 0 & 0 & 0 & 0 & 0 & 0 & 0 & 0 & 1\\\\\n",
       "\tkobalt & 0 & 0 & 0 & 0 & 0 & 0 & 0 & 0 & 0 & 1\\\\\n",
       "\tlebensdauer & 0 & 0 & 0 & 0 & 0 & 0 & 0 & 0 & 0 & 1\\\\\n",
       "\tmillionen & 0 & 0 & 0 & 0 & 0 & 0 & 0 & 0 & 0 & 1\\\\\n",
       "\tmit & 0 & 0 & 0 & 0 & 0 & 0 & 0 & 0 & 0 & 1\\\\\n",
       "\tohne & 0 & 0 & 0 & 0 & 0 & 0 & 0 & 0 & 0 & 1\\\\\n",
       "\tund… & 0 & 0 & 0 & 0 & 0 & 0 & 0 & 0 & 0 & 1\\\\\n",
       "\tvon & 0 & 0 & 0 & 0 & 0 & 0 & 0 & 0 & 0 & 2\\\\\n",
       "\\end{tabular}\n"
      ],
      "text/markdown": [
       "\n",
       "A matrix: 105 × 10 of type dbl\n",
       "\n",
       "| <!--/--> | 1 | 2 | 3 | 4 | 5 | 6 | 7 | 8 | 9 | 10 |\n",
       "|---|---|---|---|---|---|---|---|---|---|---|\n",
       "| aufnahmen… | 1 | 0 | 0 | 0 | 0 | 0 | 0 | 0 | 0 | 0 |\n",
       "| aus | 1 | 0 | 0 | 0 | 0 | 0 | 0 | 0 | 0 | 0 |\n",
       "| baustelle | 1 | 0 | 0 | 0 | 0 | 0 | 0 | 0 | 0 | 0 |\n",
       "| danke | 1 | 0 | 0 | 0 | 0 | 0 | 0 | 0 | 0 | 0 |\n",
       "| der | 1 | 0 | 1 | 0 | 0 | 0 | 0 | 0 | 0 | 0 |\n",
       "| die | 1 | 0 | 0 | 0 | 0 | 1 | 1 | 1 | 1 | 0 |\n",
       "| für | 1 | 1 | 0 | 1 | 1 | 1 | 1 | 1 | 0 | 1 |\n",
       "| geht | 1 | 0 | 0 | 0 | 0 | 0 | 0 | 0 | 0 | 0 |\n",
       "| gigaberlin | 1 | 1 | 0 | 1 | 1 | 1 | 1 | 1 | 1 | 0 |\n",
       "| gut | 1 | 0 | 0 | 0 | 0 | 0 | 0 | 0 | 0 | 0 |\n",
       "| httpstcovodxHo/stxughvhhe | 1 | 0 | 0 | 0 | 0 | 0 | 0 | 0 | 0 | 0 |\n",
       "| richtig | 1 | 0 | 0 | 0 | 0 | 0 | 0 | 0 | 0 | 0 |\n",
       "| schon | 1 | 0 | 0 | 0 | 0 | 0 | 0 | 0 | 0 | 0 |\n",
       "| sieht | 1 | 0 | 0 | 0 | 0 | 0 | 0 | 0 | 0 | 0 |\n",
       "| tollen | 1 | 0 | 0 | 0 | 0 | 0 | 0 | 0 | 0 | 0 |\n",
       "| voran | 1 | 0 | 0 | 0 | 0 | 0 | 0 | 0 | 0 | 0 |\n",
       "| 🏗🏗🧱🧱auf | 1 | 0 | 0 | 0 | 0 | 0 | 0 | 0 | 0 | 0 |\n",
       "| 😍 | 1 | 0 | 0 | 0 | 0 | 0 | 0 | 0 | 0 | 0 |\n",
       "| fundamentfrage | 0 | 1 | 0 | 1 | 1 | 0 | 0 | 0 | 0 | 0 |\n",
       "| geklärt | 0 | 1 | 0 | 1 | 1 | 0 | 0 | 0 | 0 | 0 |\n",
       "| httpstcomacmiensb | 0 | 1 | 0 | 0 | 0 | 0 | 0 | 0 | 0 | 0 |\n",
       "| httpstcosvxhaihlk… | 0 | 1 | 0 | 0 | 0 | 0 | 0 | 0 | 0 | 0 |\n",
       "| liegt | 0 | 1 | 0 | 1 | 1 | 0 | 0 | 0 | 0 | 0 |\n",
       "| nicht | 0 | 1 | 0 | 1 | 1 | 0 | 0 | 0 | 0 | 0 |\n",
       "| nächster | 0 | 1 | 0 | 1 | 1 | 0 | 0 | 0 | 0 | 0 |\n",
       "| teilantrag | 0 | 1 | 0 | 1 | 1 | 0 | 0 | 0 | 0 | 0 |\n",
       "| vor | 0 | 1 | 0 | 1 | 1 | 0 | 0 | 0 | 0 | 0 |\n",
       "| weiter | 0 | 1 | 0 | 1 | 1 | 0 | 0 | 0 | 0 | 0 |\n",
       "| wohl | 0 | 1 | 0 | 1 | 1 | 0 | 0 | 0 | 0 | 0 |\n",
       "| – | 0 | 1 | 0 | 1 | 1 | 0 | 0 | 0 | 0 | 0 |\n",
       "| ... | ... | ... | ... | ... | ... | ... | ... | ... | ... | ... |\n",
       "| den | 0 | 0 | 0 | 0 | 0 | 0 | 0 | 1 | 0 | 0 |\n",
       "| gruenheidefutr | 0 | 0 | 0 | 0 | 0 | 0 | 0 | 1 | 0 | 0 |\n",
       "| s… | 0 | 0 | 0 | 0 | 0 | 0 | 0 | 1 | 0 | 0 |\n",
       "| auf | 0 | 0 | 0 | 0 | 0 | 0 | 0 | 0 | 1 | 0 |\n",
       "| bodenramme | 0 | 0 | 0 | 0 | 0 | 0 | 0 | 0 | 1 | 0 |\n",
       "| davon | 0 | 0 | 0 | 0 | 0 | 0 | 0 | 0 | 1 | 0 |\n",
       "| dem | 0 | 0 | 0 | 0 | 0 | 0 | 0 | 0 | 1 | 0 |\n",
       "| erste | 0 | 0 | 0 | 0 | 0 | 0 | 0 | 0 | 1 | 0 |\n",
       "| httpstcoejvivrworo | 0 | 0 | 0 | 0 | 0 | 0 | 0 | 0 | 1 | 0 |\n",
       "| nordwestlich | 0 | 0 | 0 | 0 | 0 | 0 | 0 | 0 | 1 | 0 |\n",
       "| seit | 0 | 0 | 0 | 0 | 0 | 0 | 0 | 0 | 1 | 0 |\n",
       "| sind | 0 | 0 | 0 | 0 | 0 | 0 | 0 | 0 | 1 | 0 |\n",
       "| steht | 0 | 0 | 0 | 0 | 0 | 0 | 0 | 0 | 1 | 0 |\n",
       "| tagem | 0 | 0 | 0 | 0 | 0 | 0 | 0 | 0 | 1 | 0 |\n",
       "| testpfähle | 0 | 0 | 0 | 0 | 0 | 0 | 0 | 0 | 1 | 0 |\n",
       "| zu… | 0 | 0 | 0 | 0 | 0 | 0 | 0 | 0 | 1 | 0 |\n",
       "| zwei | 0 | 0 | 0 | 0 | 0 | 0 | 0 | 0 | 2 | 0 |\n",
       "| akkus | 0 | 0 | 0 | 0 | 0 | 0 | 0 | 0 | 0 | 1 |\n",
       "| angeblich | 0 | 0 | 0 | 0 | 0 | 0 | 0 | 0 | 0 | 2 |\n",
       "| catl | 0 | 0 | 0 | 0 | 0 | 0 | 0 | 0 | 0 | 1 |\n",
       "| einer | 0 | 0 | 0 | 0 | 0 | 0 | 0 | 0 | 0 | 1 |\n",
       "| httpstcostxughvhhe | 0 | 0 | 0 | 0 | 0 | 0 | 0 | 0 | 0 | 1 |\n",
       "| kilometern | 0 | 0 | 0 | 0 | 0 | 0 | 0 | 0 | 0 | 1 |\n",
       "| kobalt | 0 | 0 | 0 | 0 | 0 | 0 | 0 | 0 | 0 | 1 |\n",
       "| lebensdauer | 0 | 0 | 0 | 0 | 0 | 0 | 0 | 0 | 0 | 1 |\n",
       "| millionen | 0 | 0 | 0 | 0 | 0 | 0 | 0 | 0 | 0 | 1 |\n",
       "| mit | 0 | 0 | 0 | 0 | 0 | 0 | 0 | 0 | 0 | 1 |\n",
       "| ohne | 0 | 0 | 0 | 0 | 0 | 0 | 0 | 0 | 0 | 1 |\n",
       "| und… | 0 | 0 | 0 | 0 | 0 | 0 | 0 | 0 | 0 | 1 |\n",
       "| von | 0 | 0 | 0 | 0 | 0 | 0 | 0 | 0 | 0 | 2 |\n",
       "\n"
      ],
      "text/plain": [
       "                          1   2   3   4   5   6   7   8   9   10 \n",
       "aufnahmen…                1   0   0   0   0   0   0   0   0   0  \n",
       "aus                       1   0   0   0   0   0   0   0   0   0  \n",
       "baustelle                 1   0   0   0   0   0   0   0   0   0  \n",
       "danke                     1   0   0   0   0   0   0   0   0   0  \n",
       "der                       1   0   1   0   0   0   0   0   0   0  \n",
       "die                       1   0   0   0   0   1   1   1   1   0  \n",
       "für                       1   1   0   1   1   1   1   1   0   1  \n",
       "geht                      1   0   0   0   0   0   0   0   0   0  \n",
       "gigaberlin                1   1   0   1   1   1   1   1   1   0  \n",
       "gut                       1   0   0   0   0   0   0   0   0   0  \n",
       "httpstcovodxHo/stxughvhhe 1   0   0   0   0   0   0   0   0   0  \n",
       "richtig                   1   0   0   0   0   0   0   0   0   0  \n",
       "schon                     1   0   0   0   0   0   0   0   0   0  \n",
       "sieht                     1   0   0   0   0   0   0   0   0   0  \n",
       "tollen                    1   0   0   0   0   0   0   0   0   0  \n",
       "voran                     1   0   0   0   0   0   0   0   0   0  \n",
       "<U+0001F3D7><U+0001F3D7><U+0001F9F1><U+0001F9F1>auf                   1   0   0   0   0   0   0   0   0   0  \n",
       "<U+0001F60D>                         1   0   0   0   0   0   0   0   0   0  \n",
       "fundamentfrage            0   1   0   1   1   0   0   0   0   0  \n",
       "geklärt                   0   1   0   1   1   0   0   0   0   0  \n",
       "httpstcomacmiensb         0   1   0   0   0   0   0   0   0   0  \n",
       "httpstcosvxhaihlk…        0   1   0   0   0   0   0   0   0   0  \n",
       "liegt                     0   1   0   1   1   0   0   0   0   0  \n",
       "nicht                     0   1   0   1   1   0   0   0   0   0  \n",
       "nächster                  0   1   0   1   1   0   0   0   0   0  \n",
       "teilantrag                0   1   0   1   1   0   0   0   0   0  \n",
       "vor                       0   1   0   1   1   0   0   0   0   0  \n",
       "weiter                    0   1   0   1   1   0   0   0   0   0  \n",
       "wohl                      0   1   0   1   1   0   0   0   0   0  \n",
       "–                         0   1   0   1   1   0   0   0   0   0  \n",
       "...                       ... ... ... ... ... ... ... ... ... ...\n",
       "den                       0   0   0   0   0   0   0   1   0   0  \n",
       "gruenheidefutr            0   0   0   0   0   0   0   1   0   0  \n",
       "s…                        0   0   0   0   0   0   0   1   0   0  \n",
       "auf                       0   0   0   0   0   0   0   0   1   0  \n",
       "bodenramme                0   0   0   0   0   0   0   0   1   0  \n",
       "davon                     0   0   0   0   0   0   0   0   1   0  \n",
       "dem                       0   0   0   0   0   0   0   0   1   0  \n",
       "erste                     0   0   0   0   0   0   0   0   1   0  \n",
       "httpstcoejvivrworo        0   0   0   0   0   0   0   0   1   0  \n",
       "nordwestlich              0   0   0   0   0   0   0   0   1   0  \n",
       "seit                      0   0   0   0   0   0   0   0   1   0  \n",
       "sind                      0   0   0   0   0   0   0   0   1   0  \n",
       "steht                     0   0   0   0   0   0   0   0   1   0  \n",
       "tagem                     0   0   0   0   0   0   0   0   1   0  \n",
       "testpfähle                0   0   0   0   0   0   0   0   1   0  \n",
       "zu…                       0   0   0   0   0   0   0   0   1   0  \n",
       "zwei                      0   0   0   0   0   0   0   0   2   0  \n",
       "akkus                     0   0   0   0   0   0   0   0   0   1  \n",
       "angeblich                 0   0   0   0   0   0   0   0   0   2  \n",
       "catl                      0   0   0   0   0   0   0   0   0   1  \n",
       "einer                     0   0   0   0   0   0   0   0   0   1  \n",
       "httpstcostxughvhhe        0   0   0   0   0   0   0   0   0   1  \n",
       "kilometern                0   0   0   0   0   0   0   0   0   1  \n",
       "kobalt                    0   0   0   0   0   0   0   0   0   1  \n",
       "lebensdauer               0   0   0   0   0   0   0   0   0   1  \n",
       "millionen                 0   0   0   0   0   0   0   0   0   1  \n",
       "mit                       0   0   0   0   0   0   0   0   0   1  \n",
       "ohne                      0   0   0   0   0   0   0   0   0   1  \n",
       "und…                      0   0   0   0   0   0   0   0   0   1  \n",
       "von                       0   0   0   0   0   0   0   0   0   2  "
      ]
     },
     "metadata": {},
     "output_type": "display_data"
    }
   ],
   "source": [
    "m"
   ]
  },
  {
   "cell_type": "code",
   "execution_count": null,
   "metadata": {},
   "outputs": [],
   "source": [
    "Die Ermittlung der frequency von Wörter"
   ]
  },
  {
   "cell_type": "code",
   "execution_count": 104,
   "metadata": {
    "scrolled": true
   },
   "outputs": [
    {
     "data": {
      "text/html": [
       "<style>\n",
       ".dl-inline {width: auto; margin:0; padding: 0}\n",
       ".dl-inline>dt, .dl-inline>dd {float: none; width: auto; display: inline-block}\n",
       ".dl-inline>dt::after {content: \":\\0020\"; padding-right: .5ex}\n",
       ".dl-inline>dt:not(:first-of-type) {padding-left: .5ex}\n",
       "</style><dl class=dl-inline><dt>für</dt><dd>8</dd><dt>gigaberlin</dt><dd>8</dd><dt>die</dt><dd>5</dd><dt>gelände</dt><dd>4</dd><dt>fundamentfrage</dt><dd>3</dd><dt>geklärt</dt><dd>3</dd><dt>liegt</dt><dd>3</dd><dt>nicht</dt><dd>3</dd><dt>nächster</dt><dd>3</dd><dt>teilantrag</dt><dd>3</dd><dt>vor</dt><dd>3</dd><dt>weiter</dt><dd>3</dd><dt>wohl</dt><dd>3</dd><dt>–</dt><dd>3</dd><dt>der</dt><dd>2</dd><dt>grünheide…</dt><dd>2</dd><dt>httpstcosvxhaihlk</dt><dd>2</dd><dt>teslamag</dt><dd>2</dd><dt>dieser</dt><dd>2</dd><dt>fahren</dt><dd>2</dd><dt>güterzüge</dt><dd>2</dd><dt>laden</dt><dd>2</dd><dt>mal</dt><dd>2</dd><dt>mittlerweile</dt><dd>2</dd><dt>schotter</dt><dd>2</dd><dt>und</dt><dd>2</dd><dt>vier</dt><dd>2</dd><dt>wird</dt><dd>2</dd><dt>woche</dt><dd>2</dd><dt>zum</dt><dd>2</dd><dt>tesla</dt><dd>2</dd><dt>zwei</dt><dd>2</dd><dt>angeblich</dt><dd>2</dd><dt>von</dt><dd>2</dd><dt>aufnahmen…</dt><dd>1</dd><dt>aus</dt><dd>1</dd><dt>baustelle</dt><dd>1</dd><dt>danke</dt><dd>1</dd><dt>geht</dt><dd>1</dd><dt>gut</dt><dd>1</dd><dt>httpstcovodxHo/stxughvhhe</dt><dd>1</dd><dt>richtig</dt><dd>1</dd><dt>schon</dt><dd>1</dd><dt>sieht</dt><dd>1</dd><dt>tollen</dt><dd>1</dd><dt>voran</dt><dd>1</dd><dt>🏗🏗🧱🧱auf</dt><dd>1</dd><dt>😍</dt><dd>1</dd><dt>httpstcomacmiensb</dt><dd>1</dd><dt>httpstcosvxhaihlk…</dt><dd>1</dd><dt>behördenverbot</dt><dd>1</dd><dt>elonmusk</dt><dd>1</dd><dt>exzentrisc…</dt><dd>1</dd><dt>fährt</dt><dd>1</dd><dt>hoch</dt><dd>1</dd><dt>httpstcoumfdwgdd</dt><dd>1</dd><dt>kalifornisches</dt><dd>1</dd><dt>sein</dt><dd>1</dd><dt>sich</dt><dd>1</dd><dt>sollte</dt><dd>1</dd><dt>teslawerk</dt><dd>1</dd><dt>trotz</dt><dd>1</dd><dt>warum</dt><dd>1</dd><dt>wieder</dt><dd>1</dd><dt>de…</dt><dd>1</dd><dt>httpstcolljgqv</dt><dd>1</dd><dt>anbindung</dt><dd>1</dd><dt>angrenzende</dt><dd>1</dd><dt>ans</dt><dd>1</dd><dt>bereits</dt><dd>1</dd><dt>direkt</dt><dd>1</dd><dt>großer</dt><dd>1</dd><dt>httpstcodglhpqv</dt><dd>1</dd><dt>industriebahn</dt><dd>1</dd><dt>vorteil</dt><dd>1</dd><dt>…</dt><dd>1</dd><dt>💗</dt><dd>1</dd><dt>🚘🔋</dt><dd>1</dd><dt>den</dt><dd>1</dd><dt>gruenheidefutr</dt><dd>1</dd><dt>s…</dt><dd>1</dd><dt>auf</dt><dd>1</dd><dt>bodenramme</dt><dd>1</dd><dt>davon</dt><dd>1</dd><dt>dem</dt><dd>1</dd><dt>erste</dt><dd>1</dd><dt>httpstcoejvivrworo</dt><dd>1</dd><dt>nordwestlich</dt><dd>1</dd><dt>seit</dt><dd>1</dd><dt>sind</dt><dd>1</dd><dt>steht</dt><dd>1</dd><dt>tagem</dt><dd>1</dd><dt>testpfähle</dt><dd>1</dd><dt>zu…</dt><dd>1</dd><dt>akkus</dt><dd>1</dd><dt>catl</dt><dd>1</dd><dt>einer</dt><dd>1</dd><dt>httpstcostxughvhhe</dt><dd>1</dd><dt>kilometern</dt><dd>1</dd><dt>kobalt</dt><dd>1</dd><dt>lebensdauer</dt><dd>1</dd><dt>millionen</dt><dd>1</dd><dt>mit</dt><dd>1</dd><dt>ohne</dt><dd>1</dd><dt>und…</dt><dd>1</dd></dl>\n"
      ],
      "text/latex": [
       "\\begin{description*}\n",
       "\\item[für] 8\n",
       "\\item[gigaberlin] 8\n",
       "\\item[die] 5\n",
       "\\item[gelände] 4\n",
       "\\item[fundamentfrage] 3\n",
       "\\item[geklärt] 3\n",
       "\\item[liegt] 3\n",
       "\\item[nicht] 3\n",
       "\\item[nächster] 3\n",
       "\\item[teilantrag] 3\n",
       "\\item[vor] 3\n",
       "\\item[weiter] 3\n",
       "\\item[wohl] 3\n",
       "\\item[–] 3\n",
       "\\item[der] 2\n",
       "\\item[grünheide…] 2\n",
       "\\item[httpstcosvxhaihlk] 2\n",
       "\\item[teslamag] 2\n",
       "\\item[dieser] 2\n",
       "\\item[fahren] 2\n",
       "\\item[güterzüge] 2\n",
       "\\item[laden] 2\n",
       "\\item[mal] 2\n",
       "\\item[mittlerweile] 2\n",
       "\\item[schotter] 2\n",
       "\\item[und] 2\n",
       "\\item[vier] 2\n",
       "\\item[wird] 2\n",
       "\\item[woche] 2\n",
       "\\item[zum] 2\n",
       "\\item[tesla] 2\n",
       "\\item[zwei] 2\n",
       "\\item[angeblich] 2\n",
       "\\item[von] 2\n",
       "\\item[aufnahmen…] 1\n",
       "\\item[aus] 1\n",
       "\\item[baustelle] 1\n",
       "\\item[danke] 1\n",
       "\\item[geht] 1\n",
       "\\item[gut] 1\n",
       "\\item[httpstcovodxHo/stxughvhhe] 1\n",
       "\\item[richtig] 1\n",
       "\\item[schon] 1\n",
       "\\item[sieht] 1\n",
       "\\item[tollen] 1\n",
       "\\item[voran] 1\n",
       "\\item[🏗🏗🧱🧱auf] 1\n",
       "\\item[😍] 1\n",
       "\\item[httpstcomacmiensb] 1\n",
       "\\item[httpstcosvxhaihlk…] 1\n",
       "\\item[behördenverbot] 1\n",
       "\\item[elonmusk] 1\n",
       "\\item[exzentrisc…] 1\n",
       "\\item[fährt] 1\n",
       "\\item[hoch] 1\n",
       "\\item[httpstcoumfdwgdd] 1\n",
       "\\item[kalifornisches] 1\n",
       "\\item[sein] 1\n",
       "\\item[sich] 1\n",
       "\\item[sollte] 1\n",
       "\\item[teslawerk] 1\n",
       "\\item[trotz] 1\n",
       "\\item[warum] 1\n",
       "\\item[wieder] 1\n",
       "\\item[de…] 1\n",
       "\\item[httpstcolljgqv] 1\n",
       "\\item[anbindung] 1\n",
       "\\item[angrenzende] 1\n",
       "\\item[ans] 1\n",
       "\\item[bereits] 1\n",
       "\\item[direkt] 1\n",
       "\\item[großer] 1\n",
       "\\item[httpstcodglhpqv] 1\n",
       "\\item[industriebahn] 1\n",
       "\\item[vorteil] 1\n",
       "\\item[…] 1\n",
       "\\item[💗] 1\n",
       "\\item[🚘🔋] 1\n",
       "\\item[den] 1\n",
       "\\item[gruenheidefutr] 1\n",
       "\\item[s…] 1\n",
       "\\item[auf] 1\n",
       "\\item[bodenramme] 1\n",
       "\\item[davon] 1\n",
       "\\item[dem] 1\n",
       "\\item[erste] 1\n",
       "\\item[httpstcoejvivrworo] 1\n",
       "\\item[nordwestlich] 1\n",
       "\\item[seit] 1\n",
       "\\item[sind] 1\n",
       "\\item[steht] 1\n",
       "\\item[tagem] 1\n",
       "\\item[testpfähle] 1\n",
       "\\item[zu…] 1\n",
       "\\item[akkus] 1\n",
       "\\item[catl] 1\n",
       "\\item[einer] 1\n",
       "\\item[httpstcostxughvhhe] 1\n",
       "\\item[kilometern] 1\n",
       "\\item[kobalt] 1\n",
       "\\item[lebensdauer] 1\n",
       "\\item[millionen] 1\n",
       "\\item[mit] 1\n",
       "\\item[ohne] 1\n",
       "\\item[und…] 1\n",
       "\\end{description*}\n"
      ],
      "text/markdown": [
       "für\n",
       ":   8gigaberlin\n",
       ":   8die\n",
       ":   5gelände\n",
       ":   4fundamentfrage\n",
       ":   3geklärt\n",
       ":   3liegt\n",
       ":   3nicht\n",
       ":   3nächster\n",
       ":   3teilantrag\n",
       ":   3vor\n",
       ":   3weiter\n",
       ":   3wohl\n",
       ":   3–\n",
       ":   3der\n",
       ":   2grünheide…\n",
       ":   2httpstcosvxhaihlk\n",
       ":   2teslamag\n",
       ":   2dieser\n",
       ":   2fahren\n",
       ":   2güterzüge\n",
       ":   2laden\n",
       ":   2mal\n",
       ":   2mittlerweile\n",
       ":   2schotter\n",
       ":   2und\n",
       ":   2vier\n",
       ":   2wird\n",
       ":   2woche\n",
       ":   2zum\n",
       ":   2tesla\n",
       ":   2zwei\n",
       ":   2angeblich\n",
       ":   2von\n",
       ":   2aufnahmen…\n",
       ":   1aus\n",
       ":   1baustelle\n",
       ":   1danke\n",
       ":   1geht\n",
       ":   1gut\n",
       ":   1httpstcovodxHo/stxughvhhe\n",
       ":   1richtig\n",
       ":   1schon\n",
       ":   1sieht\n",
       ":   1tollen\n",
       ":   1voran\n",
       ":   1🏗🏗🧱🧱auf\n",
       ":   1😍\n",
       ":   1httpstcomacmiensb\n",
       ":   1httpstcosvxhaihlk…\n",
       ":   1behördenverbot\n",
       ":   1elonmusk\n",
       ":   1exzentrisc…\n",
       ":   1fährt\n",
       ":   1hoch\n",
       ":   1httpstcoumfdwgdd\n",
       ":   1kalifornisches\n",
       ":   1sein\n",
       ":   1sich\n",
       ":   1sollte\n",
       ":   1teslawerk\n",
       ":   1trotz\n",
       ":   1warum\n",
       ":   1wieder\n",
       ":   1de…\n",
       ":   1httpstcolljgqv\n",
       ":   1anbindung\n",
       ":   1angrenzende\n",
       ":   1ans\n",
       ":   1bereits\n",
       ":   1direkt\n",
       ":   1großer\n",
       ":   1httpstcodglhpqv\n",
       ":   1industriebahn\n",
       ":   1vorteil\n",
       ":   1…\n",
       ":   1💗\n",
       ":   1🚘🔋\n",
       ":   1den\n",
       ":   1gruenheidefutr\n",
       ":   1s…\n",
       ":   1auf\n",
       ":   1bodenramme\n",
       ":   1davon\n",
       ":   1dem\n",
       ":   1erste\n",
       ":   1httpstcoejvivrworo\n",
       ":   1nordwestlich\n",
       ":   1seit\n",
       ":   1sind\n",
       ":   1steht\n",
       ":   1tagem\n",
       ":   1testpfähle\n",
       ":   1zu…\n",
       ":   1akkus\n",
       ":   1catl\n",
       ":   1einer\n",
       ":   1httpstcostxughvhhe\n",
       ":   1kilometern\n",
       ":   1kobalt\n",
       ":   1lebensdauer\n",
       ":   1millionen\n",
       ":   1mit\n",
       ":   1ohne\n",
       ":   1und…\n",
       ":   1\n",
       "\n"
      ],
      "text/plain": [
       "                      für                gigaberlin                       die \n",
       "                        8                         8                         5 \n",
       "                  gelände            fundamentfrage                   geklärt \n",
       "                        4                         3                         3 \n",
       "                    liegt                     nicht                  nächster \n",
       "                        3                         3                         3 \n",
       "               teilantrag                       vor                    weiter \n",
       "                        3                         3                         3 \n",
       "                     wohl                         –                       der \n",
       "                        3                         3                         2 \n",
       "               grünheide…         httpstcosvxhaihlk                  teslamag \n",
       "                        2                         2                         2 \n",
       "                   dieser                    fahren                 güterzüge \n",
       "                        2                         2                         2 \n",
       "                    laden                       mal              mittlerweile \n",
       "                        2                         2                         2 \n",
       "                 schotter                       und                      vier \n",
       "                        2                         2                         2 \n",
       "                     wird                     woche                       zum \n",
       "                        2                         2                         2 \n",
       "                    tesla                      zwei                 angeblich \n",
       "                        2                         2                         2 \n",
       "                      von                aufnahmen…                       aus \n",
       "                        2                         1                         1 \n",
       "                baustelle                     danke                      geht \n",
       "                        1                         1                         1 \n",
       "                      gut httpstcovodxHo/stxughvhhe                   richtig \n",
       "                        1                         1                         1 \n",
       "                    schon                     sieht                    tollen \n",
       "                        1                         1                         1 \n",
       "                    voran <U+0001F3D7><U+0001F3D7><U+0001F9F1><U+0001F9F1>auf              <U+0001F60D> \n",
       "                        1                         1                         1 \n",
       "        httpstcomacmiensb        httpstcosvxhaihlk…            behördenverbot \n",
       "                        1                         1                         1 \n",
       "                 elonmusk               exzentrisc…                     fährt \n",
       "                        1                         1                         1 \n",
       "                     hoch          httpstcoumfdwgdd            kalifornisches \n",
       "                        1                         1                         1 \n",
       "                     sein                      sich                    sollte \n",
       "                        1                         1                         1 \n",
       "                teslawerk                     trotz                     warum \n",
       "                        1                         1                         1 \n",
       "                   wieder                       de…            httpstcolljgqv \n",
       "                        1                         1                         1 \n",
       "                anbindung               angrenzende                       ans \n",
       "                        1                         1                         1 \n",
       "                  bereits                    direkt                    großer \n",
       "                        1                         1                         1 \n",
       "          httpstcodglhpqv             industriebahn                   vorteil \n",
       "                        1                         1                         1 \n",
       "                        …              <U+0001F497>  <U+0001F698><U+0001F50B> \n",
       "                        1                         1                         1 \n",
       "                      den            gruenheidefutr                        s… \n",
       "                        1                         1                         1 \n",
       "                      auf                bodenramme                     davon \n",
       "                        1                         1                         1 \n",
       "                      dem                     erste        httpstcoejvivrworo \n",
       "                        1                         1                         1 \n",
       "             nordwestlich                      seit                      sind \n",
       "                        1                         1                         1 \n",
       "                    steht                     tagem                testpfähle \n",
       "                        1                         1                         1 \n",
       "                      zu…                     akkus                      catl \n",
       "                        1                         1                         1 \n",
       "                    einer        httpstcostxughvhhe                kilometern \n",
       "                        1                         1                         1 \n",
       "                   kobalt               lebensdauer                 millionen \n",
       "                        1                         1                         1 \n",
       "                      mit                      ohne                      und… \n",
       "                        1                         1                         1 "
      ]
     },
     "metadata": {},
     "output_type": "display_data"
    }
   ],
   "source": [
    "word.freq <- sort(rowSums(m), decreasing = T)\n",
    "word.freq"
   ]
  },
  {
   "cell_type": "markdown",
   "metadata": {},
   "source": [
    "#### Wordcloud"
   ]
  },
  {
   "cell_type": "code",
   "execution_count": 108,
   "metadata": {},
   "outputs": [
    {
     "data": {
      "text/html": [
       "<!doctype html>\n",
       "<html>\n",
       "\t<head>\n",
       "\t\t<meta charset=\"utf-8\">\n",
       "\t\t<script title=\"htmlwidgets\" src=\"data:application/javascript;base64,KGZ1bmN0aW9uKCkgewogIC8vIElmIHdpbmRvdy5IVE1MV2lkZ2V0cyBpcyBhbHJlYWR5IGRlZmluZWQsIHRoZW4gdXNlIGl0OyBvdGhlcndpc2UgY3JlYXRlIGEKICAvLyBuZXcgb2JqZWN0LiBUaGlzIGFsbG93cyBwcmVjZWRpbmcgY29kZSB0byBzZXQgb3B0aW9ucyB0aGF0IGFmZmVjdCB0aGUKICAvLyBpbml0aWFsaXphdGlvbiBwcm9jZXNzICh0aG91Z2ggbm9uZSBjdXJyZW50bHkgZXhpc3QpLgogIHdpbmRvdy5IVE1MV2lkZ2V0cyA9IHdpbmRvdy5IVE1MV2lkZ2V0cyB8fCB7fTsKCiAgLy8gU2VlIGlmIHdlJ3JlIHJ1bm5pbmcgaW4gYSB2aWV3ZXIgcGFuZS4gSWYgbm90LCB3ZSdyZSBpbiBhIHdlYiBicm93c2VyLgogIHZhciB2aWV3ZXJNb2RlID0gd2luZG93LkhUTUxXaWRnZXRzLnZpZXdlck1vZGUgPQogICAgICAvXGJ2aWV3ZXJfcGFuZT0xXGIvLnRlc3Qod2luZG93LmxvY2F0aW9uKTsKCiAgLy8gU2VlIGlmIHdlJ3JlIHJ1bm5pbmcgaW4gU2hpbnkgbW9kZS4gSWYgbm90LCBpdCdzIGEgc3RhdGljIGRvY3VtZW50LgogIC8vIE5vdGUgdGhhdCBzdGF0aWMgd2lkZ2V0cyBjYW4gYXBwZWFyIGluIGJvdGggU2hpbnkgYW5kIHN0YXRpYyBtb2RlcywgYnV0CiAgLy8gb2J2aW91c2x5LCBTaGlueSB3aWRnZXRzIGNhbiBvbmx5IGFwcGVhciBpbiBTaGlueSBhcHBzL2RvY3VtZW50cy4KICB2YXIgc2hpbnlNb2RlID0gd2luZG93LkhUTUxXaWRnZXRzLnNoaW55TW9kZSA9CiAgICAgIHR5cGVvZih3aW5kb3cuU2hpbnkpICE9PSAidW5kZWZpbmVkIiAmJiAhIXdpbmRvdy5TaGlueS5vdXRwdXRCaW5kaW5nczsKCiAgLy8gV2UgY2FuJ3QgY291bnQgb24galF1ZXJ5IGJlaW5nIGF2YWlsYWJsZSwgc28gd2UgaW1wbGVtZW50IG91ciBvd24KICAvLyB2ZXJzaW9uIGlmIG5lY2Vzc2FyeS4KICBmdW5jdGlvbiBxdWVyeVNlbGVjdG9yQWxsKHNjb3BlLCBzZWxlY3RvcikgewogICAgaWYgKHR5cGVvZihqUXVlcnkpICE9PSAidW5kZWZpbmVkIiAmJiBzY29wZSBpbnN0YW5jZW9mIGpRdWVyeSkgewogICAgICByZXR1cm4gc2NvcGUuZmluZChzZWxlY3Rvcik7CiAgICB9CiAgICBpZiAoc2NvcGUucXVlcnlTZWxlY3RvckFsbCkgewogICAgICByZXR1cm4gc2NvcGUucXVlcnlTZWxlY3RvckFsbChzZWxlY3Rvcik7CiAgICB9CiAgfQoKICBmdW5jdGlvbiBhc0FycmF5KHZhbHVlKSB7CiAgICBpZiAodmFsdWUgPT09IG51bGwpCiAgICAgIHJldHVybiBbXTsKICAgIGlmICgkLmlzQXJyYXkodmFsdWUpKQogICAgICByZXR1cm4gdmFsdWU7CiAgICByZXR1cm4gW3ZhbHVlXTsKICB9CgogIC8vIEltcGxlbWVudCBqUXVlcnkncyBleHRlbmQKICBmdW5jdGlvbiBleHRlbmQodGFyZ2V0IC8qLCAuLi4gKi8pIHsKICAgIGlmIChhcmd1bWVudHMubGVuZ3RoID09IDEpIHsKICAgICAgcmV0dXJuIHRhcmdldDsKICAgIH0KICAgIGZvciAodmFyIGkgPSAxOyBpIDwgYXJndW1lbnRzLmxlbmd0aDsgaSsrKSB7CiAgICAgIHZhciBzb3VyY2UgPSBhcmd1bWVudHNbaV07CiAgICAgIGZvciAodmFyIHByb3AgaW4gc291cmNlKSB7CiAgICAgICAgaWYgKHNvdXJjZS5oYXNPd25Qcm9wZXJ0eShwcm9wKSkgewogICAgICAgICAgdGFyZ2V0W3Byb3BdID0gc291cmNlW3Byb3BdOwogICAgICAgIH0KICAgICAgfQogICAgfQogICAgcmV0dXJuIHRhcmdldDsKICB9CgogIC8vIElFOCBkb2Vzbid0IHN1cHBvcnQgQXJyYXkuZm9yRWFjaC4KICBmdW5jdGlvbiBmb3JFYWNoKHZhbHVlcywgY2FsbGJhY2ssIHRoaXNBcmcpIHsKICAgIGlmICh2YWx1ZXMuZm9yRWFjaCkgewogICAgICB2YWx1ZXMuZm9yRWFjaChjYWxsYmFjaywgdGhpc0FyZyk7CiAgICB9IGVsc2UgewogICAgICBmb3IgKHZhciBpID0gMDsgaSA8IHZhbHVlcy5sZW5ndGg7IGkrKykgewogICAgICAgIGNhbGxiYWNrLmNhbGwodGhpc0FyZywgdmFsdWVzW2ldLCBpLCB2YWx1ZXMpOwogICAgICB9CiAgICB9CiAgfQoKICAvLyBSZXBsYWNlcyB0aGUgc3BlY2lmaWVkIG1ldGhvZCB3aXRoIHRoZSByZXR1cm4gdmFsdWUgb2YgZnVuY1NvdXJjZS4KICAvLwogIC8vIE5vdGUgdGhhdCBmdW5jU291cmNlIHNob3VsZCBub3QgQkUgdGhlIG5ldyBtZXRob2QsIGl0IHNob3VsZCBiZSBhIGZ1bmN0aW9uCiAgLy8gdGhhdCBSRVRVUk5TIHRoZSBuZXcgbWV0aG9kLiBmdW5jU291cmNlIHJlY2VpdmVzIGEgc2luZ2xlIGFyZ3VtZW50IHRoYXQgaXMKICAvLyB0aGUgb3ZlcnJpZGRlbiBtZXRob2QsIGl0IGNhbiBiZSBjYWxsZWQgZnJvbSB0aGUgbmV3IG1ldGhvZC4gVGhlIG92ZXJyaWRkZW4KICAvLyBtZXRob2QgY2FuIGJlIGNhbGxlZCBsaWtlIGEgcmVndWxhciBmdW5jdGlvbiwgaXQgaGFzIHRoZSB0YXJnZXQgcGVybWFuZW50bHkKICAvLyBib3VuZCB0byBpdCBzbyAidGhpcyIgd2lsbCB3b3JrIGNvcnJlY3RseS4KICBmdW5jdGlvbiBvdmVycmlkZU1ldGhvZCh0YXJnZXQsIG1ldGhvZE5hbWUsIGZ1bmNTb3VyY2UpIHsKICAgIHZhciBzdXBlckZ1bmMgPSB0YXJnZXRbbWV0aG9kTmFtZV0gfHwgZnVuY3Rpb24oKSB7fTsKICAgIHZhciBzdXBlckZ1bmNCb3VuZCA9IGZ1bmN0aW9uKCkgewogICAgICByZXR1cm4gc3VwZXJGdW5jLmFwcGx5KHRhcmdldCwgYXJndW1lbnRzKTsKICAgIH07CiAgICB0YXJnZXRbbWV0aG9kTmFtZV0gPSBmdW5jU291cmNlKHN1cGVyRnVuY0JvdW5kKTsKICB9CgogIC8vIEFkZCBhIG1ldGhvZCB0byBkZWxlZ2F0b3IgdGhhdCwgd2hlbiBpbnZva2VkLCBjYWxscwogIC8vIGRlbGVnYXRlZS5tZXRob2ROYW1lLiBJZiB0aGVyZSBpcyBubyBzdWNoIG1ldGhvZCBvbgogIC8vIHRoZSBkZWxlZ2F0ZWUsIGJ1dCB0aGVyZSB3YXMgb25lIG9uIGRlbGVnYXRvciBiZWZvcmUKICAvLyBkZWxlZ2F0ZU1ldGhvZCB3YXMgY2FsbGVkLCB0aGVuIHRoZSBvcmlnaW5hbCB2ZXJzaW9uCiAgLy8gaXMgaW52b2tlZCBpbnN0ZWFkLgogIC8vIEZvciBleGFtcGxlOgogIC8vCiAgLy8gdmFyIGEgPSB7CiAgLy8gICBtZXRob2QxOiBmdW5jdGlvbigpIHsgY29uc29sZS5sb2coJ2ExJyk7IH0KICAvLyAgIG1ldGhvZDI6IGZ1bmN0aW9uKCkgeyBjb25zb2xlLmxvZygnYTInKTsgfQogIC8vIH07CiAgLy8gdmFyIGIgPSB7CiAgLy8gICBtZXRob2QxOiBmdW5jdGlvbigpIHsgY29uc29sZS5sb2coJ2IxJyk7IH0KICAvLyB9OwogIC8vIGRlbGVnYXRlTWV0aG9kKGEsIGIsICJtZXRob2QxIik7CiAgLy8gZGVsZWdhdGVNZXRob2QoYSwgYiwgIm1ldGhvZDIiKTsKICAvLyBhLm1ldGhvZDEoKTsKICAvLyBhLm1ldGhvZDIoKTsKICAvLwogIC8vIFRoZSBvdXRwdXQgd291bGQgYmUgImIxIiwgImEyIi4KICBmdW5jdGlvbiBkZWxlZ2F0ZU1ldGhvZChkZWxlZ2F0b3IsIGRlbGVnYXRlZSwgbWV0aG9kTmFtZSkgewogICAgdmFyIGluaGVyaXRlZCA9IGRlbGVnYXRvclttZXRob2ROYW1lXTsKICAgIGRlbGVnYXRvclttZXRob2ROYW1lXSA9IGZ1bmN0aW9uKCkgewogICAgICB2YXIgdGFyZ2V0ID0gZGVsZWdhdGVlOwogICAgICB2YXIgbWV0aG9kID0gZGVsZWdhdGVlW21ldGhvZE5hbWVdOwoKICAgICAgLy8gVGhlIG1ldGhvZCBkb2Vzbid0IGV4aXN0IG9uIHRoZSBkZWxlZ2F0ZWUuIEluc3RlYWQsCiAgICAgIC8vIGNhbGwgdGhlIG1ldGhvZCBvbiB0aGUgZGVsZWdhdG9yLCBpZiBpdCBleGlzdHMuCiAgICAgIGlmICghbWV0aG9kKSB7CiAgICAgICAgdGFyZ2V0ID0gZGVsZWdhdG9yOwogICAgICAgIG1ldGhvZCA9IGluaGVyaXRlZDsKICAgICAgfQoKICAgICAgaWYgKG1ldGhvZCkgewogICAgICAgIHJldHVybiBtZXRob2QuYXBwbHkodGFyZ2V0LCBhcmd1bWVudHMpOwogICAgICB9CiAgICB9OwogIH0KCiAgLy8gSW1wbGVtZW50IGEgdmFndWUgZmFjc2ltaWxpZSBvZiBqUXVlcnkncyBkYXRhIG1ldGhvZAogIGZ1bmN0aW9uIGVsZW1lbnREYXRhKGVsLCBuYW1lLCB2YWx1ZSkgewogICAgaWYgKGFyZ3VtZW50cy5sZW5ndGggPT0gMikgewogICAgICByZXR1cm4gZWxbImh0bWx3aWRnZXRfZGF0YV8iICsgbmFtZV07CiAgICB9IGVsc2UgaWYgKGFyZ3VtZW50cy5sZW5ndGggPT0gMykgewogICAgICBlbFsiaHRtbHdpZGdldF9kYXRhXyIgKyBuYW1lXSA9IHZhbHVlOwogICAgICByZXR1cm4gZWw7CiAgICB9IGVsc2UgewogICAgICB0aHJvdyBuZXcgRXJyb3IoIldyb25nIG51bWJlciBvZiBhcmd1bWVudHMgZm9yIGVsZW1lbnREYXRhOiAiICsKICAgICAgICBhcmd1bWVudHMubGVuZ3RoKTsKICAgIH0KICB9CgogIC8vIGh0dHA6Ly9zdGFja292ZXJmbG93LmNvbS9xdWVzdGlvbnMvMzQ0NjE3MC9lc2NhcGUtc3RyaW5nLWZvci11c2UtaW4tamF2YXNjcmlwdC1yZWdleAogIGZ1bmN0aW9uIGVzY2FwZVJlZ0V4cChzdHIpIHsKICAgIHJldHVybiBzdHIucmVwbGFjZSgvW1wtXFtcXVwvXHtcfVwoXClcKlwrXD9cLlxcXF5cJFx8XS9nLCAiXFwkJiIpOwogIH0KCiAgZnVuY3Rpb24gaGFzQ2xhc3MoZWwsIGNsYXNzTmFtZSkgewogICAgdmFyIHJlID0gbmV3IFJlZ0V4cCgiXFxiIiArIGVzY2FwZVJlZ0V4cChjbGFzc05hbWUpICsgIlxcYiIpOwogICAgcmV0dXJuIHJlLnRlc3QoZWwuY2xhc3NOYW1lKTsKICB9CgogIC8vIGVsZW1lbnRzIC0gYXJyYXkgKG9yIGFycmF5LWxpa2Ugb2JqZWN0KSBvZiBIVE1MIGVsZW1lbnRzCiAgLy8gY2xhc3NOYW1lIC0gY2xhc3MgbmFtZSB0byB0ZXN0IGZvcgogIC8vIGluY2x1ZGUgLSBpZiB0cnVlLCBvbmx5IHJldHVybiBlbGVtZW50cyB3aXRoIGdpdmVuIGNsYXNzTmFtZTsKICAvLyAgIGlmIGZhbHNlLCBvbmx5IHJldHVybiBlbGVtZW50cyAqd2l0aG91dCogZ2l2ZW4gY2xhc3NOYW1lCiAgZnVuY3Rpb24gZmlsdGVyQnlDbGFzcyhlbGVtZW50cywgY2xhc3NOYW1lLCBpbmNsdWRlKSB7CiAgICB2YXIgcmVzdWx0cyA9IFtdOwogICAgZm9yICh2YXIgaSA9IDA7IGkgPCBlbGVtZW50cy5sZW5ndGg7IGkrKykgewogICAgICBpZiAoaGFzQ2xhc3MoZWxlbWVudHNbaV0sIGNsYXNzTmFtZSkgPT0gaW5jbHVkZSkKICAgICAgICByZXN1bHRzLnB1c2goZWxlbWVudHNbaV0pOwogICAgfQogICAgcmV0dXJuIHJlc3VsdHM7CiAgfQoKICBmdW5jdGlvbiBvbihvYmosIGV2ZW50TmFtZSwgZnVuYykgewogICAgaWYgKG9iai5hZGRFdmVudExpc3RlbmVyKSB7CiAgICAgIG9iai5hZGRFdmVudExpc3RlbmVyKGV2ZW50TmFtZSwgZnVuYywgZmFsc2UpOwogICAgfSBlbHNlIGlmIChvYmouYXR0YWNoRXZlbnQpIHsKICAgICAgb2JqLmF0dGFjaEV2ZW50KGV2ZW50TmFtZSwgZnVuYyk7CiAgICB9CiAgfQoKICBmdW5jdGlvbiBvZmYob2JqLCBldmVudE5hbWUsIGZ1bmMpIHsKICAgIGlmIChvYmoucmVtb3ZlRXZlbnRMaXN0ZW5lcikKICAgICAgb2JqLnJlbW92ZUV2ZW50TGlzdGVuZXIoZXZlbnROYW1lLCBmdW5jLCBmYWxzZSk7CiAgICBlbHNlIGlmIChvYmouZGV0YWNoRXZlbnQpIHsKICAgICAgb2JqLmRldGFjaEV2ZW50KGV2ZW50TmFtZSwgZnVuYyk7CiAgICB9CiAgfQoKICAvLyBUcmFuc2xhdGUgYXJyYXkgb2YgdmFsdWVzIHRvIHRvcC9yaWdodC9ib3R0b20vbGVmdCwgYXMgdXN1YWwgd2l0aAogIC8vIHRoZSAicGFkZGluZyIgQ1NTIHByb3BlcnR5CiAgLy8gaHR0cHM6Ly9kZXZlbG9wZXIubW96aWxsYS5vcmcvZW4tVVMvZG9jcy9XZWIvQ1NTL3BhZGRpbmcKICBmdW5jdGlvbiB1bnBhY2tQYWRkaW5nKHZhbHVlKSB7CiAgICBpZiAodHlwZW9mKHZhbHVlKSA9PT0gIm51bWJlciIpCiAgICAgIHZhbHVlID0gW3ZhbHVlXTsKICAgIGlmICh2YWx1ZS5sZW5ndGggPT09IDEpIHsKICAgICAgcmV0dXJuIHt0b3A6IHZhbHVlWzBdLCByaWdodDogdmFsdWVbMF0sIGJvdHRvbTogdmFsdWVbMF0sIGxlZnQ6IHZhbHVlWzBdfTsKICAgIH0KICAgIGlmICh2YWx1ZS5sZW5ndGggPT09IDIpIHsKICAgICAgcmV0dXJuIHt0b3A6IHZhbHVlWzBdLCByaWdodDogdmFsdWVbMV0sIGJvdHRvbTogdmFsdWVbMF0sIGxlZnQ6IHZhbHVlWzFdfTsKICAgIH0KICAgIGlmICh2YWx1ZS5sZW5ndGggPT09IDMpIHsKICAgICAgcmV0dXJuIHt0b3A6IHZhbHVlWzBdLCByaWdodDogdmFsdWVbMV0sIGJvdHRvbTogdmFsdWVbMl0sIGxlZnQ6IHZhbHVlWzFdfTsKICAgIH0KICAgIGlmICh2YWx1ZS5sZW5ndGggPT09IDQpIHsKICAgICAgcmV0dXJuIHt0b3A6IHZhbHVlWzBdLCByaWdodDogdmFsdWVbMV0sIGJvdHRvbTogdmFsdWVbMl0sIGxlZnQ6IHZhbHVlWzNdfTsKICAgIH0KICB9CgogIC8vIENvbnZlcnQgYW4gdW5wYWNrZWQgcGFkZGluZyBvYmplY3QgdG8gYSBDU1MgdmFsdWUKICBmdW5jdGlvbiBwYWRkaW5nVG9Dc3MocGFkZGluZ09iaikgewogICAgcmV0dXJuIHBhZGRpbmdPYmoudG9wICsgInB4ICIgKyBwYWRkaW5nT2JqLnJpZ2h0ICsgInB4ICIgKyBwYWRkaW5nT2JqLmJvdHRvbSArICJweCAiICsgcGFkZGluZ09iai5sZWZ0ICsgInB4IjsKICB9CgogIC8vIE1ha2VzIGEgbnVtYmVyIHN1aXRhYmxlIGZvciBDU1MKICBmdW5jdGlvbiBweCh4KSB7CiAgICBpZiAodHlwZW9mKHgpID09PSAibnVtYmVyIikKICAgICAgcmV0dXJuIHggKyAicHgiOwogICAgZWxzZQogICAgICByZXR1cm4geDsKICB9CgogIC8vIFJldHJpZXZlcyBydW50aW1lIHdpZGdldCBzaXppbmcgaW5mb3JtYXRpb24gZm9yIGFuIGVsZW1lbnQuCiAgLy8gVGhlIHJldHVybiB2YWx1ZSBpcyBlaXRoZXIgbnVsbCwgb3IgYW4gb2JqZWN0IHdpdGggZmlsbCwgcGFkZGluZywKICAvLyBkZWZhdWx0V2lkdGgsIGRlZmF1bHRIZWlnaHQgZmllbGRzLgogIGZ1bmN0aW9uIHNpemluZ1BvbGljeShlbCkgewogICAgdmFyIHNpemluZ0VsID0gZG9jdW1lbnQucXVlcnlTZWxlY3Rvcigic2NyaXB0W2RhdGEtZm9yPSciICsgZWwuaWQgKyAiJ11bdHlwZT0nYXBwbGljYXRpb24vaHRtbHdpZGdldC1zaXppbmcnXSIpOwogICAgaWYgKCFzaXppbmdFbCkKICAgICAgcmV0dXJuIG51bGw7CiAgICB2YXIgc3AgPSBKU09OLnBhcnNlKHNpemluZ0VsLnRleHRDb250ZW50IHx8IHNpemluZ0VsLnRleHQgfHwgInt9Iik7CiAgICBpZiAodmlld2VyTW9kZSkgewogICAgICByZXR1cm4gc3Audmlld2VyOwogICAgfSBlbHNlIHsKICAgICAgcmV0dXJuIHNwLmJyb3dzZXI7CiAgICB9CiAgfQoKICAvLyBAcGFyYW0gdGFza3MgQXJyYXkgb2Ygc3RyaW5ncyAob3IgZmFsc3kgdmFsdWUsIGluIHdoaWNoIGNhc2Ugbm8tb3ApLgogIC8vICAgRWFjaCBlbGVtZW50IG11c3QgYmUgYSB2YWxpZCBKYXZhU2NyaXB0IGV4cHJlc3Npb24gdGhhdCB5aWVsZHMgYQogIC8vICAgZnVuY3Rpb24uIE9yLCBjYW4gYmUgYW4gYXJyYXkgb2Ygb2JqZWN0cyB3aXRoICJjb2RlIiBhbmQgImRhdGEiCiAgLy8gICBwcm9wZXJ0aWVzOyBpbiB0aGlzIGNhc2UsIHRoZSAiY29kZSIgcHJvcGVydHkgc2hvdWxkIGJlIGEgc3RyaW5nCiAgLy8gICBvZiBKUyB0aGF0J3MgYW4gZXhwciB0aGF0IHlpZWxkcyBhIGZ1bmN0aW9uLCBhbmQgImRhdGEiIHNob3VsZCBiZQogIC8vICAgYW4gb2JqZWN0IHRoYXQgd2lsbCBiZSBhZGRlZCBhcyBhbiBhZGRpdGlvbmFsIGFyZ3VtZW50IHdoZW4gdGhhdAogIC8vICAgZnVuY3Rpb24gaXMgY2FsbGVkLgogIC8vIEBwYXJhbSB0YXJnZXQgVGhlIG9iamVjdCB0aGF0IHdpbGwgYmUgInRoaXMiIGZvciBlYWNoIGZ1bmN0aW9uCiAgLy8gICBleGVjdXRpb24uCiAgLy8gQHBhcmFtIGFyZ3MgQXJyYXkgb2YgYXJndW1lbnRzIHRvIGJlIHBhc3NlZCB0byB0aGUgZnVuY3Rpb25zLiAoVGhlCiAgLy8gICBzYW1lIGFyZ3VtZW50cyB3aWxsIGJlIHBhc3NlZCB0byBhbGwgZnVuY3Rpb25zLikKICBmdW5jdGlvbiBldmFsQW5kUnVuKHRhc2tzLCB0YXJnZXQsIGFyZ3MpIHsKICAgIGlmICh0YXNrcykgewogICAgICBmb3JFYWNoKHRhc2tzLCBmdW5jdGlvbih0YXNrKSB7CiAgICAgICAgdmFyIHRoZXNlQXJncyA9IGFyZ3M7CiAgICAgICAgaWYgKHR5cGVvZih0YXNrKSA9PT0gIm9iamVjdCIpIHsKICAgICAgICAgIHRoZXNlQXJncyA9IHRoZXNlQXJncy5jb25jYXQoW3Rhc2suZGF0YV0pOwogICAgICAgICAgdGFzayA9IHRhc2suY29kZTsKICAgICAgICB9CiAgICAgICAgdmFyIHRhc2tGdW5jID0gdHJ5RXZhbCh0YXNrKTsKICAgICAgICBpZiAodHlwZW9mKHRhc2tGdW5jKSAhPT0gImZ1bmN0aW9uIikgewogICAgICAgICAgdGhyb3cgbmV3IEVycm9yKCJUYXNrIG11c3QgYmUgYSBmdW5jdGlvbiEgU291cmNlOlxuIiArIHRhc2spOwogICAgICAgIH0KICAgICAgICB0YXNrRnVuYy5hcHBseSh0YXJnZXQsIHRoZXNlQXJncyk7CiAgICAgIH0pOwogICAgfQogIH0KCiAgLy8gQXR0ZW1wdCBldmFsKCkgYm90aCB3aXRoIGFuZCB3aXRob3V0IGVuY2xvc2luZyBpbiBwYXJlbnRoZXNlcy4KICAvLyBOb3RlIHRoYXQgZW5jbG9zaW5nIGNvZXJjZXMgYSBmdW5jdGlvbiBkZWNsYXJhdGlvbiBpbnRvCiAgLy8gYW4gZXhwcmVzc2lvbiB0aGF0IGV2YWwoKSBjYW4gcGFyc2UKICAvLyAob3RoZXJ3aXNlLCBhIFN5bnRheEVycm9yIGlzIHRocm93bikKICBmdW5jdGlvbiB0cnlFdmFsKGNvZGUpIHsKICAgIHZhciByZXN1bHQgPSBudWxsOwogICAgdHJ5IHsKICAgICAgcmVzdWx0ID0gZXZhbChjb2RlKTsKICAgIH0gY2F0Y2goZXJyb3IpIHsKICAgICAgaWYgKCFlcnJvciBpbnN0YW5jZW9mIFN5bnRheEVycm9yKSB7CiAgICAgICAgdGhyb3cgZXJyb3I7CiAgICAgIH0KICAgICAgdHJ5IHsKICAgICAgICByZXN1bHQgPSBldmFsKCIoIiArIGNvZGUgKyAiKSIpOwogICAgICB9IGNhdGNoKGUpIHsKICAgICAgICBpZiAoZSBpbnN0YW5jZW9mIFN5bnRheEVycm9yKSB7CiAgICAgICAgICB0aHJvdyBlcnJvcjsKICAgICAgICB9IGVsc2UgewogICAgICAgICAgdGhyb3cgZTsKICAgICAgICB9CiAgICAgIH0KICAgIH0KICAgIHJldHVybiByZXN1bHQ7CiAgfQoKICBmdW5jdGlvbiBpbml0U2l6aW5nKGVsKSB7CiAgICB2YXIgc2l6aW5nID0gc2l6aW5nUG9saWN5KGVsKTsKICAgIGlmICghc2l6aW5nKQogICAgICByZXR1cm47CgogICAgdmFyIGNlbCA9IGRvY3VtZW50LmdldEVsZW1lbnRCeUlkKCJodG1sd2lkZ2V0X2NvbnRhaW5lciIpOwogICAgaWYgKCFjZWwpCiAgICAgIHJldHVybjsKCiAgICBpZiAodHlwZW9mKHNpemluZy5wYWRkaW5nKSAhPT0gInVuZGVmaW5lZCIpIHsKICAgICAgZG9jdW1lbnQuYm9keS5zdHlsZS5tYXJnaW4gPSAiMCI7CiAgICAgIGRvY3VtZW50LmJvZHkuc3R5bGUucGFkZGluZyA9IHBhZGRpbmdUb0Nzcyh1bnBhY2tQYWRkaW5nKHNpemluZy5wYWRkaW5nKSk7CiAgICB9CgogICAgaWYgKHNpemluZy5maWxsKSB7CiAgICAgIGRvY3VtZW50LmJvZHkuc3R5bGUub3ZlcmZsb3cgPSAiaGlkZGVuIjsKICAgICAgZG9jdW1lbnQuYm9keS5zdHlsZS53aWR0aCA9ICIxMDAlIjsKICAgICAgZG9jdW1lbnQuYm9keS5zdHlsZS5oZWlnaHQgPSAiMTAwJSI7CiAgICAgIGRvY3VtZW50LmRvY3VtZW50RWxlbWVudC5zdHlsZS53aWR0aCA9ICIxMDAlIjsKICAgICAgZG9jdW1lbnQuZG9jdW1lbnRFbGVtZW50LnN0eWxlLmhlaWdodCA9ICIxMDAlIjsKICAgICAgaWYgKGNlbCkgewogICAgICAgIGNlbC5zdHlsZS5wb3NpdGlvbiA9ICJhYnNvbHV0ZSI7CiAgICAgICAgdmFyIHBhZCA9IHVucGFja1BhZGRpbmcoc2l6aW5nLnBhZGRpbmcpOwogICAgICAgIGNlbC5zdHlsZS50b3AgPSBwYWQudG9wICsgInB4IjsKICAgICAgICBjZWwuc3R5bGUucmlnaHQgPSBwYWQucmlnaHQgKyAicHgiOwogICAgICAgIGNlbC5zdHlsZS5ib3R0b20gPSBwYWQuYm90dG9tICsgInB4IjsKICAgICAgICBjZWwuc3R5bGUubGVmdCA9IHBhZC5sZWZ0ICsgInB4IjsKICAgICAgICBlbC5zdHlsZS53aWR0aCA9ICIxMDAlIjsKICAgICAgICBlbC5zdHlsZS5oZWlnaHQgPSAiMTAwJSI7CiAgICAgIH0KCiAgICAgIHJldHVybiB7CiAgICAgICAgZ2V0V2lkdGg6IGZ1bmN0aW9uKCkgeyByZXR1cm4gY2VsLm9mZnNldFdpZHRoOyB9LAogICAgICAgIGdldEhlaWdodDogZnVuY3Rpb24oKSB7IHJldHVybiBjZWwub2Zmc2V0SGVpZ2h0OyB9CiAgICAgIH07CgogICAgfSBlbHNlIHsKICAgICAgZWwuc3R5bGUud2lkdGggPSBweChzaXppbmcud2lkdGgpOwogICAgICBlbC5zdHlsZS5oZWlnaHQgPSBweChzaXppbmcuaGVpZ2h0KTsKCiAgICAgIHJldHVybiB7CiAgICAgICAgZ2V0V2lkdGg6IGZ1bmN0aW9uKCkgeyByZXR1cm4gZWwub2Zmc2V0V2lkdGg7IH0sCiAgICAgICAgZ2V0SGVpZ2h0OiBmdW5jdGlvbigpIHsgcmV0dXJuIGVsLm9mZnNldEhlaWdodDsgfQogICAgICB9OwogICAgfQogIH0KCiAgLy8gRGVmYXVsdCBpbXBsZW1lbnRhdGlvbnMgZm9yIG1ldGhvZHMKICB2YXIgZGVmYXVsdHMgPSB7CiAgICBmaW5kOiBmdW5jdGlvbihzY29wZSkgewogICAgICByZXR1cm4gcXVlcnlTZWxlY3RvckFsbChzY29wZSwgIi4iICsgdGhpcy5uYW1lKTsKICAgIH0sCiAgICByZW5kZXJFcnJvcjogZnVuY3Rpb24oZWwsIGVycikgewogICAgICB2YXIgJGVsID0gJChlbCk7CgogICAgICB0aGlzLmNsZWFyRXJyb3IoZWwpOwoKICAgICAgLy8gQWRkIGFsbCB0aGVzZSBlcnJvciBjbGFzc2VzLCBhcyBTaGlueSBkb2VzCiAgICAgIHZhciBlcnJDbGFzcyA9ICJzaGlueS1vdXRwdXQtZXJyb3IiOwogICAgICBpZiAoZXJyLnR5cGUgIT09IG51bGwpIHsKICAgICAgICAvLyB1c2UgdGhlIGNsYXNzZXMgb2YgdGhlIGVycm9yIGNvbmRpdGlvbiBhcyBDU1MgY2xhc3MgbmFtZXMKICAgICAgICBlcnJDbGFzcyA9IGVyckNsYXNzICsgIiAiICsgJC5tYXAoYXNBcnJheShlcnIudHlwZSksIGZ1bmN0aW9uKHR5cGUpIHsKICAgICAgICAgIHJldHVybiBlcnJDbGFzcyArICItIiArIHR5cGU7CiAgICAgICAgfSkuam9pbigiICIpOwogICAgICB9CiAgICAgIGVyckNsYXNzID0gZXJyQ2xhc3MgKyAiIGh0bWx3aWRnZXRzLWVycm9yIjsKCiAgICAgIC8vIElzIGVsIGlubGluZSBvciBibG9jaz8gSWYgaW5saW5lIG9yIGlubGluZS1ibG9jaywganVzdCBkaXNwbGF5Om5vbmUgaXQKICAgICAgLy8gYW5kIGFkZCBhbiBpbmxpbmUgZXJyb3IuCiAgICAgIHZhciBkaXNwbGF5ID0gJGVsLmNzcygiZGlzcGxheSIpOwogICAgICAkZWwuZGF0YSgicmVzdG9yZS1kaXNwbGF5LW1vZGUiLCBkaXNwbGF5KTsKCiAgICAgIGlmIChkaXNwbGF5ID09PSAiaW5saW5lIiB8fCBkaXNwbGF5ID09PSAiaW5saW5lLWJsb2NrIikgewogICAgICAgICRlbC5oaWRlKCk7CiAgICAgICAgaWYgKGVyci5tZXNzYWdlICE9PSAiIikgewogICAgICAgICAgdmFyIGVycm9yU3BhbiA9ICQoIjxzcGFuPiIpLmFkZENsYXNzKGVyckNsYXNzKTsKICAgICAgICAgIGVycm9yU3Bhbi50ZXh0KGVyci5tZXNzYWdlKTsKICAgICAgICAgICRlbC5hZnRlcihlcnJvclNwYW4pOwogICAgICAgIH0KICAgICAgfSBlbHNlIGlmIChkaXNwbGF5ID09PSAiYmxvY2siKSB7CiAgICAgICAgLy8gSWYgYmxvY2ssIGFkZCBhbiBlcnJvciBqdXN0IGFmdGVyIHRoZSBlbCwgc2V0IHZpc2liaWxpdHk6bm9uZSBvbiB0aGUKICAgICAgICAvLyBlbCwgYW5kIHBvc2l0aW9uIHRoZSBlcnJvciB0byBiZSBvbiB0b3Agb2YgdGhlIGVsLgogICAgICAgIC8vIE1hcmsgaXQgd2l0aCBhIHVuaXF1ZSBJRCBhbmQgQ1NTIGNsYXNzIHNvIHdlIGNhbiByZW1vdmUgaXQgbGF0ZXIuCiAgICAgICAgJGVsLmNzcygidmlzaWJpbGl0eSIsICJoaWRkZW4iKTsKICAgICAgICBpZiAoZXJyLm1lc3NhZ2UgIT09ICIiKSB7CiAgICAgICAgICB2YXIgZXJyb3JEaXYgPSAkKCI8ZGl2PiIpLmFkZENsYXNzKGVyckNsYXNzKS5jc3MoInBvc2l0aW9uIiwgImFic29sdXRlIikKICAgICAgICAgICAgLmNzcygidG9wIiwgZWwub2Zmc2V0VG9wKQogICAgICAgICAgICAuY3NzKCJsZWZ0IiwgZWwub2Zmc2V0TGVmdCkKICAgICAgICAgICAgLy8gc2V0dGluZyB3aWR0aCBjYW4gcHVzaCBvdXQgdGhlIHBhZ2Ugc2l6ZSwgZm9yY2luZyBvdGhlcndpc2UKICAgICAgICAgICAgLy8gdW5uZWNlc3Nhcnkgc2Nyb2xsYmFycyB0byBhcHBlYXIgYW5kIG1ha2luZyBpdCBpbXBvc3NpYmxlIGZvcgogICAgICAgICAgICAvLyB0aGUgZWxlbWVudCB0byBzaHJpbms7IHNvIHVzZSBtYXgtd2lkdGggaW5zdGVhZAogICAgICAgICAgICAuY3NzKCJtYXhXaWR0aCIsIGVsLm9mZnNldFdpZHRoKQogICAgICAgICAgICAuY3NzKCJoZWlnaHQiLCBlbC5vZmZzZXRIZWlnaHQpOwogICAgICAgICAgZXJyb3JEaXYudGV4dChlcnIubWVzc2FnZSk7CiAgICAgICAgICAkZWwuYWZ0ZXIoZXJyb3JEaXYpOwoKICAgICAgICAgIC8vIFJlYWxseSBkdW1iIHdheSB0byBrZWVwIHRoZSBzaXplL3Bvc2l0aW9uIG9mIHRoZSBlcnJvciBpbiBzeW5jIHdpdGgKICAgICAgICAgIC8vIHRoZSBwYXJlbnQgZWxlbWVudCBhcyB0aGUgd2luZG93IGlzIHJlc2l6ZWQgb3Igd2hhdGV2ZXIuCiAgICAgICAgICB2YXIgaW50SWQgPSBzZXRJbnRlcnZhbChmdW5jdGlvbigpIHsKICAgICAgICAgICAgaWYgKCFlcnJvckRpdlswXS5wYXJlbnRFbGVtZW50KSB7CiAgICAgICAgICAgICAgY2xlYXJJbnRlcnZhbChpbnRJZCk7CiAgICAgICAgICAgICAgcmV0dXJuOwogICAgICAgICAgICB9CiAgICAgICAgICAgIGVycm9yRGl2CiAgICAgICAgICAgICAgLmNzcygidG9wIiwgZWwub2Zmc2V0VG9wKQogICAgICAgICAgICAgIC5jc3MoImxlZnQiLCBlbC5vZmZzZXRMZWZ0KQogICAgICAgICAgICAgIC5jc3MoIm1heFdpZHRoIiwgZWwub2Zmc2V0V2lkdGgpCiAgICAgICAgICAgICAgLmNzcygiaGVpZ2h0IiwgZWwub2Zmc2V0SGVpZ2h0KTsKICAgICAgICAgIH0sIDUwMCk7CiAgICAgICAgfQogICAgICB9CiAgICB9LAogICAgY2xlYXJFcnJvcjogZnVuY3Rpb24oZWwpIHsKICAgICAgdmFyICRlbCA9ICQoZWwpOwogICAgICB2YXIgZGlzcGxheSA9ICRlbC5kYXRhKCJyZXN0b3JlLWRpc3BsYXktbW9kZSIpOwogICAgICAkZWwuZGF0YSgicmVzdG9yZS1kaXNwbGF5LW1vZGUiLCBudWxsKTsKCiAgICAgIGlmIChkaXNwbGF5ID09PSAiaW5saW5lIiB8fCBkaXNwbGF5ID09PSAiaW5saW5lLWJsb2NrIikgewogICAgICAgIGlmIChkaXNwbGF5KQogICAgICAgICAgJGVsLmNzcygiZGlzcGxheSIsIGRpc3BsYXkpOwogICAgICAgICQoZWwubmV4dFNpYmxpbmcpLmZpbHRlcigiLmh0bWx3aWRnZXRzLWVycm9yIikucmVtb3ZlKCk7CiAgICAgIH0gZWxzZSBpZiAoZGlzcGxheSA9PT0gImJsb2NrIil7CiAgICAgICAgJGVsLmNzcygidmlzaWJpbGl0eSIsICJpbmhlcml0Iik7CiAgICAgICAgJChlbC5uZXh0U2libGluZykuZmlsdGVyKCIuaHRtbHdpZGdldHMtZXJyb3IiKS5yZW1vdmUoKTsKICAgICAgfQogICAgfSwKICAgIHNpemluZzoge30KICB9OwoKICAvLyBDYWxsZWQgYnkgd2lkZ2V0IGJpbmRpbmdzIHRvIHJlZ2lzdGVyIGEgbmV3IHR5cGUgb2Ygd2lkZ2V0LiBUaGUgZGVmaW5pdGlvbgogIC8vIG9iamVjdCBjYW4gY29udGFpbiB0aGUgZm9sbG93aW5nIHByb3BlcnRpZXM6CiAgLy8gLSBuYW1lIChyZXF1aXJlZCkgLSBBIHN0cmluZyBpbmRpY2F0aW5nIHRoZSBiaW5kaW5nIG5hbWUsIHdoaWNoIHdpbGwgYmUKICAvLyAgIHVzZWQgYnkgZGVmYXVsdCBhcyB0aGUgQ1NTIGNsYXNzbmFtZSB0byBsb29rIGZvci4KICAvLyAtIGluaXRpYWxpemUgKG9wdGlvbmFsKSAtIEEgZnVuY3Rpb24oZWwpIHRoYXQgd2lsbCBiZSBjYWxsZWQgb25jZSBwZXIKICAvLyAgIHdpZGdldCBlbGVtZW50OyBpZiBhIHZhbHVlIGlzIHJldHVybmVkLCBpdCB3aWxsIGJlIHBhc3NlZCBhcyB0aGUgdGhpcmQKICAvLyAgIHZhbHVlIHRvIHJlbmRlclZhbHVlLgogIC8vIC0gcmVuZGVyVmFsdWUgKHJlcXVpcmVkKSAtIEEgZnVuY3Rpb24oZWwsIGRhdGEsIGluaXRWYWx1ZSkgdGhhdCB3aWxsIGJlCiAgLy8gICBjYWxsZWQgd2l0aCBkYXRhLiBTdGF0aWMgY29udGV4dHMgd2lsbCBjYXVzZSB0aGlzIHRvIGJlIGNhbGxlZCBvbmNlIHBlcgogIC8vICAgZWxlbWVudDsgU2hpbnkgYXBwcyB3aWxsIGNhdXNlIHRoaXMgdG8gYmUgY2FsbGVkIG11bHRpcGxlIHRpbWVzIHBlcgogIC8vICAgZWxlbWVudCwgYXMgdGhlIGRhdGEgY2hhbmdlcy4KICB3aW5kb3cuSFRNTFdpZGdldHMud2lkZ2V0ID0gZnVuY3Rpb24oZGVmaW5pdGlvbikgewogICAgaWYgKCFkZWZpbml0aW9uLm5hbWUpIHsKICAgICAgdGhyb3cgbmV3IEVycm9yKCJXaWRnZXQgbXVzdCBoYXZlIGEgbmFtZSIpOwogICAgfQogICAgaWYgKCFkZWZpbml0aW9uLnR5cGUpIHsKICAgICAgdGhyb3cgbmV3IEVycm9yKCJXaWRnZXQgbXVzdCBoYXZlIGEgdHlwZSIpOwogICAgfQogICAgLy8gQ3VycmVudGx5IHdlIG9ubHkgc3VwcG9ydCBvdXRwdXQgd2lkZ2V0cwogICAgaWYgKGRlZmluaXRpb24udHlwZSAhPT0gIm91dHB1dCIpIHsKICAgICAgdGhyb3cgbmV3IEVycm9yKCJVbnJlY29nbml6ZWQgd2lkZ2V0IHR5cGUgJyIgKyBkZWZpbml0aW9uLnR5cGUgKyAiJyIpOwogICAgfQogICAgLy8gVE9ETzogVmVyaWZ5IHRoYXQgLm5hbWUgaXMgYSB2YWxpZCBDU1MgY2xhc3NuYW1lCgogICAgLy8gU3VwcG9ydCBuZXctc3R5bGUgaW5zdGFuY2UtYm91bmQgZGVmaW5pdGlvbnMuIE9sZC1zdHlsZSBjbGFzcy1ib3VuZAogICAgLy8gZGVmaW5pdGlvbnMgaGF2ZSBvbmUgd2lkZ2V0ICJvYmplY3QiIHBlciB3aWRnZXQgcGVyIHR5cGUvY2xhc3Mgb2YKICAgIC8vIHdpZGdldDsgdGhlIHJlbmRlclZhbHVlIGFuZCByZXNpemUgbWV0aG9kcyBvbiBzdWNoIHdpZGdldCBvYmplY3RzCiAgICAvLyB0YWtlIGVsIGFuZCBpbnN0YW5jZSBhcmd1bWVudHMsIGJlY2F1c2UgdGhlIHdpZGdldCBvYmplY3QgY2FuJ3QKICAgIC8vIHN0b3JlIHRoZW0uIE5ldy1zdHlsZSBpbnN0YW5jZS1ib3VuZCBkZWZpbml0aW9ucyBoYXZlIG9uZSB3aWRnZXQKICAgIC8vIG9iamVjdCBwZXIgd2lkZ2V0IGluc3RhbmNlOyB0aGUgZGVmaW5pdGlvbiB0aGF0J3MgcGFzc2VkIGluIGRvZXNuJ3QKICAgIC8vIHByb3ZpZGUgcmVuZGVyVmFsdWUgb3IgcmVzaXplIG1ldGhvZHMgYXQgYWxsLCBqdXN0IHRoZSBzaW5nbGUgbWV0aG9kCiAgICAvLyAgIGZhY3RvcnkoZWwsIHdpZHRoLCBoZWlnaHQpCiAgICAvLyB3aGljaCByZXR1cm5zIGFuIG9iamVjdCB0aGF0IGhhcyByZW5kZXJWYWx1ZSh4KSBhbmQgcmVzaXplKHcsIGgpLgogICAgLy8gVGhpcyBlbmFibGVzIGEgZmFyIG1vcmUgbmF0dXJhbCBwcm9ncmFtbWluZyBzdHlsZSBmb3IgdGhlIHdpZGdldAogICAgLy8gYXV0aG9yLCB3aG8gY2FuIHN0b3JlIHBlci1pbnN0YW5jZSBzdGF0ZSB1c2luZyBlaXRoZXIgT08tc3R5bGUKICAgIC8vIGluc3RhbmNlIGZpZWxkcyBvciBmdW5jdGlvbmFsLXN0eWxlIGNsb3N1cmUgdmFyaWFibGVzIChJIGd1ZXNzIHRoaXMKICAgIC8vIGlzIGluIGNvbnRyYXN0IHRvIHdoYXQgY2FuIG9ubHkgYmUgY2FsbGVkIEMtc3R5bGUgcHNldWRvLU9PIHdoaWNoIGlzCiAgICAvLyB3aGF0IHdlIHJlcXVpcmVkIGJlZm9yZSkuCiAgICBpZiAoZGVmaW5pdGlvbi5mYWN0b3J5KSB7CiAgICAgIGRlZmluaXRpb24gPSBjcmVhdGVMZWdhY3lEZWZpbml0aW9uQWRhcHRlcihkZWZpbml0aW9uKTsKICAgIH0KCiAgICBpZiAoIWRlZmluaXRpb24ucmVuZGVyVmFsdWUpIHsKICAgICAgdGhyb3cgbmV3IEVycm9yKCJXaWRnZXQgbXVzdCBoYXZlIGEgcmVuZGVyVmFsdWUgZnVuY3Rpb24iKTsKICAgIH0KCiAgICAvLyBGb3Igc3RhdGljIHJlbmRlcmluZyAobm9uLVNoaW55KSwgdXNlIGEgc2ltcGxlIHdpZGdldCByZWdpc3RyYXRpb24KICAgIC8vIHNjaGVtZS4gV2UgYWxzbyB1c2UgdGhpcyBzY2hlbWUgZm9yIFNoaW55IGFwcHMvZG9jdW1lbnRzIHRoYXQgYWxzbwogICAgLy8gY29udGFpbiBzdGF0aWMgd2lkZ2V0cy4KICAgIHdpbmRvdy5IVE1MV2lkZ2V0cy53aWRnZXRzID0gd2luZG93LkhUTUxXaWRnZXRzLndpZGdldHMgfHwgW107CiAgICAvLyBNZXJnZSBkZWZhdWx0cyBpbnRvIHRoZSBkZWZpbml0aW9uOyBkb24ndCBtdXRhdGUgdGhlIG9yaWdpbmFsIGRlZmluaXRpb24uCiAgICB2YXIgc3RhdGljQmluZGluZyA9IGV4dGVuZCh7fSwgZGVmYXVsdHMsIGRlZmluaXRpb24pOwogICAgb3ZlcnJpZGVNZXRob2Qoc3RhdGljQmluZGluZywgImZpbmQiLCBmdW5jdGlvbihzdXBlcmZ1bmMpIHsKICAgICAgcmV0dXJuIGZ1bmN0aW9uKHNjb3BlKSB7CiAgICAgICAgdmFyIHJlc3VsdHMgPSBzdXBlcmZ1bmMoc2NvcGUpOwogICAgICAgIC8vIEZpbHRlciBvdXQgU2hpbnkgb3V0cHV0cywgd2Ugb25seSB3YW50IHRoZSBzdGF0aWMga2luZAogICAgICAgIHJldHVybiBmaWx0ZXJCeUNsYXNzKHJlc3VsdHMsICJodG1sLXdpZGdldC1vdXRwdXQiLCBmYWxzZSk7CiAgICAgIH07CiAgICB9KTsKICAgIHdpbmRvdy5IVE1MV2lkZ2V0cy53aWRnZXRzLnB1c2goc3RhdGljQmluZGluZyk7CgogICAgaWYgKHNoaW55TW9kZSkgewogICAgICAvLyBTaGlueSBpcyBydW5uaW5nLiBSZWdpc3RlciB0aGUgZGVmaW5pdGlvbiB3aXRoIGFuIG91dHB1dCBiaW5kaW5nLgogICAgICAvLyBUaGUgZGVmaW5pdGlvbiBpdHNlbGYgd2lsbCBub3QgYmUgdGhlIG91dHB1dCBiaW5kaW5nLCBpbnN0ZWFkCiAgICAgIC8vIHdlIHdpbGwgbWFrZSBhbiBvdXRwdXQgYmluZGluZyBvYmplY3QgdGhhdCBkZWxlZ2F0ZXMgdG8gdGhlCiAgICAgIC8vIGRlZmluaXRpb24uIFRoaXMgaXMgYmVjYXVzZSB3ZSBmb29saXNobHkgdXNlZCB0aGUgc2FtZSBtZXRob2QKICAgICAgLy8gbmFtZSAocmVuZGVyVmFsdWUpIGZvciBodG1sd2lkZ2V0cyBkZWZpbml0aW9uIGFuZCBTaGlueSBiaW5kaW5ncwogICAgICAvLyBidXQgdGhleSBhY3R1YWxseSBoYXZlIHF1aXRlIGRpZmZlcmVudCBzZW1hbnRpY3MgKHRoZSBTaGlueQogICAgICAvLyBiaW5kaW5ncyByZWNlaXZlIGRhdGEgdGhhdCBpbmNsdWRlcyBsb3RzIG9mIG1ldGFkYXRhIHRoYXQgaXQKICAgICAgLy8gc3RyaXBzIG9mZiBiZWZvcmUgY2FsbGluZyBodG1sd2lkZ2V0cyByZW5kZXJWYWx1ZSkuIFdlIGNhbid0CiAgICAgIC8vIGp1c3QgaWdub3JlIHRoZSBkaWZmZXJlbmNlIGJlY2F1c2UgaW4gc29tZSB3aWRnZXRzIGl0J3MgaGVscGZ1bAogICAgICAvLyB0byBjYWxsIHRoaXMucmVuZGVyVmFsdWUoKSBmcm9tIGluc2lkZSBvZiByZXNpemUoKSwgYW5kIGlmCiAgICAgIC8vIHdlJ3JlIG5vdCBkZWxlZ2F0aW5nLCB0aGVuIHRoYXQgY2FsbCB3aWxsIGdvIHRvIHRoZSBTaGlueQogICAgICAvLyB2ZXJzaW9uIGluc3RlYWQgb2YgdGhlIGh0bWx3aWRnZXRzIHZlcnNpb24uCgogICAgICAvLyBNZXJnZSBkZWZhdWx0cyB3aXRoIGRlZmluaXRpb24sIHdpdGhvdXQgbXV0YXRpbmcgZWl0aGVyLgogICAgICB2YXIgYmluZGluZ0RlZiA9IGV4dGVuZCh7fSwgZGVmYXVsdHMsIGRlZmluaXRpb24pOwoKICAgICAgLy8gVGhpcyBvYmplY3Qgd2lsbCBiZSBvdXIgYWN0dWFsIFNoaW55IGJpbmRpbmcuCiAgICAgIHZhciBzaGlueUJpbmRpbmcgPSBuZXcgU2hpbnkuT3V0cHV0QmluZGluZygpOwoKICAgICAgLy8gV2l0aCBhIGZldyBleGNlcHRpb25zLCB3ZSdsbCB3YW50IHRvIHNpbXBseSB1c2UgdGhlIGJpbmRpbmdEZWYncwogICAgICAvLyB2ZXJzaW9uIG9mIG1ldGhvZHMgaWYgdGhleSBhcmUgYXZhaWxhYmxlLCBvdGhlcndpc2UgZmFsbCBiYWNrIHRvCiAgICAgIC8vIFNoaW55J3MgZGVmYXVsdHMuIE5PVEU6IElmIFNoaW55J3Mgb3V0cHV0IGJpbmRpbmdzIGdhaW4gYWRkaXRpb25hbAogICAgICAvLyBtZXRob2RzIGluIHRoZSBmdXR1cmUsIGFuZCB3ZSB3YW50IHRoZW0gdG8gYmUgb3ZlcnJpZGVhYmxlIGJ5CiAgICAgIC8vIEhUTUxXaWRnZXQgYmluZGluZyBkZWZpbml0aW9ucywgdGhlbiB3ZSdsbCBuZWVkIHRvIGFkZCB0aGVtIHRvIHRoaXMKICAgICAgLy8gbGlzdC4KICAgICAgZGVsZWdhdGVNZXRob2Qoc2hpbnlCaW5kaW5nLCBiaW5kaW5nRGVmLCAiZ2V0SWQiKTsKICAgICAgZGVsZWdhdGVNZXRob2Qoc2hpbnlCaW5kaW5nLCBiaW5kaW5nRGVmLCAib25WYWx1ZUNoYW5nZSIpOwogICAgICBkZWxlZ2F0ZU1ldGhvZChzaGlueUJpbmRpbmcsIGJpbmRpbmdEZWYsICJvblZhbHVlRXJyb3IiKTsKICAgICAgZGVsZWdhdGVNZXRob2Qoc2hpbnlCaW5kaW5nLCBiaW5kaW5nRGVmLCAicmVuZGVyRXJyb3IiKTsKICAgICAgZGVsZWdhdGVNZXRob2Qoc2hpbnlCaW5kaW5nLCBiaW5kaW5nRGVmLCAiY2xlYXJFcnJvciIpOwogICAgICBkZWxlZ2F0ZU1ldGhvZChzaGlueUJpbmRpbmcsIGJpbmRpbmdEZWYsICJzaG93UHJvZ3Jlc3MiKTsKCiAgICAgIC8vIFRoZSBmaW5kLCByZW5kZXJWYWx1ZSwgYW5kIHJlc2l6ZSBhcmUgaGFuZGxlZCBkaWZmZXJlbnRseSwgYmVjYXVzZSB3ZQogICAgICAvLyB3YW50IHRvIGFjdHVhbGx5IGRlY29yYXRlIHRoZSBiZWhhdmlvciBvZiB0aGUgYmluZGluZ0RlZiBtZXRob2RzLgoKICAgICAgc2hpbnlCaW5kaW5nLmZpbmQgPSBmdW5jdGlvbihzY29wZSkgewogICAgICAgIHZhciByZXN1bHRzID0gYmluZGluZ0RlZi5maW5kKHNjb3BlKTsKCiAgICAgICAgLy8gT25seSByZXR1cm4gZWxlbWVudHMgdGhhdCBhcmUgU2hpbnkgb3V0cHV0cywgbm90IHN0YXRpYyBvbmVzCiAgICAgICAgdmFyIGR5bmFtaWNSZXN1bHRzID0gcmVzdWx0cy5maWx0ZXIoIi5odG1sLXdpZGdldC1vdXRwdXQiKTsKCiAgICAgICAgLy8gSXQncyBwb3NzaWJsZSB0aGF0IHdoYXRldmVyIGNhdXNlZCBTaGlueSB0byB0aGluayB0aGVyZSBtaWdodCBiZQogICAgICAgIC8vIG5ldyBkeW5hbWljIG91dHB1dHMsIGFsc28gY2F1c2VkIHRoZXJlIHRvIGJlIG5ldyBzdGF0aWMgb3V0cHV0cy4KICAgICAgICAvLyBTaW5jZSB0aGVyZSBtaWdodCBiZSBsb3RzIG9mIGRpZmZlcmVudCBodG1sd2lkZ2V0cyBiaW5kaW5ncywgd2UKICAgICAgICAvLyBzY2hlZHVsZSBleGVjdXRpb24gZm9yIGxhdGVyLS1ubyBuZWVkIHRvIHN0YXRpY1JlbmRlciBtdWx0aXBsZQogICAgICAgIC8vIHRpbWVzLgogICAgICAgIGlmIChyZXN1bHRzLmxlbmd0aCAhPT0gZHluYW1pY1Jlc3VsdHMubGVuZ3RoKQogICAgICAgICAgc2NoZWR1bGVTdGF0aWNSZW5kZXIoKTsKCiAgICAgICAgcmV0dXJuIGR5bmFtaWNSZXN1bHRzOwogICAgICB9OwoKICAgICAgLy8gV3JhcCByZW5kZXJWYWx1ZSB0byBoYW5kbGUgaW5pdGlhbGl6YXRpb24sIHdoaWNoIHVuZm9ydHVuYXRlbHkgaXNuJ3QKICAgICAgLy8gc3VwcG9ydGVkIG5hdGl2ZWx5IGJ5IFNoaW55IGF0IHRoZSB0aW1lIG9mIHRoaXMgd3JpdGluZy4KCiAgICAgIHNoaW55QmluZGluZy5yZW5kZXJWYWx1ZSA9IGZ1bmN0aW9uKGVsLCBkYXRhKSB7CiAgICAgICAgU2hpbnkucmVuZGVyRGVwZW5kZW5jaWVzKGRhdGEuZGVwcyk7CiAgICAgICAgLy8gUmVzb2x2ZSBzdHJpbmdzIG1hcmtlZCBhcyBqYXZhc2NyaXB0IGxpdGVyYWxzIHRvIG9iamVjdHMKICAgICAgICBpZiAoIShkYXRhLmV2YWxzIGluc3RhbmNlb2YgQXJyYXkpKSBkYXRhLmV2YWxzID0gW2RhdGEuZXZhbHNdOwogICAgICAgIGZvciAodmFyIGkgPSAwOyBkYXRhLmV2YWxzICYmIGkgPCBkYXRhLmV2YWxzLmxlbmd0aDsgaSsrKSB7CiAgICAgICAgICB3aW5kb3cuSFRNTFdpZGdldHMuZXZhbHVhdGVTdHJpbmdNZW1iZXIoZGF0YS54LCBkYXRhLmV2YWxzW2ldKTsKICAgICAgICB9CiAgICAgICAgaWYgKCFiaW5kaW5nRGVmLnJlbmRlck9uTnVsbFZhbHVlKSB7CiAgICAgICAgICBpZiAoZGF0YS54ID09PSBudWxsKSB7CiAgICAgICAgICAgIGVsLnN0eWxlLnZpc2liaWxpdHkgPSAiaGlkZGVuIjsKICAgICAgICAgICAgcmV0dXJuOwogICAgICAgICAgfSBlbHNlIHsKICAgICAgICAgICAgZWwuc3R5bGUudmlzaWJpbGl0eSA9ICJpbmhlcml0IjsKICAgICAgICAgIH0KICAgICAgICB9CiAgICAgICAgaWYgKCFlbGVtZW50RGF0YShlbCwgImluaXRpYWxpemVkIikpIHsKICAgICAgICAgIGluaXRTaXppbmcoZWwpOwoKICAgICAgICAgIGVsZW1lbnREYXRhKGVsLCAiaW5pdGlhbGl6ZWQiLCB0cnVlKTsKICAgICAgICAgIGlmIChiaW5kaW5nRGVmLmluaXRpYWxpemUpIHsKICAgICAgICAgICAgdmFyIHJlc3VsdCA9IGJpbmRpbmdEZWYuaW5pdGlhbGl6ZShlbCwgZWwub2Zmc2V0V2lkdGgsCiAgICAgICAgICAgICAgZWwub2Zmc2V0SGVpZ2h0KTsKICAgICAgICAgICAgZWxlbWVudERhdGEoZWwsICJpbml0X3Jlc3VsdCIsIHJlc3VsdCk7CiAgICAgICAgICB9CiAgICAgICAgfQogICAgICAgIGJpbmRpbmdEZWYucmVuZGVyVmFsdWUoZWwsIGRhdGEueCwgZWxlbWVudERhdGEoZWwsICJpbml0X3Jlc3VsdCIpKTsKICAgICAgICBldmFsQW5kUnVuKGRhdGEuanNIb29rcy5yZW5kZXIsIGVsZW1lbnREYXRhKGVsLCAiaW5pdF9yZXN1bHQiKSwgW2VsLCBkYXRhLnhdKTsKICAgICAgfTsKCiAgICAgIC8vIE9ubHkgb3ZlcnJpZGUgcmVzaXplIGlmIGJpbmRpbmdEZWYgaW1wbGVtZW50cyBpdAogICAgICBpZiAoYmluZGluZ0RlZi5yZXNpemUpIHsKICAgICAgICBzaGlueUJpbmRpbmcucmVzaXplID0gZnVuY3Rpb24oZWwsIHdpZHRoLCBoZWlnaHQpIHsKICAgICAgICAgIC8vIFNoaW55IGNhbiBjYWxsIHJlc2l6ZSBiZWZvcmUgaW5pdGlhbGl6ZS9yZW5kZXJWYWx1ZSBoYXZlIGJlZW4KICAgICAgICAgIC8vIGNhbGxlZCwgd2hpY2ggZG9lc24ndCBtYWtlIHNlbnNlIGZvciB3aWRnZXRzLgogICAgICAgICAgaWYgKGVsZW1lbnREYXRhKGVsLCAiaW5pdGlhbGl6ZWQiKSkgewogICAgICAgICAgICBiaW5kaW5nRGVmLnJlc2l6ZShlbCwgd2lkdGgsIGhlaWdodCwgZWxlbWVudERhdGEoZWwsICJpbml0X3Jlc3VsdCIpKTsKICAgICAgICAgIH0KICAgICAgICB9OwogICAgICB9CgogICAgICBTaGlueS5vdXRwdXRCaW5kaW5ncy5yZWdpc3RlcihzaGlueUJpbmRpbmcsIGJpbmRpbmdEZWYubmFtZSk7CiAgICB9CiAgfTsKCiAgdmFyIHNjaGVkdWxlU3RhdGljUmVuZGVyVGltZXJJZCA9IG51bGw7CiAgZnVuY3Rpb24gc2NoZWR1bGVTdGF0aWNSZW5kZXIoKSB7CiAgICBpZiAoIXNjaGVkdWxlU3RhdGljUmVuZGVyVGltZXJJZCkgewogICAgICBzY2hlZHVsZVN0YXRpY1JlbmRlclRpbWVySWQgPSBzZXRUaW1lb3V0KGZ1bmN0aW9uKCkgewogICAgICAgIHNjaGVkdWxlU3RhdGljUmVuZGVyVGltZXJJZCA9IG51bGw7CiAgICAgICAgd2luZG93LkhUTUxXaWRnZXRzLnN0YXRpY1JlbmRlcigpOwogICAgICB9LCAxKTsKICAgIH0KICB9CgogIC8vIFJlbmRlciBzdGF0aWMgd2lkZ2V0cyBhZnRlciB0aGUgZG9jdW1lbnQgZmluaXNoZXMgbG9hZGluZwogIC8vIFN0YXRpY2FsbHkgcmVuZGVyIGFsbCBlbGVtZW50cyB0aGF0IGFyZSBvZiB0aGlzIHdpZGdldCdzIGNsYXNzCiAgd2luZG93LkhUTUxXaWRnZXRzLnN0YXRpY1JlbmRlciA9IGZ1bmN0aW9uKCkgewogICAgdmFyIGJpbmRpbmdzID0gd2luZG93LkhUTUxXaWRnZXRzLndpZGdldHMgfHwgW107CiAgICBmb3JFYWNoKGJpbmRpbmdzLCBmdW5jdGlvbihiaW5kaW5nKSB7CiAgICAgIHZhciBtYXRjaGVzID0gYmluZGluZy5maW5kKGRvY3VtZW50LmRvY3VtZW50RWxlbWVudCk7CiAgICAgIGZvckVhY2gobWF0Y2hlcywgZnVuY3Rpb24oZWwpIHsKICAgICAgICB2YXIgc2l6ZU9iaiA9IGluaXRTaXppbmcoZWwsIGJpbmRpbmcpOwoKICAgICAgICBpZiAoaGFzQ2xhc3MoZWwsICJodG1sLXdpZGdldC1zdGF0aWMtYm91bmQiKSkKICAgICAgICAgIHJldHVybjsKICAgICAgICBlbC5jbGFzc05hbWUgPSBlbC5jbGFzc05hbWUgKyAiIGh0bWwtd2lkZ2V0LXN0YXRpYy1ib3VuZCI7CgogICAgICAgIHZhciBpbml0UmVzdWx0OwogICAgICAgIGlmIChiaW5kaW5nLmluaXRpYWxpemUpIHsKICAgICAgICAgIGluaXRSZXN1bHQgPSBiaW5kaW5nLmluaXRpYWxpemUoZWwsCiAgICAgICAgICAgIHNpemVPYmogPyBzaXplT2JqLmdldFdpZHRoKCkgOiBlbC5vZmZzZXRXaWR0aCwKICAgICAgICAgICAgc2l6ZU9iaiA/IHNpemVPYmouZ2V0SGVpZ2h0KCkgOiBlbC5vZmZzZXRIZWlnaHQKICAgICAgICAgICk7CiAgICAgICAgICBlbGVtZW50RGF0YShlbCwgImluaXRfcmVzdWx0IiwgaW5pdFJlc3VsdCk7CiAgICAgICAgfQoKICAgICAgICBpZiAoYmluZGluZy5yZXNpemUpIHsKICAgICAgICAgIHZhciBsYXN0U2l6ZSA9IHsKICAgICAgICAgICAgdzogc2l6ZU9iaiA/IHNpemVPYmouZ2V0V2lkdGgoKSA6IGVsLm9mZnNldFdpZHRoLAogICAgICAgICAgICBoOiBzaXplT2JqID8gc2l6ZU9iai5nZXRIZWlnaHQoKSA6IGVsLm9mZnNldEhlaWdodAogICAgICAgICAgfTsKICAgICAgICAgIHZhciByZXNpemVIYW5kbGVyID0gZnVuY3Rpb24oZSkgewogICAgICAgICAgICB2YXIgc2l6ZSA9IHsKICAgICAgICAgICAgICB3OiBzaXplT2JqID8gc2l6ZU9iai5nZXRXaWR0aCgpIDogZWwub2Zmc2V0V2lkdGgsCiAgICAgICAgICAgICAgaDogc2l6ZU9iaiA/IHNpemVPYmouZ2V0SGVpZ2h0KCkgOiBlbC5vZmZzZXRIZWlnaHQKICAgICAgICAgICAgfTsKICAgICAgICAgICAgaWYgKHNpemUudyA9PT0gMCAmJiBzaXplLmggPT09IDApCiAgICAgICAgICAgICAgcmV0dXJuOwogICAgICAgICAgICBpZiAoc2l6ZS53ID09PSBsYXN0U2l6ZS53ICYmIHNpemUuaCA9PT0gbGFzdFNpemUuaCkKICAgICAgICAgICAgICByZXR1cm47CiAgICAgICAgICAgIGxhc3RTaXplID0gc2l6ZTsKICAgICAgICAgICAgYmluZGluZy5yZXNpemUoZWwsIHNpemUudywgc2l6ZS5oLCBpbml0UmVzdWx0KTsKICAgICAgICAgIH07CgogICAgICAgICAgb24od2luZG93LCAicmVzaXplIiwgcmVzaXplSGFuZGxlcik7CgogICAgICAgICAgLy8gVGhpcyBpcyBuZWVkZWQgZm9yIGNhc2VzIHdoZXJlIHdlJ3JlIHJ1bm5pbmcgaW4gYSBTaGlueQogICAgICAgICAgLy8gYXBwLCBidXQgdGhlIHdpZGdldCBpdHNlbGYgaXMgbm90IGEgU2hpbnkgb3V0cHV0LCBidXQKICAgICAgICAgIC8vIHJhdGhlciBhIHNpbXBsZSBzdGF0aWMgd2lkZ2V0LiBPbmUgZXhhbXBsZSBvZiB0aGlzIGlzCiAgICAgICAgICAvLyBhbiBybWFya2Rvd24gZG9jdW1lbnQgdGhhdCBoYXMgcnVudGltZTpzaGlueSBhbmQgd2lkZ2V0CiAgICAgICAgICAvLyB0aGF0IGlzbid0IGluIGEgcmVuZGVyIGZ1bmN0aW9uLiBTaGlueSBvbmx5IGtub3dzIHRvCiAgICAgICAgICAvLyBjYWxsIHJlc2l6ZSBoYW5kbGVycyBmb3IgU2hpbnkgb3V0cHV0cywgbm90IGZvciBzdGF0aWMKICAgICAgICAgIC8vIHdpZGdldHMsIHNvIHdlIGRvIGl0IG91cnNlbHZlcy4KICAgICAgICAgIGlmICh3aW5kb3cualF1ZXJ5KSB7CiAgICAgICAgICAgIHdpbmRvdy5qUXVlcnkoZG9jdW1lbnQpLm9uKAogICAgICAgICAgICAgICJzaG93bi5odG1sd2lkZ2V0cyBzaG93bi5icy50YWIuaHRtbHdpZGdldHMgc2hvd24uYnMuY29sbGFwc2UuaHRtbHdpZGdldHMiLAogICAgICAgICAgICAgIHJlc2l6ZUhhbmRsZXIKICAgICAgICAgICAgKTsKICAgICAgICAgICAgd2luZG93LmpRdWVyeShkb2N1bWVudCkub24oCiAgICAgICAgICAgICAgImhpZGRlbi5odG1sd2lkZ2V0cyBoaWRkZW4uYnMudGFiLmh0bWx3aWRnZXRzIGhpZGRlbi5icy5jb2xsYXBzZS5odG1sd2lkZ2V0cyIsCiAgICAgICAgICAgICAgcmVzaXplSGFuZGxlcgogICAgICAgICAgICApOwogICAgICAgICAgfQoKICAgICAgICAgIC8vIFRoaXMgaXMgbmVlZGVkIGZvciB0aGUgc3BlY2lmaWMgY2FzZSBvZiBpb3NsaWRlcywgd2hpY2gKICAgICAgICAgIC8vIGZsaXBzIHNsaWRlcyBiZXR3ZWVuIGRpc3BsYXk6bm9uZSBhbmQgZGlzcGxheTpibG9jay4KICAgICAgICAgIC8vIElkZWFsbHkgd2Ugd291bGQgbm90IGhhdmUgdG8gaGF2ZSBpb3NsaWRlLXNwZWNpZmljIGNvZGUKICAgICAgICAgIC8vIGhlcmUsIGJ1dCByYXRoZXIgaGF2ZSBpb3NsaWRlcyByYWlzZSBhIGdlbmVyaWMgZXZlbnQsCiAgICAgICAgICAvLyBidXQgdGhlIHJtYXJrZG93biBwYWNrYWdlIGp1c3Qgd2VudCB0byBDUkFOIHNvIHRoZQogICAgICAgICAgLy8gd2luZG93IHRvIGdldHRpbmcgdGhhdCBmaXhlZCBtYXkgYmUgbG9uZy4KICAgICAgICAgIGlmICh3aW5kb3cuYWRkRXZlbnRMaXN0ZW5lcikgewogICAgICAgICAgICAvLyBJdCdzIE9LIHRvIGxpbWl0IHRoaXMgdG8gd2luZG93LmFkZEV2ZW50TGlzdGVuZXIKICAgICAgICAgICAgLy8gYnJvd3NlcnMgYmVjYXVzZSBpb3NsaWRlcyBpdHNlbGYgb25seSBzdXBwb3J0cwogICAgICAgICAgICAvLyBzdWNoIGJyb3dzZXJzLgogICAgICAgICAgICBvbihkb2N1bWVudCwgInNsaWRlZW50ZXIiLCByZXNpemVIYW5kbGVyKTsKICAgICAgICAgICAgb24oZG9jdW1lbnQsICJzbGlkZWxlYXZlIiwgcmVzaXplSGFuZGxlcik7CiAgICAgICAgICB9CiAgICAgICAgfQoKICAgICAgICB2YXIgc2NyaXB0RGF0YSA9IGRvY3VtZW50LnF1ZXJ5U2VsZWN0b3IoInNjcmlwdFtkYXRhLWZvcj0nIiArIGVsLmlkICsgIiddW3R5cGU9J2FwcGxpY2F0aW9uL2pzb24nXSIpOwogICAgICAgIGlmIChzY3JpcHREYXRhKSB7CiAgICAgICAgICB2YXIgZGF0YSA9IEpTT04ucGFyc2Uoc2NyaXB0RGF0YS50ZXh0Q29udGVudCB8fCBzY3JpcHREYXRhLnRleHQpOwogICAgICAgICAgLy8gUmVzb2x2ZSBzdHJpbmdzIG1hcmtlZCBhcyBqYXZhc2NyaXB0IGxpdGVyYWxzIHRvIG9iamVjdHMKICAgICAgICAgIGlmICghKGRhdGEuZXZhbHMgaW5zdGFuY2VvZiBBcnJheSkpIGRhdGEuZXZhbHMgPSBbZGF0YS5ldmFsc107CiAgICAgICAgICBmb3IgKHZhciBrID0gMDsgZGF0YS5ldmFscyAmJiBrIDwgZGF0YS5ldmFscy5sZW5ndGg7IGsrKykgewogICAgICAgICAgICB3aW5kb3cuSFRNTFdpZGdldHMuZXZhbHVhdGVTdHJpbmdNZW1iZXIoZGF0YS54LCBkYXRhLmV2YWxzW2tdKTsKICAgICAgICAgIH0KICAgICAgICAgIGJpbmRpbmcucmVuZGVyVmFsdWUoZWwsIGRhdGEueCwgaW5pdFJlc3VsdCk7CiAgICAgICAgICBldmFsQW5kUnVuKGRhdGEuanNIb29rcy5yZW5kZXIsIGluaXRSZXN1bHQsIFtlbCwgZGF0YS54XSk7CiAgICAgICAgfQogICAgICB9KTsKICAgIH0pOwoKICAgIGludm9rZVBvc3RSZW5kZXJIYW5kbGVycygpOwogIH0KCgogIGZ1bmN0aW9uIGhhc19qUXVlcnkzKCkgewogICAgaWYgKCF3aW5kb3cualF1ZXJ5KSB7CiAgICAgIHJldHVybiBmYWxzZTsKICAgIH0KICAgIHZhciAkdmVyc2lvbiA9IHdpbmRvdy5qUXVlcnkuZm4uanF1ZXJ5OwogICAgdmFyICRtYWpvcl92ZXJzaW9uID0gcGFyc2VJbnQoJHZlcnNpb24uc3BsaXQoIi4iKVswXSk7CiAgICByZXR1cm4gJG1ham9yX3ZlcnNpb24gPj0gMzsKICB9CgogIC8qCiAgLyBTaGlueSAxLjQgYnVtcGVkIGpRdWVyeSBmcm9tIDEueCB0byAzLnggd2hpY2ggbWVhbnMgalF1ZXJ5J3MKICAvIG9uLXJlYWR5IGhhbmRsZXIgKGkuZS4sICQoZm4pKSBpcyBub3cgYXN5bmNyb25vdXMgKGkuZS4sIGl0IG5vdwogIC8gcmVhbGx5IG1lYW5zICQoc2V0VGltZW91dChmbikpLgogIC8gaHR0cHM6Ly9qcXVlcnkuY29tL3VwZ3JhZGUtZ3VpZGUvMy4wLyNicmVha2luZy1jaGFuZ2UtZG9jdW1lbnQtcmVhZHktaGFuZGxlcnMtYXJlLW5vdy1hc3luY2hyb25vdXMKICAvCiAgLyBTaW5jZSBTaGlueSB1c2VzICQoKSB0byBzY2hlZHVsZSBpbml0U2hpbnksIHNoaW55Pj0xLjQgY2FsbHMgaW5pdFNoaW55CiAgLyBvbmUgdGljayBsYXRlciB0aGFuIGl0IGRpZCBiZWZvcmUsIHdoaWNoIG1lYW5zIHN0YXRpY1JlbmRlcigpIGlzCiAgLyBjYWxsZWQgcmVuZGVyVmFsdWUoKSBlYXJsaWVyIHRoYW4gKGFkdmFuY2VkKSB3aWRnZXQgYXV0aG9ycyBtaWdodCBiZSBleHBlY3RpbmcuCiAgLyBodHRwczovL2dpdGh1Yi5jb20vcnN0dWRpby9zaGlueS9pc3N1ZXMvMjYzMAogIC8KICAvIEZvciBhIGNvbmNyZXRlIGV4YW1wbGUsIGxlYWZsZXQgaGFzIHNvbWUgbWV0aG9kcyAoZS5nLiwgdXBkYXRlQm91bmRzKQogIC8gd2hpY2ggcmVmZXJlbmNlIFNoaW55IG1ldGhvZHMgcmVnaXN0ZXJlZCBpbiBpbml0U2hpbnkgKGUuZy4sIHNldElucHV0VmFsdWUpLgogIC8gU2luY2UgbGVhZmxldCBpcyBwcml2eSB0byB0aGlzIGxpZmUtY3ljbGUsIGl0IGtub3dzIHRvIHVzZSBzZXRUaW1lb3V0KCkgdG8KICAvIGRlbGF5IGV4ZWN1dGlvbiBvZiB0aG9zZSBtZXRob2RzICh1bnRpbCBTaGlueSBtZXRob2RzIGFyZSByZWFkeSkKICAvIGh0dHBzOi8vZ2l0aHViLmNvbS9yc3R1ZGlvL2xlYWZsZXQvYmxvYi8xOGVjOTgxL2phdmFzY3JpcHQvc3JjL2luZGV4LmpzI0wyNjYtTDI2OAogIC8KICAvIElkZWFsbHkgd2lkZ2V0IGF1dGhvcnMgd291bGRuJ3QgbmVlZCB0byB1c2UgdGhpcyBzZXRUaW1lb3V0KCkgaGFjayB0aGF0CiAgLyBsZWFmbGV0IHVzZXMgdG8gY2FsbCBTaGlueSBtZXRob2RzIG9uIGEgc3RhdGljUmVuZGVyKCkuIEluIHRoZSBsb25nIHJ1biwKICAvIHRoZSBsb2dpYyBpbml0U2hpbnkgc2hvdWxkIGJlIGJyb2tlbiB1cCBzbyB0aGF0IG1ldGhvZCByZWdpc3RyYXRpb24gaGFwcGVucwogIC8gcmlnaHQgYXdheSwgYnV0IGJpbmRpbmcgaGFwcGVucyBsYXRlci4KICAqLwogIGZ1bmN0aW9uIG1heWJlU3RhdGljUmVuZGVyTGF0ZXIoKSB7CiAgICBpZiAoc2hpbnlNb2RlICYmIGhhc19qUXVlcnkzKCkpIHsKICAgICAgd2luZG93LmpRdWVyeSh3aW5kb3cuSFRNTFdpZGdldHMuc3RhdGljUmVuZGVyKTsKICAgIH0gZWxzZSB7CiAgICAgIHdpbmRvdy5IVE1MV2lkZ2V0cy5zdGF0aWNSZW5kZXIoKTsKICAgIH0KICB9CgogIGlmIChkb2N1bWVudC5hZGRFdmVudExpc3RlbmVyKSB7CiAgICBkb2N1bWVudC5hZGRFdmVudExpc3RlbmVyKCJET01Db250ZW50TG9hZGVkIiwgZnVuY3Rpb24oKSB7CiAgICAgIGRvY3VtZW50LnJlbW92ZUV2ZW50TGlzdGVuZXIoIkRPTUNvbnRlbnRMb2FkZWQiLCBhcmd1bWVudHMuY2FsbGVlLCBmYWxzZSk7CiAgICAgIG1heWJlU3RhdGljUmVuZGVyTGF0ZXIoKTsKICAgIH0sIGZhbHNlKTsKICB9IGVsc2UgaWYgKGRvY3VtZW50LmF0dGFjaEV2ZW50KSB7CiAgICBkb2N1bWVudC5hdHRhY2hFdmVudCgib25yZWFkeXN0YXRlY2hhbmdlIiwgZnVuY3Rpb24oKSB7CiAgICAgIGlmIChkb2N1bWVudC5yZWFkeVN0YXRlID09PSAiY29tcGxldGUiKSB7CiAgICAgICAgZG9jdW1lbnQuZGV0YWNoRXZlbnQoIm9ucmVhZHlzdGF0ZWNoYW5nZSIsIGFyZ3VtZW50cy5jYWxsZWUpOwogICAgICAgIG1heWJlU3RhdGljUmVuZGVyTGF0ZXIoKTsKICAgICAgfQogICAgfSk7CiAgfQoKCiAgd2luZG93LkhUTUxXaWRnZXRzLmdldEF0dGFjaG1lbnRVcmwgPSBmdW5jdGlvbihkZXBuYW1lLCBrZXkpIHsKICAgIC8vIElmIG5vIGtleSwgZGVmYXVsdCB0byB0aGUgZmlyc3QgaXRlbQogICAgaWYgKHR5cGVvZihrZXkpID09PSAidW5kZWZpbmVkIikKICAgICAga2V5ID0gMTsKCiAgICB2YXIgbGluayA9IGRvY3VtZW50LmdldEVsZW1lbnRCeUlkKGRlcG5hbWUgKyAiLSIgKyBrZXkgKyAiLWF0dGFjaG1lbnQiKTsKICAgIGlmICghbGluaykgewogICAgICB0aHJvdyBuZXcgRXJyb3IoIkF0dGFjaG1lbnQgIiArIGRlcG5hbWUgKyAiLyIgKyBrZXkgKyAiIG5vdCBmb3VuZCBpbiBkb2N1bWVudCIpOwogICAgfQogICAgcmV0dXJuIGxpbmsuZ2V0QXR0cmlidXRlKCJocmVmIik7CiAgfTsKCiAgd2luZG93LkhUTUxXaWRnZXRzLmRhdGFmcmFtZVRvRDMgPSBmdW5jdGlvbihkZikgewogICAgdmFyIG5hbWVzID0gW107CiAgICB2YXIgbGVuZ3RoOwogICAgZm9yICh2YXIgbmFtZSBpbiBkZikgewogICAgICAgIGlmIChkZi5oYXNPd25Qcm9wZXJ0eShuYW1lKSkKICAgICAgICAgICAgbmFtZXMucHVzaChuYW1lKTsKICAgICAgICBpZiAodHlwZW9mKGRmW25hbWVdKSAhPT0gIm9iamVjdCIgfHwgdHlwZW9mKGRmW25hbWVdLmxlbmd0aCkgPT09ICJ1bmRlZmluZWQiKSB7CiAgICAgICAgICAgIHRocm93IG5ldyBFcnJvcigiQWxsIGZpZWxkcyBtdXN0IGJlIGFycmF5cyIpOwogICAgICAgIH0gZWxzZSBpZiAodHlwZW9mKGxlbmd0aCkgIT09ICJ1bmRlZmluZWQiICYmIGxlbmd0aCAhPT0gZGZbbmFtZV0ubGVuZ3RoKSB7CiAgICAgICAgICAgIHRocm93IG5ldyBFcnJvcigiQWxsIGZpZWxkcyBtdXN0IGJlIGFycmF5cyBvZiB0aGUgc2FtZSBsZW5ndGgiKTsKICAgICAgICB9CiAgICAgICAgbGVuZ3RoID0gZGZbbmFtZV0ubGVuZ3RoOwogICAgfQogICAgdmFyIHJlc3VsdHMgPSBbXTsKICAgIHZhciBpdGVtOwogICAgZm9yICh2YXIgcm93ID0gMDsgcm93IDwgbGVuZ3RoOyByb3crKykgewogICAgICAgIGl0ZW0gPSB7fTsKICAgICAgICBmb3IgKHZhciBjb2wgPSAwOyBjb2wgPCBuYW1lcy5sZW5ndGg7IGNvbCsrKSB7CiAgICAgICAgICAgIGl0ZW1bbmFtZXNbY29sXV0gPSBkZltuYW1lc1tjb2xdXVtyb3ddOwogICAgICAgIH0KICAgICAgICByZXN1bHRzLnB1c2goaXRlbSk7CiAgICB9CiAgICByZXR1cm4gcmVzdWx0czsKICB9OwoKICB3aW5kb3cuSFRNTFdpZGdldHMudHJhbnNwb3NlQXJyYXkyRCA9IGZ1bmN0aW9uKGFycmF5KSB7CiAgICAgIGlmIChhcnJheS5sZW5ndGggPT09IDApIHJldHVybiBhcnJheTsKICAgICAgdmFyIG5ld0FycmF5ID0gYXJyYXlbMF0ubWFwKGZ1bmN0aW9uKGNvbCwgaSkgewogICAgICAgICAgcmV0dXJuIGFycmF5Lm1hcChmdW5jdGlvbihyb3cpIHsKICAgICAgICAgICAgICByZXR1cm4gcm93W2ldCiAgICAgICAgICB9KQogICAgICB9KTsKICAgICAgcmV0dXJuIG5ld0FycmF5OwogIH07CiAgLy8gU3BsaXQgdmFsdWUgYXQgc3BsaXRDaGFyLCBidXQgYWxsb3cgc3BsaXRDaGFyIHRvIGJlIGVzY2FwZWQKICAvLyB1c2luZyBlc2NhcGVDaGFyLiBBbnkgb3RoZXIgY2hhcmFjdGVycyBlc2NhcGVkIGJ5IGVzY2FwZUNoYXIKICAvLyB3aWxsIGJlIGluY2x1ZGVkIGFzIHVzdWFsIChpbmNsdWRpbmcgZXNjYXBlQ2hhciBpdHNlbGYpLgogIGZ1bmN0aW9uIHNwbGl0V2l0aEVzY2FwZSh2YWx1ZSwgc3BsaXRDaGFyLCBlc2NhcGVDaGFyKSB7CiAgICB2YXIgcmVzdWx0cyA9IFtdOwogICAgdmFyIGVzY2FwZU1vZGUgPSBmYWxzZTsKICAgIHZhciBjdXJyZW50UmVzdWx0ID0gIiI7CiAgICBmb3IgKHZhciBwb3MgPSAwOyBwb3MgPCB2YWx1ZS5sZW5ndGg7IHBvcysrKSB7CiAgICAgIGlmICghZXNjYXBlTW9kZSkgewogICAgICAgIGlmICh2YWx1ZVtwb3NdID09PSBzcGxpdENoYXIpIHsKICAgICAgICAgIHJlc3VsdHMucHVzaChjdXJyZW50UmVzdWx0KTsKICAgICAgICAgIGN1cnJlbnRSZXN1bHQgPSAiIjsKICAgICAgICB9IGVsc2UgaWYgKHZhbHVlW3Bvc10gPT09IGVzY2FwZUNoYXIpIHsKICAgICAgICAgIGVzY2FwZU1vZGUgPSB0cnVlOwogICAgICAgIH0gZWxzZSB7CiAgICAgICAgICBjdXJyZW50UmVzdWx0ICs9IHZhbHVlW3Bvc107CiAgICAgICAgfQogICAgICB9IGVsc2UgewogICAgICAgIGN1cnJlbnRSZXN1bHQgKz0gdmFsdWVbcG9zXTsKICAgICAgICBlc2NhcGVNb2RlID0gZmFsc2U7CiAgICAgIH0KICAgIH0KICAgIGlmIChjdXJyZW50UmVzdWx0ICE9PSAiIikgewogICAgICByZXN1bHRzLnB1c2goY3VycmVudFJlc3VsdCk7CiAgICB9CiAgICByZXR1cm4gcmVzdWx0czsKICB9CiAgLy8gRnVuY3Rpb24gYXV0aG9yZWQgYnkgWWlodWkvSkogQWxsYWlyZQogIHdpbmRvdy5IVE1MV2lkZ2V0cy5ldmFsdWF0ZVN0cmluZ01lbWJlciA9IGZ1bmN0aW9uKG8sIG1lbWJlcikgewogICAgdmFyIHBhcnRzID0gc3BsaXRXaXRoRXNjYXBlKG1lbWJlciwgJy4nLCAnXFwnKTsKICAgIGZvciAodmFyIGkgPSAwLCBsID0gcGFydHMubGVuZ3RoOyBpIDwgbDsgaSsrKSB7CiAgICAgIHZhciBwYXJ0ID0gcGFydHNbaV07CiAgICAgIC8vIHBhcnQgbWF5IGJlIGEgY2hhcmFjdGVyIG9yICdudW1lcmljJyBtZW1iZXIgbmFtZQogICAgICBpZiAobyAhPT0gbnVsbCAmJiB0eXBlb2YgbyA9PT0gIm9iamVjdCIgJiYgcGFydCBpbiBvKSB7CiAgICAgICAgaWYgKGkgPT0gKGwgLSAxKSkgeyAvLyBpZiB3ZSBhcmUgYXQgdGhlIGVuZCBvZiB0aGUgbGluZSB0aGVuIGV2YWx1bGF0ZQogICAgICAgICAgaWYgKHR5cGVvZiBvW3BhcnRdID09PSAic3RyaW5nIikKICAgICAgICAgICAgb1twYXJ0XSA9IHRyeUV2YWwob1twYXJ0XSk7CiAgICAgICAgfSBlbHNlIHsgLy8gb3RoZXJ3aXNlIGNvbnRpbnVlIHRvIG5leHQgZW1iZWRkZWQgb2JqZWN0CiAgICAgICAgICBvID0gb1twYXJ0XTsKICAgICAgICB9CiAgICAgIH0KICAgIH0KICB9OwoKICAvLyBSZXRyaWV2ZSB0aGUgSFRNTFdpZGdldCBpbnN0YW5jZSAoaS5lLiB0aGUgcmV0dXJuIHZhbHVlIG9mIGFuCiAgLy8gSFRNTFdpZGdldCBiaW5kaW5nJ3MgaW5pdGlhbGl6ZSgpIG9yIGZhY3RvcnkoKSBmdW5jdGlvbikKICAvLyBhc3NvY2lhdGVkIHdpdGggYW4gZWxlbWVudCwgb3IgbnVsbCBpZiBub25lLgogIHdpbmRvdy5IVE1MV2lkZ2V0cy5nZXRJbnN0YW5jZSA9IGZ1bmN0aW9uKGVsKSB7CiAgICByZXR1cm4gZWxlbWVudERhdGEoZWwsICJpbml0X3Jlc3VsdCIpOwogIH07CgogIC8vIEZpbmRzIHRoZSBmaXJzdCBlbGVtZW50IGluIHRoZSBzY29wZSB0aGF0IG1hdGNoZXMgdGhlIHNlbGVjdG9yLAogIC8vIGFuZCByZXR1cm5zIHRoZSBIVE1MV2lkZ2V0IGluc3RhbmNlIChpLmUuIHRoZSByZXR1cm4gdmFsdWUgb2YKICAvLyBhbiBIVE1MV2lkZ2V0IGJpbmRpbmcncyBpbml0aWFsaXplKCkgb3IgZmFjdG9yeSgpIGZ1bmN0aW9uKQogIC8vIGFzc29jaWF0ZWQgd2l0aCB0aGF0IGVsZW1lbnQsIGlmIGFueS4gSWYgbm8gZWxlbWVudCBtYXRjaGVzIHRoZQogIC8vIHNlbGVjdG9yLCBvciB0aGUgZmlyc3QgbWF0Y2hpbmcgZWxlbWVudCBoYXMgbm8gSFRNTFdpZGdldAogIC8vIGluc3RhbmNlIGFzc29jaWF0ZWQgd2l0aCBpdCwgdGhlbiBudWxsIGlzIHJldHVybmVkLgogIC8vCiAgLy8gVGhlIHNjb3BlIGFyZ3VtZW50IGlzIG9wdGlvbmFsLCBhbmQgZGVmYXVsdHMgdG8gd2luZG93LmRvY3VtZW50LgogIHdpbmRvdy5IVE1MV2lkZ2V0cy5maW5kID0gZnVuY3Rpb24oc2NvcGUsIHNlbGVjdG9yKSB7CiAgICBpZiAoYXJndW1lbnRzLmxlbmd0aCA9PSAxKSB7CiAgICAgIHNlbGVjdG9yID0gc2NvcGU7CiAgICAgIHNjb3BlID0gZG9jdW1lbnQ7CiAgICB9CgogICAgdmFyIGVsID0gc2NvcGUucXVlcnlTZWxlY3RvcihzZWxlY3Rvcik7CiAgICBpZiAoZWwgPT09IG51bGwpIHsKICAgICAgcmV0dXJuIG51bGw7CiAgICB9IGVsc2UgewogICAgICByZXR1cm4gd2luZG93LkhUTUxXaWRnZXRzLmdldEluc3RhbmNlKGVsKTsKICAgIH0KICB9OwoKICAvLyBGaW5kcyBhbGwgZWxlbWVudHMgaW4gdGhlIHNjb3BlIHRoYXQgbWF0Y2ggdGhlIHNlbGVjdG9yLCBhbmQKICAvLyByZXR1cm5zIHRoZSBIVE1MV2lkZ2V0IGluc3RhbmNlcyAoaS5lLiB0aGUgcmV0dXJuIHZhbHVlcyBvZgogIC8vIGFuIEhUTUxXaWRnZXQgYmluZGluZydzIGluaXRpYWxpemUoKSBvciBmYWN0b3J5KCkgZnVuY3Rpb24pCiAgLy8gYXNzb2NpYXRlZCB3aXRoIHRoZSBlbGVtZW50cywgaW4gYW4gYXJyYXkuIElmIGVsZW1lbnRzIHRoYXQKICAvLyBtYXRjaCB0aGUgc2VsZWN0b3IgZG9uJ3QgaGF2ZSBhbiBhc3NvY2lhdGVkIEhUTUxXaWRnZXQKICAvLyBpbnN0YW5jZSwgdGhlIHJldHVybmVkIGFycmF5IHdpbGwgY29udGFpbiBudWxscy4KICAvLwogIC8vIFRoZSBzY29wZSBhcmd1bWVudCBpcyBvcHRpb25hbCwgYW5kIGRlZmF1bHRzIHRvIHdpbmRvdy5kb2N1bWVudC4KICB3aW5kb3cuSFRNTFdpZGdldHMuZmluZEFsbCA9IGZ1bmN0aW9uKHNjb3BlLCBzZWxlY3RvcikgewogICAgaWYgKGFyZ3VtZW50cy5sZW5ndGggPT0gMSkgewogICAgICBzZWxlY3RvciA9IHNjb3BlOwogICAgICBzY29wZSA9IGRvY3VtZW50OwogICAgfQoKICAgIHZhciBub2RlcyA9IHNjb3BlLnF1ZXJ5U2VsZWN0b3JBbGwoc2VsZWN0b3IpOwogICAgdmFyIHJlc3VsdHMgPSBbXTsKICAgIGZvciAodmFyIGkgPSAwOyBpIDwgbm9kZXMubGVuZ3RoOyBpKyspIHsKICAgICAgcmVzdWx0cy5wdXNoKHdpbmRvdy5IVE1MV2lkZ2V0cy5nZXRJbnN0YW5jZShub2Rlc1tpXSkpOwogICAgfQogICAgcmV0dXJuIHJlc3VsdHM7CiAgfTsKCiAgdmFyIHBvc3RSZW5kZXJIYW5kbGVycyA9IFtdOwogIGZ1bmN0aW9uIGludm9rZVBvc3RSZW5kZXJIYW5kbGVycygpIHsKICAgIHdoaWxlIChwb3N0UmVuZGVySGFuZGxlcnMubGVuZ3RoKSB7CiAgICAgIHZhciBoYW5kbGVyID0gcG9zdFJlbmRlckhhbmRsZXJzLnNoaWZ0KCk7CiAgICAgIGlmIChoYW5kbGVyKSB7CiAgICAgICAgaGFuZGxlcigpOwogICAgICB9CiAgICB9CiAgfQoKICAvLyBSZWdpc3RlciB0aGUgZ2l2ZW4gY2FsbGJhY2sgZnVuY3Rpb24gdG8gYmUgaW52b2tlZCBhZnRlciB0aGUKICAvLyBuZXh0IHRpbWUgc3RhdGljIHdpZGdldHMgYXJlIHJlbmRlcmVkLgogIHdpbmRvdy5IVE1MV2lkZ2V0cy5hZGRQb3N0UmVuZGVySGFuZGxlciA9IGZ1bmN0aW9uKGNhbGxiYWNrKSB7CiAgICBwb3N0UmVuZGVySGFuZGxlcnMucHVzaChjYWxsYmFjayk7CiAgfTsKCiAgLy8gVGFrZXMgYSBuZXctc3R5bGUgaW5zdGFuY2UtYm91bmQgZGVmaW5pdGlvbiwgYW5kIHJldHVybnMgYW4KICAvLyBvbGQtc3R5bGUgY2xhc3MtYm91bmQgZGVmaW5pdGlvbi4gVGhpcyBzYXZlcyB1cyBmcm9tIGhhdmluZwogIC8vIHRvIHJld3JpdGUgYWxsIHRoZSBsb2dpYyBpbiB0aGlzIGZpbGUgdG8gYWNjb21vZGF0ZSBib3RoCiAgLy8gdHlwZXMgb2YgZGVmaW5pdGlvbnMuCiAgZnVuY3Rpb24gY3JlYXRlTGVnYWN5RGVmaW5pdGlvbkFkYXB0ZXIoZGVmbikgewogICAgdmFyIHJlc3VsdCA9IHsKICAgICAgbmFtZTogZGVmbi5uYW1lLAogICAgICB0eXBlOiBkZWZuLnR5cGUsCiAgICAgIGluaXRpYWxpemU6IGZ1bmN0aW9uKGVsLCB3aWR0aCwgaGVpZ2h0KSB7CiAgICAgICAgcmV0dXJuIGRlZm4uZmFjdG9yeShlbCwgd2lkdGgsIGhlaWdodCk7CiAgICAgIH0sCiAgICAgIHJlbmRlclZhbHVlOiBmdW5jdGlvbihlbCwgeCwgaW5zdGFuY2UpIHsKICAgICAgICByZXR1cm4gaW5zdGFuY2UucmVuZGVyVmFsdWUoeCk7CiAgICAgIH0sCiAgICAgIHJlc2l6ZTogZnVuY3Rpb24oZWwsIHdpZHRoLCBoZWlnaHQsIGluc3RhbmNlKSB7CiAgICAgICAgcmV0dXJuIGluc3RhbmNlLnJlc2l6ZSh3aWR0aCwgaGVpZ2h0KTsKICAgICAgfQogICAgfTsKCiAgICBpZiAoZGVmbi5maW5kKQogICAgICByZXN1bHQuZmluZCA9IGRlZm4uZmluZDsKICAgIGlmIChkZWZuLnJlbmRlckVycm9yKQogICAgICByZXN1bHQucmVuZGVyRXJyb3IgPSBkZWZuLnJlbmRlckVycm9yOwogICAgaWYgKGRlZm4uY2xlYXJFcnJvcikKICAgICAgcmVzdWx0LmNsZWFyRXJyb3IgPSBkZWZuLmNsZWFyRXJyb3I7CgogICAgcmV0dXJuIHJlc3VsdDsKICB9Cn0pKCk7Cgo=\"></script>\n",
       "<script title=\"wordcloud2\" src=\"data:application/javascript;base64,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\"></script>\n",
       "<script title=\"wordcloud2\" src=\"data:application/javascript;base64,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\"></script>\n",
       "<link href=\"data:text/css;charset-utf-8;base64,DQojd2NMYWJlbCB7DQogIHBvc2l0aW9uOiBhYnNvbHV0ZTsNCiAgYm9yZGVyOiAycHggc29saWQgI2ZmZjsNCiAgYm94LXNoYWRvdzogMCAwIDRweCAwICMwMDg7DQogIHBhZGRpbmc6IDJweDsNCiAgLyptYXJnaW46IC00cHggMCAwIC00cHg7Ki8NCiAgcG9pbnRlci1ldmVudHM6IG5vbmU7IH0NCg0KI3djU3BhbiB7DQogIHBvc2l0aW9uOiBhYnNvbHV0ZTsNCiAgdG9wOiAxMDAlOw0KICBsZWZ0OiAwOw0KICBiYWNrZ3JvdW5kLWNvbG9yOiByZ2JhKDI1NSwgMjU1LCAyNTUsIDAuOCk7DQogIGNvbG9yOiAjMzMzOw0KICBtYXJnaW4tdG9wOiA2cHg7DQogIHBhZGRpbmc6IDAgMC41ZW07DQogIGJvcmRlci1yYWRpdXM6IDAuNWVtOw0KICB3aGl0ZS1zcGFjZTogbm93cmFwOyB9DQo=\" rel=\"stylesheet\" />\n",
       "<script title=\"wordcloud2-binding\" src=\"data:application/javascript;base64,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\"></script>\n",
       "\t</head>\n",
       "\t<body>\n",
       "\t\t<div id=\"htmlwidget-95e92bde5658db15b1e7\" style=\"width:960px;height:500px;\" class=\"wordcloud2 html-widget\"></div>\n",
       "<script type=\"application/json\" data-for=\"htmlwidget-95e92bde5658db15b1e7\">{\"x\":{\"word\":[\"aufnahmen…\",\"aus\",\"baustelle\",\"danke\",\"der\",\"die\",\"für\",\"geht\",\"gigaberlin\",\"gut\",\"httpstcovodxHo/stxughvhhe\",\"richtig\",\"schon\",\"sieht\",\"tollen\",\"voran\",\"🏗🏗🧱🧱auf\",\"fundamentfrage\",\"geklärt\",\"httpstcomacmiensb\",\"httpstcosvxhaihlk…\",\"liegt\",\"nicht\",\"nächster\",\"teilantrag\",\"vor\",\"weiter\",\"wohl\",\"behördenverbot\",\"elonmusk\",\"exzentrisc…\",\"fährt\",\"hoch\",\"httpstcoumfdwgdd\",\"kalifornisches\",\"sein\",\"sich\",\"sollte\",\"teslawerk\",\"trotz\",\"warum\",\"wieder\",\"grünheide…\",\"httpstcosvxhaihlk\",\"teslamag\",\"de…\",\"dieser\",\"fahren\",\"gelände\",\"güterzüge\",\"httpstcolljgqv\",\"laden\",\"mal\",\"mittlerweile\",\"schotter\",\"und\",\"vier\",\"wird\",\"woche\",\"zum\",\"anbindung\",\"angrenzende\",\"ans\",\"bereits\",\"direkt\",\"großer\",\"httpstcodglhpqv\",\"industriebahn\",\"tesla\",\"vorteil\",\"den\",\"gruenheidefutr\",\"s…\",\"auf\",\"bodenramme\",\"davon\",\"dem\",\"erste\",\"httpstcoejvivrworo\",\"nordwestlich\",\"seit\",\"sind\",\"steht\",\"tagem\",\"testpfähle\",\"zu…\",\"zwei\",\"akkus\",\"angeblich\",\"catl\",\"einer\",\"httpstcostxughvhhe\",\"kilometern\",\"kobalt\",\"lebensdauer\",\"millionen\",\"mit\",\"ohne\",\"und…\",\"von\"],\"freq\":[1,1,1,1,2,5,8,1,8,1,1,1,1,1,1,1,1,3,3,1,1,3,3,3,3,3,3,3,1,1,1,1,1,1,1,1,1,1,1,1,1,1,2,2,2,1,2,2,4,2,1,2,2,2,2,2,2,2,2,2,1,1,1,1,1,1,1,1,2,1,1,1,1,1,1,1,1,1,1,1,1,1,1,1,1,1,2,1,2,1,1,1,1,1,1,1,1,1,1,2],\"fontFamily\":\"Segoe UI\",\"fontWeight\":\"bold\",\"color\":\"random-dark\",\"minSize\":0,\"weightFactor\":22.5,\"backgroundColor\":\"white\",\"gridSize\":0,\"minRotation\":-0.785398163397448,\"maxRotation\":0.785398163397448,\"shuffle\":true,\"rotateRatio\":0.4,\"shape\":\"circle\",\"ellipticity\":0.65,\"figBase64\":null,\"hover\":null},\"evals\":[],\"jsHooks\":{\"render\":[{\"code\":\"function(el,x){\\n                        console.log(123);\\n                        if(!iii){\\n                          window.location.reload();\\n                          iii = False;\\n\\n                        }\\n  }\",\"data\":null}]}}</script>\n",
       "\t</body>\n",
       "</html>\n"
      ],
      "text/plain": [
       "HTML widgets cannot be represented in plain text (need html)"
      ]
     },
     "metadata": {
      "text/html": {
       "isolated": true
      }
     },
     "output_type": "display_data"
    }
   ],
   "source": [
    "wordcloud2(df, color = \"random-dark\", backgroundColor = \"white\")"
   ]
  },
  {
   "cell_type": "code",
   "execution_count": null,
   "metadata": {},
   "outputs": [],
   "source": [<img src=\"img/tesla.jpg\" width=\"width\" height=\"height\" style=\"padding-bottom:0.2em;\" />\n"]
  },
  {
   "cell_type": "code",
   "execution_count": null,
   "metadata": {},
   "outputs": [],
   "source": []
  }
 ],
 "metadata": {
  "kernelspec": {
   "display_name": "R",
   "language": "R",
   "name": "ir"
  },
  "language_info": {
   "codemirror_mode": "r",
   "file_extension": ".r",
   "mimetype": "text/x-r-source",
   "name": "R",
   "pygments_lexer": "r",
   "version": "3.6.1"
  }
 },
 "nbformat": 4,
 "nbformat_minor": 4
}


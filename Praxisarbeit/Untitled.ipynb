{
 "cells": [
  {
   "cell_type": "markdown",
   "metadata": {},
   "source": [
    "## Tesla-Fabrik in Ostbrandenburg. Modell für Sentiment Analyse \n",
    "####In Notebook wird gezeigt , wie mit dem Modell auf Legestischer Regression man Sentiment Analyse durchführen kann\n",
    "####Ziel ist über Sentiment Analyse verstehen, ob Einwohner in Berlin-Brandenburg echt für Tesla Gigafactory sind."
   ]
  },
  {
   "cell_type": "markdown",
   "metadata": {},
   "source": [
    "Ein gewisser Punkt der Arbeit ist Twitter API: \n",
    "API key\n",
    "API secret key\n",
    "Access token\n",
    "Access token secret"
   ]
  },
  {
   "cell_type": "code",
   "execution_count": 25,
   "metadata": {},
   "outputs": [],
   "source": [
    "appname <- \"Tesla_Deutschland\"\n",
    "requestURL <- \"https://api.twitter.com/oauth/request_token\"\n",
    "accessURL <- \"http://api.twitter.com/oauth/request_token\"\n",
    "authURL <- \"https://api.twitter.com/oauth/authorize\"\n",
    "consumerKey <- \"w0PvfM0RYDOiSE0wt5cGwGvsE\"\n",
    "consumerSecret <- \"86ICYBhyAXFJP0ptksNDC84IreCj5ra0wZzaAP9KLv8gnLTfny\"\n",
    "accessToken = \"1257760441759039491-DAa9FuFn6i9E5rOGhck6LHMRRfmP9Z\"\n",
    "accessSecret = \"mcRPGNHWWO5yd7oyxJoAppu2Yij5ZaiQyo9EbxmT1XCj8\""
   ]
  },
  {
   "cell_type": "code",
   "execution_count": 24,
   "metadata": {},
   "outputs": [],
   "source": [
    "library(\"devtools\")\n",
    "library(\"usethis\")\n",
    "library(\"pradadata\")\n",
    "library(\"tidyverse\")\n",
    "library(\"twitteR\")\n",
    "library(\"tm\")\n",
    "library(\"wordcloud\")"
   ]
  },
  {
   "cell_type": "code",
   "execution_count": 27,
   "metadata": {},
   "outputs": [],
   "source": [
    "#Authorisierung\n",
    "setup_twitter_oauth(consumer_key = consumerKey,\n",
    "                    consumer_secret = consumerSecret,\n",
    "                    access_token = accessToken,\n",
    "                    access_secret = accessSecret)\n",
    "#Das Suchen von Ergebnis. Max 10 blogs\n",
    "tweets <- searchTwitter(\"#GigaBerlin\" , lang =\"de\", n = 10)\n",
    "tweets"
   ]
  },
  {
   "cell_type": "markdown",
   "metadata": {},
   "source": [
    "[[1]]\n",
    "[1] \"JensWilhelm2: Berlin-Brandenburg, hier schon mal ein kleiner Vorgeschmack, was wohl passieren wird, wenn die Subventionen gefloss… https://t.co/Zg6fJiawIZ\"\n",
    "\n",
    "[[2]]\n",
    "[1] \"JensWilhelm2: \\\"Elon Musk wurde nicht wirklich ernst genommen\\\". Leider falsch, liebe @wiwo. Leider falsch. Elon Musk wurde viel zu… https://t.co/iFCUxhgvnI\"\n",
    "\n",
    "[[3]]\n",
    "[1] \"GermanTesla: RT @teslamag: Video: Erneut rege Bau-Vorbereitungen auf #Tesla-Grundstück für deutsche #Gigafactory https://t.co/xGIeJabhLb #Grünheide #Gig…\""
   ]
  },
  {
   "cell_type": "code",
   "execution_count": 28,
   "metadata": {},
   "outputs": [],
   "source": [
    "#Die Daten sind nicht bearbeitet und müssen aufbereitet werden. Die Codierung ist \"UTF8\"\n",
    "tweets%>%\n",
    "  twListToDF() -> tweets_df\n",
    "Encoding(tweets_df$text) <- \"UTF8\""
   ]
  },
  {
   "cell_type": "code",
   "execution_count": 29,
   "metadata": {},
   "outputs": [],
   "source": [
    "#Alle Daten werden in Corbus gespeichert für die weitere Filter \n",
    "corpus <- Corpus(VectorSource(tweets_df$text))\n",
    "clearCorpus <- tm_map(corpus,function(x) iconv(enc2utf8(x), sub = \"byte\"))"
   ]
  },
  {
   "cell_type": "code",
   "execution_count": 30,
   "metadata": {},
   "outputs": [],
   "source": [
    "tdm <- TermDocumentMatrix(clearCorpus, control = \n",
    "                            list(removePunctuation = TRUE,\n",
    "                                 stopwords = c(\"com\",\"https\",\"@\",\"\\xe\",\"?\"),\n",
    "                            removeNumbers = TRUE,\n",
    "                            tolower = TRUE))\n"
   ]
  },
  {
   "cell_type": "code",
   "execution_count": null,
   "metadata": {},
   "outputs": [],
   "source": [
    "<<TermDocumentMatrix (terms: 57, documents: 6)>>\n",
    "Non-/sparse entries: 81/261\n",
    "Sparsity           : 76%"
   ]
  },
  {
   "cell_type": "code",
   "execution_count": 31,
   "metadata": {},
   "outputs": [],
   "source": [
    "#Die Daten (Wörter) können über Word Cloud visualisiert werden\n",
    "m <- as.matrix(tdm)\n",
    "word_freqs <- sort(rowSums(m),decreasing = TRUE)\n",
    "dm <- data.frame(word=names(word_freqs),freq=word_freqs)\n",
    "dm"
   ]
  },
  {
   "cell_type": "markdown",
   "metadata": {},
   "source": [
    "                                                                     word freq\n",
    "auf                                                                   auf    4\n",
    "f\\xe3\\u0083\\xe2�r                              f<e3><U+0083><e2><U+00BC>r    4\n",
    "bauvorbereitungen                                       bauvorbereitungen    3\n",
    "deutsche                                                         deutsche    3\n",
    "erneut                                                             erneut    3\n",
    "gigafactory                                                   gigafactory    3\n",
    "rege                                                                 rege    3\n",
    "teslagrundst\\xe3\\u0083\\xe2�ck      teslagrundst<e3><U+0083><e2><U+00BC>ck    3\n",
    "video                                                               video    3\n",
    "elon                                                                 elon    2"
   ]
  },
  {
   "cell_type": "code",
   "execution_count": 23,
   "metadata": {},
   "outputs": [],
   "source": [
    "wordcloud(dm$word, dm$freq,scale = c(3,.5),\n",
    "          random.order = FALSE, colors = brewer.pal(8,\"Dark2\"))"
   ]
  }
 ],
 "metadata": {
  "kernelspec": {
   "display_name": "R",
   "language": "R",
   "name": "ir"
  },
  "language_info": {
   "codemirror_mode": "r",
   "file_extension": ".r",
   "mimetype": "text/x-r-source",
   "name": "R",
   "pygments_lexer": "r",
   "version": "3.6.1"
  }
 },
 "nbformat": 4,
 "nbformat_minor": 4
}
